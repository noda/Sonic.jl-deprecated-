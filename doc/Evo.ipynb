{
 "cells": [
  {
   "cell_type": "markdown",
   "metadata": {},
   "source": [
    "# Example use of the Sonic module Evo.jl"
   ]
  },
  {
   "cell_type": "markdown",
   "metadata": {},
   "source": [
    "See https://julialang.org, https://juliadb.org and https://juliastats.org for reference."
   ]
  },
  {
   "cell_type": "code",
   "execution_count": 1,
   "metadata": {},
   "outputs": [
    {
     "name": "stdout",
     "output_type": "stream",
     "text": [
      "\u001b[32m\u001b[1mActivating\u001b[22m\u001b[39m environment at `~/Documents/Calendar/Work/Noda/Code/Sonic.jl/Project.toml`\n"
     ]
    }
   ],
   "source": [
    "import Pkg                      # package manager\n",
    "Pkg.activate(\"..\")              # Project.toml\n",
    "Pkg.instantiate()               # https://julialang.github.io/Pkg.jl/v1.0/index.html"
   ]
  },
  {
   "cell_type": "code",
   "execution_count": 2,
   "metadata": {},
   "outputs": [],
   "source": [
    "import Dates, JuliaDB, Random, StatsPlots"
   ]
  },
  {
   "cell_type": "code",
   "execution_count": 3,
   "metadata": {},
   "outputs": [
    {
     "data": {
      "text/plain": [
       "Plots.GRBackend()"
      ]
     },
     "execution_count": 3,
     "metadata": {},
     "output_type": "execute_result"
    }
   ],
   "source": [
    "using StatsPlots\n",
    "ENV[\"GKSwstype\"] = \"100\"\n",
    "gr(fmt = :png)"
   ]
  },
  {
   "cell_type": "markdown",
   "metadata": {},
   "source": [
    "Get secret token,"
   ]
  },
  {
   "cell_type": "code",
   "execution_count": 4,
   "metadata": {},
   "outputs": [
    {
     "data": {
      "text/plain": [
       "(source = (endpoint = \"https://evo.elvaco.se/api/v1\", username = \"jens.brage@noda.se\", password = \"bV6CDHnC&tMm\"), target = \"db/evo/veab\")"
      ]
     },
     "execution_count": 4,
     "metadata": {},
     "output_type": "execute_result"
    }
   ],
   "source": [
    "include(\"../src/EvoSecrets.jl\")\n",
    "secret = EvoSecrets.veab"
   ]
  },
  {
   "cell_type": "markdown",
   "metadata": {},
   "source": [
    "Get access token,"
   ]
  },
  {
   "cell_type": "code",
   "execution_count": 60,
   "metadata": {},
   "outputs": [
    {
     "name": "stderr",
     "output_type": "stream",
     "text": [
      "WARNING: replacing module Evo.\n"
     ]
    },
    {
     "data": {
      "text/plain": [
       "(source = (endpoint = \"https://evo.elvaco.se/api/v1\", username = \"jens.brage@noda.se\", password = \"bV6CDHnC&tMm\"), target = \"db/evo/veab\", bearer = \"85f790f7-5f37-4695-8cbe-129b5ae3ff31\")"
      ]
     },
     "execution_count": 60,
     "metadata": {},
     "output_type": "execute_result"
    }
   ],
   "source": [
    "include(\"../src/Evo.jl\")\n",
    "access = Evo.get_access(secret)"
   ]
  },
  {
   "cell_type": "markdown",
   "metadata": {},
   "source": [
    "`GET https://evo.elvaco.se/api/v1/meters`,"
   ]
  },
  {
   "cell_type": "code",
   "execution_count": 75,
   "metadata": {},
   "outputs": [
    {
     "data": {
      "text/plain": [
       "(2017-12-01T00:00:00, 2019-12-01T00:00:00)"
      ]
     },
     "execution_count": 75,
     "metadata": {},
     "output_type": "execute_result"
    }
   ],
   "source": [
    "dates = Dates.DateTime(2017, 12), Dates.DateTime(2019, 12)"
   ]
  },
  {
   "cell_type": "code",
   "execution_count": 49,
   "metadata": {},
   "outputs": [
    {
     "name": "stdout",
     "output_type": "stream",
     "text": [
      "  1.230238 seconds (27.56 k allocations: 1.581 MiB)\n"
     ]
    },
    {
     "data": {
      "text/plain": [
       "Dict{String,Any} with 11 entries:\n",
       "  \"number\"           => 0\n",
       "  \"empty\"            => false\n",
       "  \"pageable\"         => Dict{String,Any}(\"pageSize\"=>50,\"unpaged\"=>false,\"sort\"…\n",
       "  \"totalPages\"       => 105\n",
       "  \"last\"             => false\n",
       "  \"content\"          => Any[Dict{String,Any}(\"gatewaySerial\"=>\"12133603\",\"addre…\n",
       "  \"totalElements\"    => 5221\n",
       "  \"first\"            => true\n",
       "  \"size\"             => 50\n",
       "  \"sort\"             => Dict{String,Any}(\"unsorted\"=>true,\"sorted\"=>false,\"empt…\n",
       "  \"numberOfElements\" => 50"
      ]
     },
     "execution_count": 49,
     "metadata": {},
     "output_type": "execute_result"
    }
   ],
   "source": [
    "@time meters = Evo.get_meters(access, dates..., 0)"
   ]
  },
  {
   "cell_type": "markdown",
   "metadata": {},
   "source": [
    "Get content,"
   ]
  },
  {
   "cell_type": "code",
   "execution_count": 50,
   "metadata": {},
   "outputs": [
    {
     "name": "stdout",
     "output_type": "stream",
     "text": [
      " 0, 1, 2, 3, 4, 5, 6, 7, 8, 9, 10, 11, 12, 13, 14, 15, 16, 17, 18, 19, 20, 21, 22, 23, 24, 25, 26, 27, 28, 29, 30, 31, 32, 33, 34, 35, 36, 37, 38, 39, 40, 41, 42, 43, 44, 45, 46, 47, 48, 49, 50, 51, 52, 53, 54, 55, 56, 57, 58, 59, 60, 61, 62, 63, 64, 65, 66, 67, 68, 69, 70, 71, 72, 73, 74, 75, 76, 77, 78, 79, 80, 81, 82, 83, 84, 85, 86, 87, 88, 89, 90, 91, 92, 93, 94, 95, 96, 97, 98, 99, 100, 101, 102, 103, 104, 105,126.930533 seconds (687.77 k allocations: 49.500 MiB, 0.03% gc time)\n"
     ]
    },
    {
     "data": {
      "text/plain": [
       "5221"
      ]
     },
     "execution_count": 50,
     "metadata": {},
     "output_type": "execute_result"
    }
   ],
   "source": [
    "@time content = Evo.get_content(access, dates...)\n",
    "length(content)"
   ]
  },
  {
   "cell_type": "code",
   "execution_count": 54,
   "metadata": {},
   "outputs": [
    {
     "data": {
      "text/plain": [
       "Table with 5221 rows, 10 columns:\n",
       "Columns:\n",
       "\u001b[1m#   \u001b[22m\u001b[1mcolname               \u001b[22m\u001b[1mtype\u001b[22m\n",
       "──────────────────────────────────────────\n",
       "1   collectionPercentage  Float64\n",
       "2   facility              Symbol\n",
       "3   gatewaySerial         Symbol\n",
       "4   id                    Symbol\n",
       "5   isReported            Bool\n",
       "6   location              Dict{String,Any}\n",
       "7   manufacturer          Symbol\n",
       "8   medium                Symbol\n",
       "9   organisationId        Symbol\n",
       "10  readIntervalMinutes   Int64"
      ]
     },
     "execution_count": 54,
     "metadata": {},
     "output_type": "execute_result"
    }
   ],
   "source": [
    "t = JuliaDB.table(content; pkey = :id)"
   ]
  },
  {
   "cell_type": "code",
   "execution_count": 57,
   "metadata": {},
   "outputs": [
    {
     "data": {
      "text/plain": [
       "(content = 5221,)"
      ]
     },
     "execution_count": 57,
     "metadata": {},
     "output_type": "execute_result"
    }
   ],
   "source": [
    "site = (content = t, )\n",
    "map(length, site)"
   ]
  },
  {
   "cell_type": "markdown",
   "metadata": {},
   "source": [
    "Save site,"
   ]
  },
  {
   "cell_type": "code",
   "execution_count": 58,
   "metadata": {},
   "outputs": [
    {
     "name": "stdout",
     "output_type": "stream",
     "text": [
      " 13.297115 seconds (11.51 M allocations: 716.593 MiB, 2.11% gc time)\n"
     ]
    }
   ],
   "source": [
    "@time Evo.savesite(secret; site...)"
   ]
  },
  {
   "cell_type": "markdown",
   "metadata": {},
   "source": [
    "Load site,"
   ]
  },
  {
   "cell_type": "code",
   "execution_count": 61,
   "metadata": {},
   "outputs": [
    {
     "name": "stdout",
     "output_type": "stream",
     "text": [
      "  0.157914 seconds (270.38 k allocations: 13.444 MiB)\n"
     ]
    },
    {
     "data": {
      "text/plain": [
       "(content = 5221,)"
      ]
     },
     "execution_count": 61,
     "metadata": {},
     "output_type": "execute_result"
    }
   ],
   "source": [
    "@time site = Evo.loadsite(secret, :content)\n",
    "map(length, site)"
   ]
  },
  {
   "cell_type": "markdown",
   "metadata": {},
   "source": [
    "Specify patterns,"
   ]
  },
  {
   "cell_type": "code",
   "execution_count": 68,
   "metadata": {},
   "outputs": [
    {
     "data": {
      "text/plain": [
       "Dict{Symbol,typeof(identity)} with 6 entries:\n",
       "  :Energy                       => identity\n",
       "  :Volume                       => identity\n",
       "  Symbol(\"Return temperature\")  => identity\n",
       "  :Flow                         => identity\n",
       "  Symbol(\"Forward temperature\") => identity\n",
       "  :Power                        => identity"
      ]
     },
     "execution_count": 68,
     "metadata": {},
     "output_type": "execute_result"
    }
   ],
   "source": [
    "pattern = Dict(\n",
    "    Symbol(\"Energy\")                => identity,\n",
    "    Symbol(\"Flow\")                  => identity,\n",
    "    Symbol(\"Forward temperature\")   => identity,\n",
    "    Symbol(\"Power\")                 => identity,\n",
    "    Symbol(\"Return temperature\")    => identity,\n",
    "    Symbol(\"Volume\")                => identity,\n",
    ")"
   ]
  },
  {
   "cell_type": "markdown",
   "metadata": {},
   "source": [
    "Get pattern nodes,"
   ]
  },
  {
   "cell_type": "code",
   "execution_count": 71,
   "metadata": {},
   "outputs": [
    {
     "data": {
      "text/plain": [
       "1"
      ]
     },
     "execution_count": 71,
     "metadata": {},
     "output_type": "execute_result"
    }
   ],
   "source": [
    "rs = site.content # JuliaDB.rows(Evo.get_pattern_nodes(patterns; site...))\n",
    "if true\n",
    "    rs = [(id = Symbol(\"0016a5f0-ff31-4dda-9465-0aaf841ce2dd\"), )] # [rs[Random.rand(1 : end)]]\n",
    "end\n",
    "length(rs)"
   ]
  },
  {
   "cell_type": "markdown",
   "metadata": {},
   "source": [
    "Save data,"
   ]
  },
  {
   "cell_type": "code",
   "execution_count": 76,
   "metadata": {},
   "outputs": [
    {
     "name": "stdout",
     "output_type": "stream",
     "text": [
      "db/evo/veab/data/0016a5f0-ff31-4dda-9465-0aaf841ce2dd/Energy.db: ErrorException(\"type NamedTuple has no field endpoint\")\n",
      "db/evo/veab/data/0016a5f0-ff31-4dda-9465-0aaf841ce2dd/Volume.db: ErrorException(\"type NamedTuple has no field endpoint\")\n",
      "db/evo/veab/data/0016a5f0-ff31-4dda-9465-0aaf841ce2dd/Return temperature.db: ErrorException(\"type NamedTuple has no field endpoint\")\n",
      "db/evo/veab/data/0016a5f0-ff31-4dda-9465-0aaf841ce2dd/Flow.db: ErrorException(\"type NamedTuple has no field endpoint\")\n",
      "db/evo/veab/data/0016a5f0-ff31-4dda-9465-0aaf841ce2dd/Forward temperature.db: ErrorException(\"type NamedTuple has no field endpoint\")\n",
      "db/evo/veab/data/0016a5f0-ff31-4dda-9465-0aaf841ce2dd/Power.db: ErrorException(\"type NamedTuple has no field endpoint\")\n",
      "  1.213829 seconds (2.41 M allocations: 126.966 MiB, 4.87% gc time)\n"
     ]
    }
   ],
   "source": [
    "@time for r in rs\n",
    "    for sensor_name in keys(pattern)\n",
    "        p = secret.target\n",
    "        p = Evo.dbpath(p, \"data\", r.id; db = sensor_name)\n",
    "        if !isfile(p)\n",
    "            try\n",
    "                Evo.savedata(access, r.id, sensor_name, dates)\n",
    "                println(\"$(p): Done\")\n",
    "            catch e\n",
    "                if typeof(e) <: InterruptException\n",
    "                    rethrow(e)\n",
    "                end\n",
    "                println(\"$(p): $(e)\")\n",
    "            end\n",
    "        end\n",
    "    end\n",
    "end"
   ]
  },
  {
   "cell_type": "markdown",
   "metadata": {},
   "source": [
    "Random choice,"
   ]
  },
  {
   "cell_type": "code",
   "execution_count": null,
   "metadata": {},
   "outputs": [],
   "source": [
    "r = rs[Random.rand(1 : end)]"
   ]
  },
  {
   "cell_type": "code",
   "execution_count": null,
   "metadata": {},
   "outputs": [],
   "source": [
    "sensor_names = collect(keys(patterns[r.device_id]))"
   ]
  },
  {
   "cell_type": "code",
   "execution_count": null,
   "metadata": {},
   "outputs": [],
   "source": [
    "sensor_name = sensor_names[Random.rand(1 : end)]"
   ]
  },
  {
   "cell_type": "markdown",
   "metadata": {},
   "source": [
    "Load data,"
   ]
  },
  {
   "cell_type": "code",
   "execution_count": null,
   "metadata": {},
   "outputs": [],
   "source": [
    "data = Linckii.loaddata(secret, r.node_id, sensor_name)"
   ]
  },
  {
   "cell_type": "markdown",
   "metadata": {},
   "source": [
    "Simple graphics,"
   ]
  },
  {
   "cell_type": "code",
   "execution_count": null,
   "metadata": {},
   "outputs": [],
   "source": [
    "@df data plot(:datetime, :value, label = Linckii.dbpath(r.node_id; db = sensor_name))"
   ]
  },
  {
   "cell_type": "code",
   "execution_count": null,
   "metadata": {},
   "outputs": [],
   "source": []
  }
 ],
 "metadata": {
  "kernelspec": {
   "display_name": "Julia 1.3.0",
   "language": "julia",
   "name": "julia-1.3"
  },
  "language_info": {
   "file_extension": ".jl",
   "mimetype": "application/julia",
   "name": "julia",
   "version": "1.3.0"
  }
 },
 "nbformat": 4,
 "nbformat_minor": 4
}
