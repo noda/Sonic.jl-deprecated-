{
 "cells": [
  {
   "cell_type": "markdown",
   "metadata": {},
   "source": [
    "# Example use of the Julia module Sonic.Nodosus\n",
    "\n",
    "Note that the module depends on another module ```LinckiiSecrets``` for authentication, which is not part of the Git repository, and has to be added by hand."
   ]
  },
  {
   "cell_type": "code",
   "execution_count": 17,
   "metadata": {},
   "outputs": [
    {
     "name": "stdout",
     "output_type": "stream",
     "text": [
      "\u001b[32m\u001b[1mActivating\u001b[22m\u001b[39m environment at `~/Documents/Calendar/Work/Noda/Code/Sonic.jl/Project.toml`\n"
     ]
    },
    {
     "name": "stderr",
     "output_type": "stream",
     "text": [
      "WARNING: replacing module Sonic.\n"
     ]
    },
    {
     "data": {
      "text/plain": [
       "Main.Sonic"
      ]
     },
     "execution_count": 17,
     "metadata": {},
     "output_type": "execute_result"
    }
   ],
   "source": [
    "import Pkg                      # package manager\n",
    "Pkg.activate(\"..\")              # Project.toml\n",
    "Pkg.instantiate()               # https://julialang.github.io/Pkg.jl/v1.0/index.html\n",
    "include(\"../src/Sonic.jl\")      # project main module"
   ]
  },
  {
   "cell_type": "code",
   "execution_count": 19,
   "metadata": {},
   "outputs": [],
   "source": [
    "import JuliaDB, Plots, Random"
   ]
  },
  {
   "cell_type": "markdown",
   "metadata": {},
   "source": [
    "Load data,"
   ]
  },
  {
   "cell_type": "code",
   "execution_count": 4,
   "metadata": {},
   "outputs": [
    {
     "name": "stdout",
     "output_type": "stream",
     "text": [
      "  8.850709 seconds (10.96 M allocations: 640.452 MiB, 3.21% gc time)\n"
     ]
    },
    {
     "data": {
      "text/plain": [
       "Table with 140344 rows, 5 columns:\n",
       "\u001b[1mnode_id  \u001b[22m\u001b[1msensor_name        \u001b[22m\u001b[1mdatetime             \u001b[22mtimezone  value\n",
       "────────────────────────────────────────────────────────────────\n",
       "1        :meter_effect      2019-09-01T00:06:02  2 hours   13\n",
       "1        :meter_effect      2019-09-01T00:16:02  2 hours   13\n",
       "1        :meter_effect      2019-09-01T00:26:02  2 hours   13\n",
       "1        :meter_effect      2019-09-01T00:36:03  2 hours   13\n",
       "1        :meter_effect      2019-09-01T00:46:03  2 hours   13\n",
       "1        :meter_effect      2019-09-01T00:56:02  2 hours   13\n",
       "1        :meter_effect      2019-09-01T01:06:02  2 hours   13\n",
       "1        :meter_effect      2019-09-01T01:16:02  2 hours   14\n",
       "1        :meter_effect      2019-09-01T01:26:03  2 hours   14\n",
       "1        :meter_effect      2019-09-01T01:46:02  2 hours   13\n",
       "1        :meter_effect      2019-09-01T01:56:02  2 hours   13\n",
       "1        :meter_effect      2019-09-01T02:06:03  2 hours   13\n",
       "⋮\n",
       "20       :meter_volumeflow  2019-10-31T22:20:03  1 hour    972\n",
       "20       :meter_volumeflow  2019-10-31T22:30:03  1 hour    996\n",
       "20       :meter_volumeflow  2019-10-31T22:40:03  1 hour    1014\n",
       "20       :meter_volumeflow  2019-10-31T22:50:03  1 hour    1050\n",
       "20       :meter_volumeflow  2019-10-31T22:55:02  1 hour    1032\n",
       "20       :meter_volumeflow  2019-10-31T23:10:04  1 hour    996\n",
       "20       :meter_volumeflow  2019-10-31T23:20:03  1 hour    1008\n",
       "20       :meter_volumeflow  2019-10-31T23:30:03  1 hour    1008\n",
       "20       :meter_volumeflow  2019-10-31T23:40:02  1 hour    978\n",
       "20       :meter_volumeflow  2019-10-31T23:50:03  1 hour    1038\n",
       "20       :meter_volumeflow  2019-10-31T23:55:02  1 hour    1080"
      ]
     },
     "execution_count": 4,
     "metadata": {},
     "output_type": "execute_result"
    }
   ],
   "source": [
    "@time data = JuliaDB.load(\"Example Sonic.Linckii.db\")"
   ]
  },
  {
   "cell_type": "code",
   "execution_count": 21,
   "metadata": {},
   "outputs": [
    {
     "data": {
      "text/plain": [
       "Table with 6 rows, 3 columns:\n",
       "x  y  z\n",
       "───────\n",
       "1  1  1\n",
       "1  1  2\n",
       "1  2  3\n",
       "2  2  4\n",
       "2  1  5\n",
       "2  1  6"
      ]
     },
     "execution_count": 21,
     "metadata": {},
     "output_type": "execute_result"
    }
   ],
   "source": [
    "t = JuliaDB.table([1,1,1,2,2,2], [1,1,2,2,1,1], [1,2,3,4,5,6], names=[:x,:y,:z])"
   ]
  },
  {
   "cell_type": "code",
   "execution_count": 23,
   "metadata": {},
   "outputs": [
    {
     "data": {
      "text/plain": [
       "Table with 4 rows, 3 columns:\n",
       "\u001b[1mx  \u001b[22m\u001b[1my  \u001b[22midentity\n",
       "──────────────\n",
       "1  1  [1, 2]\n",
       "1  2  [3]\n",
       "2  1  [5, 6]\n",
       "2  2  [4]"
      ]
     },
     "execution_count": 23,
     "metadata": {},
     "output_type": "execute_result"
    }
   ],
   "source": [
    "JuliaDB.groupby(identity, t, (:x, :y), select=:z)"
   ]
  },
  {
   "cell_type": "code",
   "execution_count": null,
   "metadata": {},
   "outputs": [],
   "source": []
  }
 ],
 "metadata": {
  "kernelspec": {
   "display_name": "Julia 1.3.0",
   "language": "julia",
   "name": "julia-1.3"
  },
  "language_info": {
   "file_extension": ".jl",
   "mimetype": "application/julia",
   "name": "julia",
   "version": "1.3.0"
  }
 },
 "nbformat": 4,
 "nbformat_minor": 4
}
