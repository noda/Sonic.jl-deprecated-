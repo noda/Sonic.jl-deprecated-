{
 "cells": [
  {
   "cell_type": "markdown",
   "metadata": {},
   "source": [
    "# Example use of the Sonic module Linckii.jl"
   ]
  },
  {
   "cell_type": "markdown",
   "metadata": {},
   "source": [
    "* https://juliadb.org\n",
    "* https://julialang.org\n",
    "* https://juliastats.org"
   ]
  },
  {
   "cell_type": "code",
   "execution_count": 2,
   "metadata": {},
   "outputs": [
    {
     "name": "stdout",
     "output_type": "stream",
     "text": [
      "\u001b[32m\u001b[1mActivating\u001b[22m\u001b[39m environment at `~/Documents/Calendar/Work/Noda/Code/Sonic.jl/Project.toml`\n"
     ]
    }
   ],
   "source": [
    "import Pkg                      # package manager\n",
    "Pkg.activate(\"..\")              # Project.toml\n",
    "Pkg.instantiate()               # https://julialang.github.io/Pkg.jl/v1.0/index.html"
   ]
  },
  {
   "cell_type": "code",
   "execution_count": 3,
   "metadata": {},
   "outputs": [],
   "source": [
    "import Dates, JuliaDB, Random, StatsPlots"
   ]
  },
  {
   "cell_type": "code",
   "execution_count": 4,
   "metadata": {},
   "outputs": [
    {
     "data": {
      "text/plain": [
       "Plots.GRBackend()"
      ]
     },
     "execution_count": 4,
     "metadata": {},
     "output_type": "execute_result"
    }
   ],
   "source": [
    "using StatsPlots\n",
    "ENV[\"GKSwstype\"] = \"100\"\n",
    "gr(fmt = :png)"
   ]
  },
  {
   "cell_type": "code",
   "execution_count": 5,
   "metadata": {},
   "outputs": [
    {
     "data": {
      "text/plain": [
       "Main.LinckiiSecrets"
      ]
     },
     "execution_count": 5,
     "metadata": {},
     "output_type": "execute_result"
    }
   ],
   "source": [
    "include(\"../src/Linckii.jl\")\n",
    "include(\"../src/LinckiiSecrets.jl\")"
   ]
  },
  {
   "cell_type": "markdown",
   "metadata": {},
   "source": [
    "Get access token,"
   ]
  },
  {
   "cell_type": "code",
   "execution_count": 12,
   "metadata": {},
   "outputs": [
    {
     "name": "stdout",
     "output_type": "stream",
     "text": [
      "  0.000005 seconds (4 allocations: 160 bytes)\n"
     ]
    },
    {
     "data": {
      "text/plain": [
       "(url = \"https://canary.noda.se/~keab\", key = \"e86d93131e6bc12ae701d036e696cf8b\")"
      ]
     },
     "execution_count": 12,
     "metadata": {},
     "output_type": "execute_result"
    }
   ],
   "source": [
    "@time access = Linckii.get_access(LinckiiSecrets.keab)"
   ]
  },
  {
   "cell_type": "markdown",
   "metadata": {},
   "source": [
    "`GET https://canary.noda.se/~keab/api/v1/nodes`,"
   ]
  },
  {
   "cell_type": "code",
   "execution_count": 13,
   "metadata": {},
   "outputs": [
    {
     "name": "stdout",
     "output_type": "stream",
     "text": [
      "  2.772929 seconds (16.28 k allocations: 1.317 MiB)\n"
     ]
    },
    {
     "data": {
      "text/plain": [
       "Table with 279 rows, 8 columns:\n",
       "Columns:\n",
       "\u001b[1m#  \u001b[22m\u001b[1mcolname           \u001b[22m\u001b[1mtype\u001b[22m\n",
       "─────────────────────────────────\n",
       "1  node_public       Bool\n",
       "2  node_name         String\n",
       "3  device_id         Int64\n",
       "4  node_id           Int64\n",
       "5  node_owner        Bool\n",
       "6  node_enabled      Bool\n",
       "7  sensor_ids        Array{Any,1}\n",
       "8  node_description  String"
      ]
     },
     "execution_count": 13,
     "metadata": {},
     "output_type": "execute_result"
    }
   ],
   "source": [
    "@time site_nodes = Linckii.get_nodes(access)"
   ]
  },
  {
   "cell_type": "markdown",
   "metadata": {},
   "source": [
    "`GET https://canary.noda.se/~keab/api/v1/devices`,"
   ]
  },
  {
   "cell_type": "code",
   "execution_count": 14,
   "metadata": {},
   "outputs": [
    {
     "name": "stdout",
     "output_type": "stream",
     "text": [
      "  0.988093 seconds (1.00 k allocations: 51.016 KiB)\n"
     ]
    },
    {
     "data": {
      "text/plain": [
       "Table with 11 rows, 3 columns:\n",
       "protocol_id  device_name             \u001b[1mdevice_id\u001b[22m\n",
       "──────────────────────────────────────────────\n",
       "1            \"Kelp-IQHeat\"           1\n",
       "2            \"Scout\"                 2\n",
       "1            \"Kelp-Basic\"            4\n",
       "5            \"Weather-Forecast\"      6\n",
       "6            \"Grid-Basic\"            7\n",
       "6            \"Grid-Controller\"       8\n",
       "7            \"Heat-Load-Forecast\"    9\n",
       "2            \"CMa1Xw\"                10\n",
       "2            \"EcoGuard Sensor\"       11\n",
       "2            \"WEPTech\"               12\n",
       "8            \"Flexibility-Forecast\"  13"
      ]
     },
     "execution_count": 14,
     "metadata": {},
     "output_type": "execute_result"
    }
   ],
   "source": [
    "@time site_devices = Linckii.get_devices(access)"
   ]
  },
  {
   "cell_type": "markdown",
   "metadata": {},
   "source": [
    "`GET https://canary.noda.se/~keab/api/v1/sensors`,"
   ]
  },
  {
   "cell_type": "code",
   "execution_count": 15,
   "metadata": {},
   "outputs": [
    {
     "name": "stdout",
     "output_type": "stream",
     "text": [
      "  1.741072 seconds (7.86 k allocations: 539.734 KiB)\n"
     ]
    },
    {
     "data": {
      "text/plain": [
       "Table with 175 rows, 5 columns:\n",
       "Columns:\n",
       "\u001b[1m#  \u001b[22m\u001b[1mcolname             \u001b[22m\u001b[1mtype\u001b[22m\n",
       "────────────────────────────────\n",
       "1  sensor_unit         FreeUnits\n",
       "2  sensor_name         Symbol\n",
       "3  protocol_id         Int64\n",
       "4  sensor_id           Int64\n",
       "5  sensor_description  String"
      ]
     },
     "execution_count": 15,
     "metadata": {},
     "output_type": "execute_result"
    }
   ],
   "source": [
    "@time site_sensors = Linckii.get_sensors(access)"
   ]
  },
  {
   "cell_type": "code",
   "execution_count": 16,
   "metadata": {},
   "outputs": [
    {
     "data": {
      "text/plain": [
       "()"
      ]
     },
     "execution_count": 16,
     "metadata": {},
     "output_type": "execute_result"
    }
   ],
   "source": [
    "site = (:nodes => site_nodes, :devices => site_devices, :sensors => site_sensors)\n",
    "()"
   ]
  },
  {
   "cell_type": "markdown",
   "metadata": {},
   "source": [
    "Save site,"
   ]
  },
  {
   "cell_type": "code",
   "execution_count": 17,
   "metadata": {},
   "outputs": [
    {
     "name": "stdout",
     "output_type": "stream",
     "text": [
      "  3.063765 seconds (7.63 M allocations: 388.582 MiB, 3.96% gc time)\n"
     ]
    }
   ],
   "source": [
    "@time Linckii.savesite(access; site...)"
   ]
  },
  {
   "cell_type": "markdown",
   "metadata": {},
   "source": [
    "Load site,"
   ]
  },
  {
   "cell_type": "code",
   "execution_count": 18,
   "metadata": {},
   "outputs": [
    {
     "name": "stdout",
     "output_type": "stream",
     "text": [
      "  0.061139 seconds (71.72 k allocations: 3.699 MiB)\n"
     ]
    },
    {
     "data": {
      "text/plain": [
       "()"
      ]
     },
     "execution_count": 18,
     "metadata": {},
     "output_type": "execute_result"
    }
   ],
   "source": [
    "@time site = Linckii.loadsite(access, :nodes, :devices, :sensors)\n",
    "()"
   ]
  },
  {
   "cell_type": "code",
   "execution_count": 19,
   "metadata": {},
   "outputs": [
    {
     "data": {
      "text/plain": [
       "()"
      ]
     },
     "execution_count": 19,
     "metadata": {},
     "output_type": "execute_result"
    }
   ],
   "source": [
    "device_name = Linckii.get_cref(site.devices, :device_id, :device_name)\n",
    "device_id   = Linckii.get_cref(site.devices, :device_name, :device_id)\n",
    "()"
   ]
  },
  {
   "cell_type": "code",
   "execution_count": 20,
   "metadata": {},
   "outputs": [
    {
     "data": {
      "text/plain": [
       "()"
      ]
     },
     "execution_count": 20,
     "metadata": {},
     "output_type": "execute_result"
    }
   ],
   "source": [
    "sensor_name = Linckii.get_cref(site.sensors, :sensor_id, :sensor_name)\n",
    "()"
   ]
  },
  {
   "cell_type": "markdown",
   "metadata": {},
   "source": [
    "Select data,"
   ]
  },
  {
   "cell_type": "code",
   "execution_count": 35,
   "metadata": {},
   "outputs": [
    {
     "data": {
      "text/plain": [
       "Dict{Int64,Set{Symbol}} with 2 entries:\n",
       "  4 => Set(Symbol[:meter_primreturntemp, :meter_effect, :outdoortemp, :meter_pr…\n",
       "  6 => Set(Symbol[:cloudiness, :outdoortemp, :wind_direction, :wind_speed])"
      ]
     },
     "execution_count": 35,
     "metadata": {},
     "output_type": "execute_result"
    }
   ],
   "source": [
    "selected_sensor_names = Dict(\n",
    "    device_id[\"Kelp-Basic\"] => [\n",
    "        :meter_effect,\n",
    "        :meter_heatenergy,\n",
    "        :meter_primreturntemp,\n",
    "        :meter_primsupplytemp,\n",
    "        :meter_volume,\n",
    "        :meter_volumeflow,\n",
    "        :outdoortemp,\n",
    "        :outdoortemp_offset,\n",
    "    ],\n",
    "    device_id[\"Weather-Forecast\"] => [\n",
    "        :cloudiness,\n",
    "        :outdoortemp,\n",
    "        :wind_direction,\n",
    "        :wind_speed,\n",
    "    ],\n",
    ")"
   ]
  },
  {
   "cell_type": "code",
   "execution_count": 53,
   "metadata": {},
   "outputs": [
    {
     "data": {
      "text/plain": [
       "Table with 85 rows, 8 columns:\n",
       "Columns:\n",
       "\u001b[1m#  \u001b[22m\u001b[1mcolname           \u001b[22m\u001b[1mtype\u001b[22m\n",
       "─────────────────────────────────\n",
       "1  node_public       Bool\n",
       "2  node_name         String\n",
       "3  device_id         Int64\n",
       "4  node_id           Int64\n",
       "5  node_owner        Bool\n",
       "6  node_enabled      Bool\n",
       "7  sensor_ids        Array{Any,1}\n",
       "8  node_description  String"
      ]
     },
     "execution_count": 53,
     "metadata": {},
     "output_type": "execute_result"
    }
   ],
   "source": [
    "selected_nodes = JuliaDB.filter(\n",
    "    r -> (\n",
    "        r.device_id in keys(selected_sensor_names) &&\n",
    "        Set(sensor_name[r_sensor_id] for r_sensor_id in r.sensor_ids) >= Set(selected_sensor_names[r.device_id])\n",
    "    ),\n",
    "    site.nodes,\n",
    ")"
   ]
  },
  {
   "cell_type": "markdown",
   "metadata": {},
   "source": [
    "Save data,"
   ]
  },
  {
   "cell_type": "code",
   "execution_count": 25,
   "metadata": {},
   "outputs": [
    {
     "data": {
      "text/plain": [
       "2017-12-01T00:00:00:1 month:2019-12-01T00:00:00"
      ]
     },
     "execution_count": 25,
     "metadata": {},
     "output_type": "execute_result"
    }
   ],
   "source": [
    "dates = Dates.DateTime(2017, 12) : Dates.Month(1) : Dates.DateTime(2019, 12)"
   ]
  },
  {
   "cell_type": "code",
   "execution_count": 38,
   "metadata": {},
   "outputs": [
    {
     "name": "stdout",
     "output_type": "stream",
     "text": [
      "db/linckii/~keab/data/93/meter_primreturntemp.db: Done\n",
      "db/linckii/~keab/data/93/meter_effect.db: Done\n",
      "db/linckii/~keab/data/93/outdoortemp.db: Done\n",
      "db/linckii/~keab/data/93/meter_primsupplytemp.db: Done\n",
      "db/linckii/~keab/data/93/meter_volumeflow.db: Done\n",
      "db/linckii/~keab/data/93/meter_volume.db: Done\n",
      "db/linckii/~keab/data/93/outdoortemp_offset.db: Done\n",
      "db/linckii/~keab/data/93/meter_heatenergy.db: Done\n",
      "255.468417 seconds (33.11 M allocations: 1.704 GiB, 0.21% gc time)\n"
     ]
    }
   ],
   "source": [
    "rs = JuliaDB.rows(selected_nodes)\n",
    "if true\n",
    "    rs = [rs[Random.rand(1 : end)]]\n",
    "end\n",
    "@time for r in rs\n",
    "    for r_sensor_name in selected_sensor_names[r.device_id]\n",
    "        filepath = \"$(Linckii.datapath(access, r.node_id, r_sensor_name)).db\"\n",
    "        try\n",
    "            Linckii.savedata(access, r.node_id, r_sensor_name, dates...)\n",
    "            println(\"$(filepath): Done\")\n",
    "        catch e\n",
    "            println(\"$(filepath): $(e)\")\n",
    "        end\n",
    "    end\n",
    "end"
   ]
  },
  {
   "cell_type": "markdown",
   "metadata": {},
   "source": [
    "Load data,"
   ]
  },
  {
   "cell_type": "code",
   "execution_count": 39,
   "metadata": {},
   "outputs": [
    {
     "data": {
      "text/plain": [
       "(93, 4)"
      ]
     },
     "execution_count": 39,
     "metadata": {},
     "output_type": "execute_result"
    }
   ],
   "source": [
    "r = JuliaDB.rows(selected_nodes)[Random.rand(1 : end)]\n",
    "r_node_id, r_device_id = 93, 4 # r.node_id, r.device_id"
   ]
  },
  {
   "cell_type": "code",
   "execution_count": 49,
   "metadata": {},
   "outputs": [
    {
     "data": {
      "text/plain": [
       ":meter_effect"
      ]
     },
     "execution_count": 49,
     "metadata": {},
     "output_type": "execute_result"
    }
   ],
   "source": [
    "r_sensor_name = collect(selected_sensor_names[r_device_id])[Random.rand(1 : end)]"
   ]
  },
  {
   "cell_type": "code",
   "execution_count": 50,
   "metadata": {},
   "outputs": [
    {
     "data": {
      "text/plain": [
       "Table with 48572 rows, 3 columns:\n",
       "\u001b[1mdatetime             \u001b[22mvariable       value\n",
       "─────────────────────────────────────────\n",
       "2018-02-14T12:58:06  :meter_effect  45.78\n",
       "2018-02-14T13:08:06  :meter_effect  46.02\n",
       "2018-02-14T13:18:06  :meter_effect  62.8\n",
       "2018-02-14T13:28:05  :meter_effect  62.94\n",
       "2018-02-14T13:38:06  :meter_effect  38.65\n",
       "2018-02-14T13:48:13  :meter_effect  83.4\n",
       "2018-02-14T13:58:06  :meter_effect  44.31\n",
       "2018-02-14T14:08:05  :meter_effect  44.6\n",
       "2018-02-14T14:18:14  :meter_effect  26.17\n",
       "2018-02-14T14:28:06  :meter_effect  62.12\n",
       "2018-02-14T14:38:06  :meter_effect  42.33\n",
       "2018-02-14T14:48:05  :meter_effect  42.65\n",
       "⋮\n",
       "2019-03-28T06:28:14  :meter_effect  42.39\n",
       "2019-03-28T06:38:05  :meter_effect  32.0\n",
       "2019-03-28T06:48:21  :meter_effect  35.62\n",
       "2019-03-28T06:58:13  :meter_effect  60.58\n",
       "2019-03-28T07:08:06  :meter_effect  35.64\n",
       "2019-03-28T07:18:04  :meter_effect  35.03\n",
       "2019-03-28T07:28:05  :meter_effect  30.62\n",
       "2019-03-28T07:38:05  :meter_effect  26.64\n",
       "2019-03-28T07:48:04  :meter_effect  0.0\n",
       "2019-03-28T07:58:05  :meter_effect  0.0\n",
       "2019-03-28T08:08:06  :meter_effect  0.0"
      ]
     },
     "execution_count": 50,
     "metadata": {},
     "output_type": "execute_result"
    }
   ],
   "source": [
    "data = Linckii.loaddata(access, r_node_id, r_sensor_name)"
   ]
  },
  {
   "cell_type": "markdown",
   "metadata": {},
   "source": [
    "Simple plot,"
   ]
  },
  {
   "cell_type": "code",
   "execution_count": 52,
   "metadata": {},
   "outputs": [
    {
     "data": {
      "image/png": "[encoded data removed]"
     },
     "execution_count": 52,
     "metadata": {},
     "output_type": "execute_result"
    }
   ],
   "source": [
    "@df data plot(:datetime, :value, label = Linckii.datapath(access, r_node_id, r_sensor_name))"
   ]
  },
  {
   "cell_type": "code",
   "execution_count": null,
   "metadata": {},
   "outputs": [],
   "source": []
  }
 ],
 "metadata": {
  "kernelspec": {
   "display_name": "Julia 1.3.0",
   "language": "julia",
   "name": "julia-1.3"
  },
  "language_info": {
   "file_extension": ".jl",
   "mimetype": "application/julia",
   "name": "julia",
   "version": "1.3.0"
  }
 },
 "nbformat": 4,
 "nbformat_minor": 4
}
