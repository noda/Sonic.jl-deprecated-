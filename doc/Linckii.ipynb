{
 "cells": [
  {
   "cell_type": "markdown",
   "metadata": {},
   "source": [
    "# Example use of the Sonic module Linckii.jl"
   ]
  },
  {
   "cell_type": "code",
   "execution_count": 1,
   "metadata": {},
   "outputs": [
    {
     "name": "stdout",
     "output_type": "stream",
     "text": [
      "\u001b[32m\u001b[1mActivating\u001b[22m\u001b[39m environment at `~/Documents/Calendar/Work/Noda/Code/Sonic.jl/Project.toml`\n"
     ]
    }
   ],
   "source": [
    "import Pkg                      # package manager\n",
    "Pkg.activate(\"..\")              # Project.toml\n",
    "Pkg.instantiate()               # https://julialang.github.io/Pkg.jl/v1.0/index.html"
   ]
  },
  {
   "cell_type": "code",
   "execution_count": 2,
   "metadata": {},
   "outputs": [],
   "source": [
    "import Dates, JuliaDB, Plots, Random"
   ]
  },
  {
   "cell_type": "code",
   "execution_count": 3,
   "metadata": {},
   "outputs": [],
   "source": [
    "# Random.seed!(Dates.value(Dates.now()))"
   ]
  },
  {
   "cell_type": "code",
   "execution_count": 4,
   "metadata": {},
   "outputs": [
    {
     "data": {
      "text/plain": [
       "Main.LinckiiSecrets"
      ]
     },
     "execution_count": 4,
     "metadata": {},
     "output_type": "execute_result"
    }
   ],
   "source": [
    "include(\"../src/Linckii.jl\")\n",
    "include(\"../src/LinckiiSecrets.jl\")"
   ]
  },
  {
   "cell_type": "markdown",
   "metadata": {},
   "source": [
    "Get access token,"
   ]
  },
  {
   "cell_type": "code",
   "execution_count": 5,
   "metadata": {},
   "outputs": [
    {
     "data": {
      "text/plain": [
       "(url = \"https://canary.noda.se/~keab\", key = \"e86d93131e6bc12ae701d036e696cf8b\")"
      ]
     },
     "execution_count": 5,
     "metadata": {},
     "output_type": "execute_result"
    }
   ],
   "source": [
    "access = Linckii.get_access(LinckiiSecrets.keab)"
   ]
  },
  {
   "cell_type": "markdown",
   "metadata": {},
   "source": [
    "GET \"https://canary.noda.se/$site_name/api/v1/node\""
   ]
  },
  {
   "cell_type": "code",
   "execution_count": 6,
   "metadata": {},
   "outputs": [
    {
     "name": "stdout",
     "output_type": "stream",
     "text": [
      " 31.187422 seconds (32.76 M allocations: 1.989 GiB, 2.25% gc time)\n"
     ]
    },
    {
     "data": {
      "text/plain": [
       "Table with 279 rows, 8 columns:\n",
       "Columns:\n",
       "\u001b[1m#  \u001b[22m\u001b[1mcolname           \u001b[22m\u001b[1mtype\u001b[22m\n",
       "─────────────────────────────────\n",
       "1  node_public       Bool\n",
       "2  node_name         String\n",
       "3  device_id         Int64\n",
       "4  node_id           Int64\n",
       "5  node_owner        Bool\n",
       "6  node_enabled      Bool\n",
       "7  sensor_ids        Array{Any,1}\n",
       "8  node_description  String"
      ]
     },
     "execution_count": 6,
     "metadata": {},
     "output_type": "execute_result"
    }
   ],
   "source": [
    "@time nodes = Linckii.get_nodes(access)"
   ]
  },
  {
   "cell_type": "markdown",
   "metadata": {},
   "source": [
    "GET \"https://canary.noda.se/$site_name/api/v1/device\""
   ]
  },
  {
   "cell_type": "code",
   "execution_count": 7,
   "metadata": {},
   "outputs": [
    {
     "name": "stdout",
     "output_type": "stream",
     "text": [
      " 18.286928 seconds (16.20 M allocations: 1.098 GiB, 1.83% gc time)\n"
     ]
    },
    {
     "data": {
      "text/plain": [
       "Table with 11 rows, 3 columns:\n",
       "protocol_id  device_name             \u001b[1mdevice_id\u001b[22m\n",
       "──────────────────────────────────────────────\n",
       "1            \"Kelp-IQHeat\"           1\n",
       "2            \"Scout\"                 2\n",
       "1            \"Kelp-Basic\"            4\n",
       "5            \"Weather-Forecast\"      6\n",
       "6            \"Grid-Basic\"            7\n",
       "6            \"Grid-Controller\"       8\n",
       "7            \"Heat-Load-Forecast\"    9\n",
       "2            \"CMa1Xw\"                10\n",
       "2            \"EcoGuard Sensor\"       11\n",
       "2            \"WEPTech\"               12\n",
       "8            \"Flexibility-Forecast\"  13"
      ]
     },
     "execution_count": 7,
     "metadata": {},
     "output_type": "execute_result"
    }
   ],
   "source": [
    "@time devices = Linckii.get_devices(access)"
   ]
  },
  {
   "cell_type": "markdown",
   "metadata": {},
   "source": [
    "GET \"https://canary.noda.se/$site_name/api/v1/sensor\""
   ]
  },
  {
   "cell_type": "code",
   "execution_count": 8,
   "metadata": {},
   "outputs": [
    {
     "name": "stdout",
     "output_type": "stream",
     "text": [
      " 33.835360 seconds (31.45 M allocations: 2.126 GiB, 2.03% gc time)\n"
     ]
    },
    {
     "data": {
      "text/plain": [
       "Table with 175 rows, 5 columns:\n",
       "Columns:\n",
       "\u001b[1m#  \u001b[22m\u001b[1mcolname             \u001b[22m\u001b[1mtype\u001b[22m\n",
       "────────────────────────────────\n",
       "1  sensor_unit         FreeUnits\n",
       "2  sensor_name         Symbol\n",
       "3  protocol_id         Int64\n",
       "4  sensor_id           Int64\n",
       "5  sensor_description  String"
      ]
     },
     "execution_count": 8,
     "metadata": {},
     "output_type": "execute_result"
    }
   ],
   "source": [
    "@time sensors = Linckii.get_sensors(access)"
   ]
  },
  {
   "cell_type": "markdown",
   "metadata": {},
   "source": [
    "Save site,"
   ]
  },
  {
   "cell_type": "code",
   "execution_count": 9,
   "metadata": {},
   "outputs": [
    {
     "name": "stdout",
     "output_type": "stream",
     "text": [
      "  2.974772 seconds (7.91 M allocations: 402.344 MiB, 3.94% gc time)\n"
     ]
    }
   ],
   "source": [
    "@time Linckii.savesite(access; nodes = nodes, devices = devices, sensors = sensors)"
   ]
  },
  {
   "cell_type": "markdown",
   "metadata": {},
   "source": [
    "Load site,"
   ]
  },
  {
   "cell_type": "code",
   "execution_count": 10,
   "metadata": {},
   "outputs": [
    {
     "name": "stdout",
     "output_type": "stream",
     "text": [
      "  0.098653 seconds (81.16 k allocations: 4.490 MiB, 18.89% gc time)\n"
     ]
    },
    {
     "data": {
      "text/plain": [
       "(nodes = Table with 279 rows, 8 columns:\n",
       "Columns:\n",
       "\u001b[1m#  \u001b[22m\u001b[1mcolname           \u001b[22m\u001b[1mtype\u001b[22m\n",
       "─────────────────────────────────\n",
       "1  node_public       Bool\n",
       "2  node_name         String\n",
       "3  device_id         Int64\n",
       "4  node_id           Int64\n",
       "5  node_owner        Bool\n",
       "6  node_enabled      Bool\n",
       "7  sensor_ids        Array{Any,1}\n",
       "8  node_description  String, devices = Table with 11 rows, 3 columns:\n",
       "protocol_id  device_name             \u001b[1mdevice_id\u001b[22m\n",
       "──────────────────────────────────────────────\n",
       "1            \"Kelp-IQHeat\"           1\n",
       "2            \"Scout\"                 2\n",
       "1            \"Kelp-Basic\"            4\n",
       "5            \"Weather-Forecast\"      6\n",
       "6            \"Grid-Basic\"            7\n",
       "6            \"Grid-Controller\"       8\n",
       "7            \"Heat-Load-Forecast\"    9\n",
       "2            \"CMa1Xw\"                10\n",
       "2            \"EcoGuard Sensor\"       11\n",
       "2            \"WEPTech\"               12\n",
       "8            \"Flexibility-Forecast\"  13, sensors = Table with 175 rows, 5 columns:\n",
       "Columns:\n",
       "\u001b[1m#  \u001b[22m\u001b[1mcolname             \u001b[22m\u001b[1mtype\u001b[22m\n",
       "────────────────────────────────\n",
       "1  sensor_unit         FreeUnits\n",
       "2  sensor_name         Symbol\n",
       "3  protocol_id         Int64\n",
       "4  sensor_id           Int64\n",
       "5  sensor_description  String)"
      ]
     },
     "execution_count": 10,
     "metadata": {},
     "output_type": "execute_result"
    }
   ],
   "source": [
    "@time nodes, devices, sensors = Linckii.loadsite(access, :nodes, :devices, :sensors)"
   ]
  },
  {
   "cell_type": "markdown",
   "metadata": {},
   "source": [
    "Get side 1 substation series,"
   ]
  },
  {
   "cell_type": "code",
   "execution_count": 11,
   "metadata": {},
   "outputs": [
    {
     "data": {
      "text/plain": [
       "(:meter_effect, :meter_primreturntemp, :meter_primsupplytemp, :meter_volumeflow)"
      ]
     },
     "execution_count": 11,
     "metadata": {},
     "output_type": "execute_result"
    }
   ],
   "source": [
    "sensor_names = (\n",
    "    :meter_effect,\n",
    "    :meter_primreturntemp,\n",
    "    :meter_primsupplytemp,\n",
    "    :meter_volumeflow,\n",
    ")"
   ]
  },
  {
   "cell_type": "code",
   "execution_count": 12,
   "metadata": {},
   "outputs": [
    {
     "data": {
      "text/plain": [
       "Table with 361 rows, 12 columns:\n",
       "Columns:\n",
       "\u001b[1m#   \u001b[22m\u001b[1mcolname             \u001b[22m\u001b[1mtype\u001b[22m\n",
       "──────────────────────────────\n",
       "1   node_id             Int64\n",
       "2   sensor_id           Int64\n",
       "3   node_public         Bool\n",
       "4   node_name           String\n",
       "5   device_id           Int64\n",
       "6   node_owner          Bool\n",
       "7   node_enabled        Bool\n",
       "8   node_description    String\n",
       "9   sensor_unit         Any\n",
       "10  sensor_name         Symbol\n",
       "11  protocol_id         Int64\n",
       "12  sensor_description  String"
      ]
     },
     "execution_count": 12,
     "metadata": {},
     "output_type": "execute_result"
    }
   ],
   "source": [
    "signals = JuliaDB.reindex(\n",
    "    JuliaDB.join(\n",
    "        Linckii.flatten_nodes(JuliaDB.filter(r -> r.device_id == 4, nodes)),\n",
    "        JuliaDB.filter(r -> r.sensor_name in sensor_names, sensors);\n",
    "        lkey=:sensor_id,\n",
    "        rkey=:sensor_id,\n",
    "    ),\n",
    "    (:node_id, :sensor_id),\n",
    ")"
   ]
  },
  {
   "cell_type": "markdown",
   "metadata": {},
   "source": [
    "Save data,"
   ]
  },
  {
   "cell_type": "code",
   "execution_count": 14,
   "metadata": {},
   "outputs": [
    {
     "data": {
      "text/plain": [
       "2017-12-01T00:00:00:1 month:2019-12-01T00:00:00"
      ]
     },
     "execution_count": 14,
     "metadata": {},
     "output_type": "execute_result"
    }
   ],
   "source": [
    "dates = Dates.DateTime(2017, 12) : Dates.Month(1) : Dates.DateTime(2019, 12)"
   ]
  },
  {
   "cell_type": "code",
   "execution_count": 18,
   "metadata": {},
   "outputs": [
    {
     "name": "stdout",
     "output_type": "stream",
     "text": [
      "db/linckii/~keab/data/61/meter_effect.db: ErrorException(\"column datetime not found.\")\n",
      " 67.265022 seconds (1.03 M allocations: 90.799 MiB)\n"
     ]
    }
   ],
   "source": [
    "rs = JuliaDB.rows(signals)\n",
    "if false\n",
    "    rs = [rs[Random.rand(1 : end)]]\n",
    "end\n",
    "@time for r in rs\n",
    "    filepath = \"$(Linckii.datapath(access, r.node_id, r.sensor_name)).db\"\n",
    "    if !isfile(filepath)\n",
    "        try\n",
    "            Linckii.savedata(access, r.node_id, r.sensor_name, dates...)\n",
    "            println(\"$(filepath): Done\")\n",
    "        catch e\n",
    "            println(\"$(filepath): $(e)\")\n",
    "        end\n",
    "    end\n",
    "end"
   ]
  },
  {
   "cell_type": "markdown",
   "metadata": {},
   "source": [
    "Load data,"
   ]
  },
  {
   "cell_type": "code",
   "execution_count": 16,
   "metadata": {},
   "outputs": [
    {
     "data": {
      "text/plain": [
       "(92, :meter_volumeflow)"
      ]
     },
     "execution_count": 16,
     "metadata": {},
     "output_type": "execute_result"
    }
   ],
   "source": [
    "r = JuliaDB.rows(signals)[Random.rand(1 : end)]\n",
    "(r.node_id, r.sensor_name)"
   ]
  },
  {
   "cell_type": "code",
   "execution_count": null,
   "metadata": {},
   "outputs": [],
   "source": [
    "data = Linckii.loaddata(access, r.node_id, r.sensor_name)"
   ]
  },
  {
   "cell_type": "markdown",
   "metadata": {},
   "source": [
    "Simple plot,"
   ]
  },
  {
   "cell_type": "code",
   "execution_count": null,
   "metadata": {},
   "outputs": [],
   "source": [
    "t = JuliaDB.filter(\n",
    "    r -> r.datetime >= Dates.DateTime(2018) && r.datetime <= Dates.DateTime(2019),\n",
    "    data,\n",
    ")\n",
    "x = JuliaDB.select(t, :datetime)\n",
    "y = JuliaDB.select(t, :value)\n",
    "Plots.plot(x, y, xlabel = :datetime, label = Linckii.datapath(access, r.node_id, r.sensor_name))"
   ]
  },
  {
   "cell_type": "code",
   "execution_count": null,
   "metadata": {},
   "outputs": [],
   "source": []
  }
 ],
 "metadata": {
  "kernelspec": {
   "display_name": "Julia 1.3.0",
   "language": "julia",
   "name": "julia-1.3"
  },
  "language_info": {
   "file_extension": ".jl",
   "mimetype": "application/julia",
   "name": "julia",
   "version": "1.3.0"
  }
 },
 "nbformat": 4,
 "nbformat_minor": 4
}
