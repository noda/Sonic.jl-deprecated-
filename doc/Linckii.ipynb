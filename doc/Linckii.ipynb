{
 "cells": [
  {
   "cell_type": "markdown",
   "metadata": {},
   "source": [
    "# Example use of the Sonic module Linckii.jl"
   ]
  },
  {
   "cell_type": "markdown",
   "metadata": {},
   "source": [
    "* https://julialang.org\n",
    "* https://juliadb.org\n",
    "* https://juliastats.org"
   ]
  },
  {
   "cell_type": "code",
   "execution_count": 26,
   "metadata": {},
   "outputs": [
    {
     "name": "stdout",
     "output_type": "stream",
     "text": [
      "\u001b[32m\u001b[1mActivating\u001b[22m\u001b[39m environment at `~/Documents/Calendar/Work/Noda/Code/Sonic.jl/Project.toml`\n"
     ]
    }
   ],
   "source": [
    "import Pkg                      # package manager\n",
    "Pkg.activate(\"..\")              # Project.toml\n",
    "Pkg.instantiate()               # https://julialang.github.io/Pkg.jl/v1.0/index.html"
   ]
  },
  {
   "cell_type": "code",
   "execution_count": 31,
   "metadata": {},
   "outputs": [
    {
     "name": "stderr",
     "output_type": "stream",
     "text": [
      "┌ Info: Precompiling FFTW [7a1cc6ca-52ef-59f5-83cd-3a7055c09341]\n",
      "└ @ Base loading.jl:1273\n",
      "┌ Info: Precompiling StatsPlots [f3b207a7-027a-5e70-b257-86293d7955fd]\n",
      "└ @ Base loading.jl:1273\n"
     ]
    }
   ],
   "source": [
    "import Dates, JuliaDB, Random, StatsPlots"
   ]
  },
  {
   "cell_type": "code",
   "execution_count": 33,
   "metadata": {},
   "outputs": [
    {
     "data": {
      "text/plain": [
       "Plots.GRBackend()"
      ]
     },
     "execution_count": 33,
     "metadata": {},
     "output_type": "execute_result"
    }
   ],
   "source": [
    "using StatsPlots\n",
    "ENV[\"GKSwstype\"] = \"100\"\n",
    "gr(fmt = :png)"
   ]
  },
  {
   "cell_type": "code",
   "execution_count": 4,
   "metadata": {},
   "outputs": [
    {
     "data": {
      "text/plain": [
       "Main.LinckiiSecrets"
      ]
     },
     "execution_count": 4,
     "metadata": {},
     "output_type": "execute_result"
    }
   ],
   "source": [
    "include(\"../src/Linckii.jl\")\n",
    "include(\"../src/LinckiiSecrets.jl\")"
   ]
  },
  {
   "cell_type": "markdown",
   "metadata": {},
   "source": [
    "Get access token,"
   ]
  },
  {
   "cell_type": "code",
   "execution_count": 5,
   "metadata": {},
   "outputs": [
    {
     "data": {
      "text/plain": [
       "(url = \"https://canary.noda.se/~keab\", key = \"e86d93131e6bc12ae701d036e696cf8b\")"
      ]
     },
     "execution_count": 5,
     "metadata": {},
     "output_type": "execute_result"
    }
   ],
   "source": [
    "access = Linckii.get_access(LinckiiSecrets.keab)"
   ]
  },
  {
   "cell_type": "markdown",
   "metadata": {},
   "source": [
    "GET \"https://canary.noda.se/$site_name/api/v1/node\""
   ]
  },
  {
   "cell_type": "code",
   "execution_count": 6,
   "metadata": {},
   "outputs": [
    {
     "name": "stdout",
     "output_type": "stream",
     "text": [
      " 32.754293 seconds (32.76 M allocations: 1.989 GiB, 1.94% gc time)\n"
     ]
    },
    {
     "data": {
      "text/plain": [
       "Table with 279 rows, 8 columns:\n",
       "Columns:\n",
       "\u001b[1m#  \u001b[22m\u001b[1mcolname           \u001b[22m\u001b[1mtype\u001b[22m\n",
       "─────────────────────────────────\n",
       "1  node_public       Bool\n",
       "2  node_name         String\n",
       "3  device_id         Int64\n",
       "4  node_id           Int64\n",
       "5  node_owner        Bool\n",
       "6  node_enabled      Bool\n",
       "7  sensor_ids        Array{Any,1}\n",
       "8  node_description  String"
      ]
     },
     "execution_count": 6,
     "metadata": {},
     "output_type": "execute_result"
    }
   ],
   "source": [
    "@time nodes = Linckii.get_nodes(access)"
   ]
  },
  {
   "cell_type": "markdown",
   "metadata": {},
   "source": [
    "GET \"https://canary.noda.se/$site_name/api/v1/device\""
   ]
  },
  {
   "cell_type": "code",
   "execution_count": 7,
   "metadata": {},
   "outputs": [
    {
     "name": "stdout",
     "output_type": "stream",
     "text": [
      " 17.699284 seconds (16.20 M allocations: 1.098 GiB, 1.77% gc time)\n"
     ]
    },
    {
     "data": {
      "text/plain": [
       "Table with 11 rows, 3 columns:\n",
       "protocol_id  device_name             \u001b[1mdevice_id\u001b[22m\n",
       "──────────────────────────────────────────────\n",
       "1            \"Kelp-IQHeat\"           1\n",
       "2            \"Scout\"                 2\n",
       "1            \"Kelp-Basic\"            4\n",
       "5            \"Weather-Forecast\"      6\n",
       "6            \"Grid-Basic\"            7\n",
       "6            \"Grid-Controller\"       8\n",
       "7            \"Heat-Load-Forecast\"    9\n",
       "2            \"CMa1Xw\"                10\n",
       "2            \"EcoGuard Sensor\"       11\n",
       "2            \"WEPTech\"               12\n",
       "8            \"Flexibility-Forecast\"  13"
      ]
     },
     "execution_count": 7,
     "metadata": {},
     "output_type": "execute_result"
    }
   ],
   "source": [
    "@time devices = Linckii.get_devices(access)"
   ]
  },
  {
   "cell_type": "markdown",
   "metadata": {},
   "source": [
    "GET \"https://canary.noda.se/$site_name/api/v1/sensor\""
   ]
  },
  {
   "cell_type": "code",
   "execution_count": 8,
   "metadata": {},
   "outputs": [
    {
     "name": "stdout",
     "output_type": "stream",
     "text": [
      " 33.703840 seconds (31.45 M allocations: 2.126 GiB, 1.93% gc time)\n"
     ]
    },
    {
     "data": {
      "text/plain": [
       "Table with 175 rows, 5 columns:\n",
       "Columns:\n",
       "\u001b[1m#  \u001b[22m\u001b[1mcolname             \u001b[22m\u001b[1mtype\u001b[22m\n",
       "────────────────────────────────\n",
       "1  sensor_unit         FreeUnits\n",
       "2  sensor_name         Symbol\n",
       "3  protocol_id         Int64\n",
       "4  sensor_id           Int64\n",
       "5  sensor_description  String"
      ]
     },
     "execution_count": 8,
     "metadata": {},
     "output_type": "execute_result"
    }
   ],
   "source": [
    "@time sensors = Linckii.get_sensors(access)"
   ]
  },
  {
   "cell_type": "markdown",
   "metadata": {},
   "source": [
    "Save site,"
   ]
  },
  {
   "cell_type": "code",
   "execution_count": 9,
   "metadata": {},
   "outputs": [
    {
     "name": "stdout",
     "output_type": "stream",
     "text": [
      "  3.235190 seconds (7.91 M allocations: 402.345 MiB, 4.59% gc time)\n"
     ]
    }
   ],
   "source": [
    "@time Linckii.savesite(access; nodes = nodes, devices = devices, sensors = sensors)"
   ]
  },
  {
   "cell_type": "markdown",
   "metadata": {},
   "source": [
    "Load site,"
   ]
  },
  {
   "cell_type": "code",
   "execution_count": 10,
   "metadata": {},
   "outputs": [
    {
     "name": "stdout",
     "output_type": "stream",
     "text": [
      "  0.095437 seconds (81.16 k allocations: 4.490 MiB, 22.08% gc time)\n"
     ]
    },
    {
     "data": {
      "text/plain": [
       "(nodes = Table with 279 rows, 8 columns:\n",
       "Columns:\n",
       "\u001b[1m#  \u001b[22m\u001b[1mcolname           \u001b[22m\u001b[1mtype\u001b[22m\n",
       "─────────────────────────────────\n",
       "1  node_public       Bool\n",
       "2  node_name         String\n",
       "3  device_id         Int64\n",
       "4  node_id           Int64\n",
       "5  node_owner        Bool\n",
       "6  node_enabled      Bool\n",
       "7  sensor_ids        Array{Any,1}\n",
       "8  node_description  String, devices = Table with 11 rows, 3 columns:\n",
       "protocol_id  device_name             \u001b[1mdevice_id\u001b[22m\n",
       "──────────────────────────────────────────────\n",
       "1            \"Kelp-IQHeat\"           1\n",
       "2            \"Scout\"                 2\n",
       "1            \"Kelp-Basic\"            4\n",
       "5            \"Weather-Forecast\"      6\n",
       "6            \"Grid-Basic\"            7\n",
       "6            \"Grid-Controller\"       8\n",
       "7            \"Heat-Load-Forecast\"    9\n",
       "2            \"CMa1Xw\"                10\n",
       "2            \"EcoGuard Sensor\"       11\n",
       "2            \"WEPTech\"               12\n",
       "8            \"Flexibility-Forecast\"  13, sensors = Table with 175 rows, 5 columns:\n",
       "Columns:\n",
       "\u001b[1m#  \u001b[22m\u001b[1mcolname             \u001b[22m\u001b[1mtype\u001b[22m\n",
       "────────────────────────────────\n",
       "1  sensor_unit         FreeUnits\n",
       "2  sensor_name         Symbol\n",
       "3  protocol_id         Int64\n",
       "4  sensor_id           Int64\n",
       "5  sensor_description  String)"
      ]
     },
     "execution_count": 10,
     "metadata": {},
     "output_type": "execute_result"
    }
   ],
   "source": [
    "@time nodes, devices, sensors = Linckii.loadsite(access, :nodes, :devices, :sensors)"
   ]
  },
  {
   "cell_type": "markdown",
   "metadata": {},
   "source": [
    "Select data,"
   ]
  },
  {
   "cell_type": "code",
   "execution_count": 22,
   "metadata": {},
   "outputs": [
    {
     "data": {
      "text/plain": [
       "(4,)"
      ]
     },
     "execution_count": 22,
     "metadata": {},
     "output_type": "execute_result"
    }
   ],
   "source": [
    "device_ids = (4, )"
   ]
  },
  {
   "cell_type": "code",
   "execution_count": 11,
   "metadata": {},
   "outputs": [
    {
     "data": {
      "text/plain": [
       "(:meter_effect, :meter_primreturntemp, :meter_primsupplytemp, :meter_volumeflow)"
      ]
     },
     "execution_count": 11,
     "metadata": {},
     "output_type": "execute_result"
    }
   ],
   "source": [
    "sensor_names = (\n",
    "    :meter_effect,\n",
    "    :meter_primreturntemp,\n",
    "    :meter_primsupplytemp,\n",
    "    :meter_volumeflow,\n",
    ")"
   ]
  },
  {
   "cell_type": "code",
   "execution_count": 12,
   "metadata": {},
   "outputs": [
    {
     "data": {
      "text/plain": [
       "Table with 361 rows, 12 columns:\n",
       "Columns:\n",
       "\u001b[1m#   \u001b[22m\u001b[1mcolname             \u001b[22m\u001b[1mtype\u001b[22m\n",
       "──────────────────────────────\n",
       "1   node_id             Int64\n",
       "2   sensor_id           Int64\n",
       "3   node_public         Bool\n",
       "4   node_name           String\n",
       "5   device_id           Int64\n",
       "6   node_owner          Bool\n",
       "7   node_enabled        Bool\n",
       "8   node_description    String\n",
       "9   sensor_unit         Any\n",
       "10  sensor_name         Symbol\n",
       "11  protocol_id         Int64\n",
       "12  sensor_description  String"
      ]
     },
     "execution_count": 12,
     "metadata": {},
     "output_type": "execute_result"
    }
   ],
   "source": [
    "signals = JuliaDB.reindex(\n",
    "    JuliaDB.join(\n",
    "        Linckii.flatten_nodes(JuliaDB.filter(r -> r.device_id in device_ids 4, nodes)),\n",
    "        JuliaDB.filter(r -> r.sensor_name in sensor_names, sensors);\n",
    "        lkey=:sensor_id,\n",
    "        rkey=:sensor_id,\n",
    "    ),\n",
    "    (:node_id, :sensor_id),\n",
    ")"
   ]
  },
  {
   "cell_type": "markdown",
   "metadata": {},
   "source": [
    "Save data,"
   ]
  },
  {
   "cell_type": "code",
   "execution_count": 13,
   "metadata": {},
   "outputs": [
    {
     "data": {
      "text/plain": [
       "2017-12-01T00:00:00:1 month:2019-12-01T00:00:00"
      ]
     },
     "execution_count": 13,
     "metadata": {},
     "output_type": "execute_result"
    }
   ],
   "source": [
    "dates = Dates.DateTime(2017, 12) : Dates.Month(1) : Dates.DateTime(2019, 12)"
   ]
  },
  {
   "cell_type": "code",
   "execution_count": 14,
   "metadata": {},
   "outputs": [
    {
     "name": "stdout",
     "output_type": "stream",
     "text": [
      "db/linckii/~keab/data/1/meter_effect.db: Done\n",
      "db/linckii/~keab/data/1/meter_primreturntemp.db: Done\n",
      "db/linckii/~keab/data/1/meter_primsupplytemp.db: Done\n",
      "db/linckii/~keab/data/1/meter_volumeflow.db: Done\n",
      "db/linckii/~keab/data/16/meter_effect.db: ErrorException(\"column datetime not found.\")\n",
      "db/linckii/~keab/data/16/meter_primreturntemp.db: ErrorException(\"column datetime not found.\")\n",
      "db/linckii/~keab/data/16/meter_primsupplytemp.db: ErrorException(\"column datetime not found.\")\n",
      "db/linckii/~keab/data/16/meter_volumeflow.db: ErrorException(\"column datetime not found.\")\n",
      "db/linckii/~keab/data/17/meter_effect.db: Done\n",
      "db/linckii/~keab/data/17/meter_primreturntemp.db: Done\n",
      "db/linckii/~keab/data/17/meter_primsupplytemp.db: Done\n",
      "db/linckii/~keab/data/17/meter_volumeflow.db: Done\n",
      "db/linckii/~keab/data/18/meter_effect.db: Done\n",
      "db/linckii/~keab/data/18/meter_primreturntemp.db: Done\n",
      "db/linckii/~keab/data/18/meter_primsupplytemp.db: Done\n",
      "db/linckii/~keab/data/18/meter_volumeflow.db: Done\n",
      "db/linckii/~keab/data/19/meter_effect.db: Done\n",
      "db/linckii/~keab/data/19/meter_primreturntemp.db: Done\n",
      "db/linckii/~keab/data/19/meter_primsupplytemp.db: Done\n",
      "db/linckii/~keab/data/19/meter_volumeflow.db: Done\n",
      "db/linckii/~keab/data/20/meter_effect.db: Done\n",
      "db/linckii/~keab/data/20/meter_primreturntemp.db: Done\n",
      "db/linckii/~keab/data/20/meter_primsupplytemp.db: Done\n",
      "db/linckii/~keab/data/20/meter_volumeflow.db: Done\n",
      "db/linckii/~keab/data/21/meter_effect.db: Done\n",
      "db/linckii/~keab/data/21/meter_primreturntemp.db: Done\n",
      "db/linckii/~keab/data/21/meter_primsupplytemp.db: Done\n",
      "db/linckii/~keab/data/21/meter_volumeflow.db: Done\n",
      "db/linckii/~keab/data/22/meter_effect.db: Done\n",
      "db/linckii/~keab/data/22/meter_primreturntemp.db: Done\n",
      "db/linckii/~keab/data/22/meter_primsupplytemp.db: Done\n",
      "db/linckii/~keab/data/22/meter_volumeflow.db: Done\n",
      "db/linckii/~keab/data/23/meter_effect.db: Done\n",
      "db/linckii/~keab/data/23/meter_primreturntemp.db: Done\n",
      "db/linckii/~keab/data/23/meter_primsupplytemp.db: Done\n",
      "db/linckii/~keab/data/23/meter_volumeflow.db: Done\n",
      "db/linckii/~keab/data/24/meter_effect.db: Done\n",
      "db/linckii/~keab/data/24/meter_primreturntemp.db: Done\n",
      "db/linckii/~keab/data/24/meter_primsupplytemp.db: Done\n",
      "db/linckii/~keab/data/24/meter_volumeflow.db: Done\n",
      "db/linckii/~keab/data/25/meter_effect.db: Done\n",
      "db/linckii/~keab/data/25/meter_primreturntemp.db: Done\n",
      "db/linckii/~keab/data/25/meter_primsupplytemp.db: Done\n",
      "db/linckii/~keab/data/25/meter_volumeflow.db: Done\n",
      "db/linckii/~keab/data/26/meter_effect.db: Done\n",
      "db/linckii/~keab/data/26/meter_primreturntemp.db: Done\n",
      "db/linckii/~keab/data/26/meter_primsupplytemp.db: Done\n",
      "db/linckii/~keab/data/26/meter_volumeflow.db: Done\n",
      "db/linckii/~keab/data/27/meter_effect.db: Done\n",
      "db/linckii/~keab/data/27/meter_primreturntemp.db: Done\n",
      "db/linckii/~keab/data/27/meter_primsupplytemp.db: Done\n",
      "db/linckii/~keab/data/27/meter_volumeflow.db: Done\n",
      "db/linckii/~keab/data/28/meter_effect.db: ErrorException(\"column datetime not found.\")\n",
      "db/linckii/~keab/data/28/meter_primreturntemp.db: ErrorException(\"column datetime not found.\")\n",
      "db/linckii/~keab/data/28/meter_primsupplytemp.db: ErrorException(\"column datetime not found.\")\n",
      "db/linckii/~keab/data/28/meter_volumeflow.db: ErrorException(\"column datetime not found.\")\n",
      "db/linckii/~keab/data/29/meter_effect.db: Done\n",
      "db/linckii/~keab/data/29/meter_primreturntemp.db: Done\n",
      "db/linckii/~keab/data/29/meter_primsupplytemp.db: Done\n",
      "db/linckii/~keab/data/29/meter_volumeflow.db: Done\n",
      "db/linckii/~keab/data/30/meter_effect.db: Done\n",
      "db/linckii/~keab/data/30/meter_primreturntemp.db: Done\n",
      "db/linckii/~keab/data/30/meter_primsupplytemp.db: Done\n",
      "db/linckii/~keab/data/30/meter_volumeflow.db: Done\n",
      "db/linckii/~keab/data/31/meter_effect.db: ErrorException(\"column datetime not found.\")\n",
      "db/linckii/~keab/data/31/meter_primreturntemp.db: ErrorException(\"column datetime not found.\")\n",
      "db/linckii/~keab/data/31/meter_primsupplytemp.db: ErrorException(\"column datetime not found.\")\n",
      "db/linckii/~keab/data/31/meter_volumeflow.db: ErrorException(\"column datetime not found.\")\n",
      "db/linckii/~keab/data/32/meter_effect.db: Done\n",
      "db/linckii/~keab/data/32/meter_primreturntemp.db: Done\n",
      "db/linckii/~keab/data/32/meter_primsupplytemp.db: Done\n",
      "db/linckii/~keab/data/32/meter_volumeflow.db: Done\n",
      "db/linckii/~keab/data/33/meter_effect.db: ErrorException(\"column datetime not found.\")\n",
      "db/linckii/~keab/data/33/meter_primreturntemp.db: ErrorException(\"column datetime not found.\")\n",
      "db/linckii/~keab/data/33/meter_primsupplytemp.db: ErrorException(\"column datetime not found.\")\n",
      "db/linckii/~keab/data/33/meter_volumeflow.db: ErrorException(\"column datetime not found.\")\n",
      "db/linckii/~keab/data/34/meter_effect.db: Done\n",
      "db/linckii/~keab/data/34/meter_primreturntemp.db: Done\n",
      "db/linckii/~keab/data/34/meter_primsupplytemp.db: Done\n",
      "db/linckii/~keab/data/34/meter_volumeflow.db: Done\n",
      "db/linckii/~keab/data/35/meter_effect.db: Done\n",
      "db/linckii/~keab/data/35/meter_primreturntemp.db: Done\n",
      "db/linckii/~keab/data/35/meter_primsupplytemp.db: Done\n",
      "db/linckii/~keab/data/35/meter_volumeflow.db: Done\n",
      "db/linckii/~keab/data/36/meter_effect.db: Done\n",
      "db/linckii/~keab/data/36/meter_primreturntemp.db: Done\n",
      "db/linckii/~keab/data/36/meter_primsupplytemp.db: Done\n",
      "db/linckii/~keab/data/36/meter_volumeflow.db: Done\n",
      "db/linckii/~keab/data/37/meter_effect.db: Done\n",
      "db/linckii/~keab/data/37/meter_primreturntemp.db: Done\n",
      "db/linckii/~keab/data/37/meter_primsupplytemp.db: Done\n",
      "db/linckii/~keab/data/37/meter_volumeflow.db: Done\n",
      "db/linckii/~keab/data/38/meter_effect.db: ErrorException(\"column datetime not found.\")\n",
      "db/linckii/~keab/data/38/meter_primreturntemp.db: ErrorException(\"column datetime not found.\")\n",
      "db/linckii/~keab/data/38/meter_primsupplytemp.db: ErrorException(\"column datetime not found.\")\n",
      "db/linckii/~keab/data/38/meter_volumeflow.db: ErrorException(\"column datetime not found.\")\n",
      "db/linckii/~keab/data/39/meter_effect.db: Done\n",
      "db/linckii/~keab/data/39/meter_primreturntemp.db: Done\n",
      "db/linckii/~keab/data/39/meter_primsupplytemp.db: Done\n",
      "db/linckii/~keab/data/39/meter_volumeflow.db: Done\n",
      "db/linckii/~keab/data/40/meter_effect.db: ErrorException(\"column datetime not found.\")\n",
      "db/linckii/~keab/data/40/meter_primreturntemp.db: ErrorException(\"column datetime not found.\")\n",
      "db/linckii/~keab/data/40/meter_primsupplytemp.db: ErrorException(\"column datetime not found.\")\n",
      "db/linckii/~keab/data/40/meter_volumeflow.db: ErrorException(\"column datetime not found.\")\n",
      "db/linckii/~keab/data/52/meter_effect.db: Done\n",
      "db/linckii/~keab/data/52/meter_primreturntemp.db: Done\n",
      "db/linckii/~keab/data/52/meter_primsupplytemp.db: Done\n",
      "db/linckii/~keab/data/52/meter_volumeflow.db: Done\n",
      "db/linckii/~keab/data/53/meter_effect.db: Done\n",
      "db/linckii/~keab/data/53/meter_primreturntemp.db: Done\n",
      "db/linckii/~keab/data/53/meter_primsupplytemp.db: Done\n",
      "db/linckii/~keab/data/53/meter_volumeflow.db: Done\n",
      "db/linckii/~keab/data/54/meter_effect.db: Done\n",
      "db/linckii/~keab/data/54/meter_primreturntemp.db: Done\n",
      "db/linckii/~keab/data/54/meter_primsupplytemp.db: Done\n",
      "db/linckii/~keab/data/54/meter_volumeflow.db: Done\n",
      "db/linckii/~keab/data/55/meter_effect.db: Done\n",
      "db/linckii/~keab/data/55/meter_primreturntemp.db: Done\n",
      "db/linckii/~keab/data/55/meter_primsupplytemp.db: Done\n",
      "db/linckii/~keab/data/55/meter_volumeflow.db: Done\n",
      "db/linckii/~keab/data/56/meter_effect.db: Done\n",
      "db/linckii/~keab/data/56/meter_primreturntemp.db: Done\n",
      "db/linckii/~keab/data/56/meter_primsupplytemp.db: Done\n",
      "db/linckii/~keab/data/56/meter_volumeflow.db: Done\n",
      "db/linckii/~keab/data/57/meter_effect.db: Done\n",
      "db/linckii/~keab/data/57/meter_primreturntemp.db: Done\n",
      "db/linckii/~keab/data/57/meter_primsupplytemp.db: Done\n",
      "db/linckii/~keab/data/57/meter_volumeflow.db: Done\n",
      "db/linckii/~keab/data/58/meter_effect.db: Done\n",
      "db/linckii/~keab/data/58/meter_primreturntemp.db: Done\n",
      "db/linckii/~keab/data/58/meter_primsupplytemp.db: Done\n",
      "db/linckii/~keab/data/58/meter_volumeflow.db: Done\n",
      "db/linckii/~keab/data/59/meter_effect.db: Done\n",
      "db/linckii/~keab/data/59/meter_primreturntemp.db: Done\n",
      "db/linckii/~keab/data/59/meter_primsupplytemp.db: Done\n",
      "db/linckii/~keab/data/59/meter_volumeflow.db: Done\n",
      "db/linckii/~keab/data/60/meter_effect.db: Done\n",
      "db/linckii/~keab/data/60/meter_primreturntemp.db: Done\n",
      "db/linckii/~keab/data/60/meter_primsupplytemp.db: Done\n",
      "db/linckii/~keab/data/60/meter_volumeflow.db: Done\n",
      "db/linckii/~keab/data/61/meter_effect.db: Done\n",
      "db/linckii/~keab/data/61/meter_primreturntemp.db: Done\n",
      "db/linckii/~keab/data/61/meter_primsupplytemp.db: Done\n",
      "db/linckii/~keab/data/61/meter_volumeflow.db: Done\n",
      "db/linckii/~keab/data/62/meter_effect.db: Done\n",
      "db/linckii/~keab/data/62/meter_primreturntemp.db: Done\n",
      "db/linckii/~keab/data/62/meter_primsupplytemp.db: Done\n",
      "db/linckii/~keab/data/62/meter_volumeflow.db: Done\n",
      "db/linckii/~keab/data/63/meter_effect.db: Done\n",
      "db/linckii/~keab/data/63/meter_primreturntemp.db: Done\n",
      "db/linckii/~keab/data/63/meter_primsupplytemp.db: Done\n",
      "db/linckii/~keab/data/63/meter_volumeflow.db: Done\n",
      "db/linckii/~keab/data/64/meter_effect.db: Done\n",
      "db/linckii/~keab/data/64/meter_primreturntemp.db: Done\n",
      "db/linckii/~keab/data/64/meter_primsupplytemp.db: Done\n",
      "db/linckii/~keab/data/64/meter_volumeflow.db: Done\n",
      "db/linckii/~keab/data/65/meter_effect.db: Done\n",
      "db/linckii/~keab/data/65/meter_primreturntemp.db: Done\n",
      "db/linckii/~keab/data/65/meter_primsupplytemp.db: Done\n",
      "db/linckii/~keab/data/65/meter_volumeflow.db: Done\n",
      "db/linckii/~keab/data/66/meter_effect.db: Done\n",
      "db/linckii/~keab/data/66/meter_primreturntemp.db: Done\n",
      "db/linckii/~keab/data/66/meter_primsupplytemp.db: Done\n",
      "db/linckii/~keab/data/66/meter_volumeflow.db: Done\n",
      "db/linckii/~keab/data/67/meter_effect.db: Done\n",
      "db/linckii/~keab/data/67/meter_primreturntemp.db: Done\n",
      "db/linckii/~keab/data/67/meter_primsupplytemp.db: Done\n",
      "db/linckii/~keab/data/67/meter_volumeflow.db: Done\n",
      "db/linckii/~keab/data/68/meter_effect.db: Done\n",
      "db/linckii/~keab/data/68/meter_primreturntemp.db: Done\n",
      "db/linckii/~keab/data/68/meter_primsupplytemp.db: Done\n",
      "db/linckii/~keab/data/68/meter_volumeflow.db: Done\n",
      "db/linckii/~keab/data/69/meter_effect.db: ErrorException(\"column datetime not found.\")\n",
      "db/linckii/~keab/data/69/meter_primreturntemp.db: ErrorException(\"column datetime not found.\")\n",
      "db/linckii/~keab/data/69/meter_primsupplytemp.db: ErrorException(\"column datetime not found.\")\n",
      "db/linckii/~keab/data/69/meter_volumeflow.db: ErrorException(\"column datetime not found.\")\n",
      "db/linckii/~keab/data/70/meter_effect.db: Done\n",
      "db/linckii/~keab/data/70/meter_primreturntemp.db: Done\n",
      "db/linckii/~keab/data/70/meter_primsupplytemp.db: Done\n",
      "db/linckii/~keab/data/70/meter_volumeflow.db: Done\n",
      "db/linckii/~keab/data/71/meter_effect.db: Done\n",
      "db/linckii/~keab/data/71/meter_primreturntemp.db: Done\n",
      "db/linckii/~keab/data/71/meter_primsupplytemp.db: Done\n",
      "db/linckii/~keab/data/71/meter_volumeflow.db: Done\n",
      "db/linckii/~keab/data/72/meter_effect.db: Done\n",
      "db/linckii/~keab/data/72/meter_primreturntemp.db: Done\n",
      "db/linckii/~keab/data/72/meter_primsupplytemp.db: Done\n",
      "db/linckii/~keab/data/72/meter_volumeflow.db: Done\n",
      "db/linckii/~keab/data/74/meter_effect.db: Done\n",
      "db/linckii/~keab/data/74/meter_primreturntemp.db: Done\n",
      "db/linckii/~keab/data/74/meter_primsupplytemp.db: Done\n",
      "db/linckii/~keab/data/74/meter_volumeflow.db: Done\n",
      "db/linckii/~keab/data/75/meter_effect.db: Done\n",
      "db/linckii/~keab/data/75/meter_primreturntemp.db: Done\n",
      "db/linckii/~keab/data/75/meter_primsupplytemp.db: Done\n",
      "db/linckii/~keab/data/75/meter_volumeflow.db: Done\n",
      "db/linckii/~keab/data/76/meter_effect.db: Done\n",
      "db/linckii/~keab/data/76/meter_primreturntemp.db: Done\n",
      "db/linckii/~keab/data/76/meter_primsupplytemp.db: Done\n",
      "db/linckii/~keab/data/76/meter_volumeflow.db: Done\n",
      "db/linckii/~keab/data/77/meter_effect.db: ErrorException(\"column datetime not found.\")\n",
      "db/linckii/~keab/data/77/meter_primreturntemp.db: ErrorException(\"column datetime not found.\")\n",
      "db/linckii/~keab/data/77/meter_primsupplytemp.db: ErrorException(\"column datetime not found.\")\n",
      "db/linckii/~keab/data/77/meter_volumeflow.db: ErrorException(\"column datetime not found.\")\n",
      "db/linckii/~keab/data/78/meter_effect.db: Done\n",
      "db/linckii/~keab/data/78/meter_primreturntemp.db: Done\n",
      "db/linckii/~keab/data/78/meter_primsupplytemp.db: Done\n",
      "db/linckii/~keab/data/78/meter_volumeflow.db: Done\n",
      "db/linckii/~keab/data/79/meter_effect.db: Done\n",
      "db/linckii/~keab/data/79/meter_primreturntemp.db: Done\n",
      "db/linckii/~keab/data/79/meter_primsupplytemp.db: Done\n",
      "db/linckii/~keab/data/79/meter_volumeflow.db: Done\n",
      "db/linckii/~keab/data/80/meter_effect.db: Done\n",
      "db/linckii/~keab/data/80/meter_primreturntemp.db: Done\n",
      "db/linckii/~keab/data/80/meter_primsupplytemp.db: Done\n",
      "db/linckii/~keab/data/80/meter_volumeflow.db: Done\n",
      "db/linckii/~keab/data/81/meter_effect.db: Done\n",
      "db/linckii/~keab/data/81/meter_primreturntemp.db: Done\n",
      "db/linckii/~keab/data/81/meter_primsupplytemp.db: Done\n",
      "db/linckii/~keab/data/81/meter_volumeflow.db: Done\n",
      "db/linckii/~keab/data/82/meter_effect.db: Done\n",
      "db/linckii/~keab/data/82/meter_primreturntemp.db: Done\n",
      "db/linckii/~keab/data/82/meter_primsupplytemp.db: Done\n",
      "db/linckii/~keab/data/82/meter_volumeflow.db: Done\n",
      "db/linckii/~keab/data/83/meter_effect.db: Done\n",
      "db/linckii/~keab/data/83/meter_primreturntemp.db: Done\n",
      "db/linckii/~keab/data/83/meter_primsupplytemp.db: Done\n",
      "db/linckii/~keab/data/83/meter_volumeflow.db: Done\n",
      "db/linckii/~keab/data/84/meter_effect.db: Done\n",
      "db/linckii/~keab/data/84/meter_primreturntemp.db: Done\n",
      "db/linckii/~keab/data/84/meter_primsupplytemp.db: Done\n",
      "db/linckii/~keab/data/84/meter_volumeflow.db: Done\n",
      "db/linckii/~keab/data/85/meter_effect.db: Done\n",
      "db/linckii/~keab/data/85/meter_primreturntemp.db: Done\n",
      "db/linckii/~keab/data/85/meter_primsupplytemp.db: Done\n",
      "db/linckii/~keab/data/85/meter_volumeflow.db: Done\n",
      "db/linckii/~keab/data/86/meter_effect.db: Done\n",
      "db/linckii/~keab/data/86/meter_primreturntemp.db: Done\n",
      "db/linckii/~keab/data/86/meter_primsupplytemp.db: Done\n",
      "db/linckii/~keab/data/86/meter_volumeflow.db: Done\n",
      "db/linckii/~keab/data/87/meter_effect.db: Done\n",
      "db/linckii/~keab/data/87/meter_primreturntemp.db: Done\n",
      "db/linckii/~keab/data/87/meter_primsupplytemp.db: Done\n",
      "db/linckii/~keab/data/87/meter_volumeflow.db: Done\n",
      "db/linckii/~keab/data/88/meter_effect.db: Done\n",
      "db/linckii/~keab/data/88/meter_primreturntemp.db: Done\n",
      "db/linckii/~keab/data/88/meter_primsupplytemp.db: Done\n",
      "db/linckii/~keab/data/88/meter_volumeflow.db: Done\n",
      "db/linckii/~keab/data/89/meter_effect.db: Done\n",
      "db/linckii/~keab/data/89/meter_primreturntemp.db: Done\n",
      "db/linckii/~keab/data/89/meter_primsupplytemp.db: Done\n",
      "db/linckii/~keab/data/89/meter_volumeflow.db: Done\n",
      "db/linckii/~keab/data/90/meter_effect.db: ErrorException(\"column datetime not found.\")\n",
      "db/linckii/~keab/data/90/meter_primreturntemp.db: ErrorException(\"column datetime not found.\")\n",
      "db/linckii/~keab/data/90/meter_primsupplytemp.db: ErrorException(\"column datetime not found.\")\n",
      "db/linckii/~keab/data/90/meter_volumeflow.db: ErrorException(\"column datetime not found.\")\n",
      "db/linckii/~keab/data/91/meter_effect.db: Done\n",
      "db/linckii/~keab/data/91/meter_primreturntemp.db: Done\n",
      "db/linckii/~keab/data/91/meter_primsupplytemp.db: Done\n",
      "db/linckii/~keab/data/91/meter_volumeflow.db: Done\n",
      "db/linckii/~keab/data/92/meter_effect.db: Done\n",
      "db/linckii/~keab/data/92/meter_primreturntemp.db: Done\n",
      "db/linckii/~keab/data/92/meter_primsupplytemp.db: Done\n",
      "db/linckii/~keab/data/92/meter_volumeflow.db: Done\n",
      "db/linckii/~keab/data/93/meter_effect.db: Done\n",
      "db/linckii/~keab/data/93/meter_primreturntemp.db: Done\n",
      "db/linckii/~keab/data/93/meter_primsupplytemp.db: Done\n",
      "db/linckii/~keab/data/93/meter_volumeflow.db: Done\n",
      "db/linckii/~keab/data/94/meter_effect.db: Done\n",
      "db/linckii/~keab/data/94/meter_primreturntemp.db: Done\n",
      "db/linckii/~keab/data/94/meter_primsupplytemp.db: Done\n",
      "db/linckii/~keab/data/94/meter_volumeflow.db: Done\n",
      "db/linckii/~keab/data/95/meter_effect.db: Done\n",
      "db/linckii/~keab/data/95/meter_primreturntemp.db: Done\n",
      "db/linckii/~keab/data/95/meter_primsupplytemp.db: Done\n",
      "db/linckii/~keab/data/95/meter_volumeflow.db: Done\n",
      "db/linckii/~keab/data/96/meter_effect.db: Done\n",
      "db/linckii/~keab/data/96/meter_primreturntemp.db: Done\n",
      "db/linckii/~keab/data/96/meter_primsupplytemp.db: Done\n",
      "db/linckii/~keab/data/96/meter_volumeflow.db: Done\n",
      "db/linckii/~keab/data/97/meter_effect.db: Done\n",
      "db/linckii/~keab/data/97/meter_primreturntemp.db: Done\n",
      "db/linckii/~keab/data/97/meter_primsupplytemp.db: Done\n",
      "db/linckii/~keab/data/97/meter_volumeflow.db: Done\n",
      "db/linckii/~keab/data/98/meter_effect.db: Done\n",
      "db/linckii/~keab/data/98/meter_primreturntemp.db: Done\n",
      "db/linckii/~keab/data/98/meter_primsupplytemp.db: Done\n",
      "db/linckii/~keab/data/98/meter_volumeflow.db: Done\n",
      "db/linckii/~keab/data/99/meter_effect.db: Done\n",
      "db/linckii/~keab/data/99/meter_primreturntemp.db: Done\n",
      "db/linckii/~keab/data/99/meter_primsupplytemp.db: Done\n",
      "db/linckii/~keab/data/99/meter_volumeflow.db: Done\n",
      "db/linckii/~keab/data/100/meter_effect.db: Done\n",
      "db/linckii/~keab/data/100/meter_primreturntemp.db: Done\n",
      "db/linckii/~keab/data/100/meter_primsupplytemp.db: Done\n",
      "db/linckii/~keab/data/100/meter_volumeflow.db: Done\n",
      "db/linckii/~keab/data/101/meter_effect.db: Done\n",
      "db/linckii/~keab/data/101/meter_primreturntemp.db: Done\n",
      "db/linckii/~keab/data/101/meter_primsupplytemp.db: Done\n",
      "db/linckii/~keab/data/101/meter_volumeflow.db: Done\n",
      "db/linckii/~keab/data/102/meter_effect.db: Done\n",
      "db/linckii/~keab/data/102/meter_primreturntemp.db: Done\n",
      "db/linckii/~keab/data/102/meter_primsupplytemp.db: Done\n",
      "db/linckii/~keab/data/102/meter_volumeflow.db: Done\n",
      "db/linckii/~keab/data/103/meter_effect.db: Done\n",
      "db/linckii/~keab/data/103/meter_primreturntemp.db: Done\n",
      "db/linckii/~keab/data/103/meter_primsupplytemp.db: Done\n",
      "db/linckii/~keab/data/103/meter_volumeflow.db: Done\n",
      "db/linckii/~keab/data/104/meter_effect.db: Done\n",
      "db/linckii/~keab/data/104/meter_primreturntemp.db: Done\n",
      "db/linckii/~keab/data/104/meter_primsupplytemp.db: Done\n",
      "db/linckii/~keab/data/104/meter_volumeflow.db: Done\n",
      "db/linckii/~keab/data/105/meter_effect.db: Done\n",
      "db/linckii/~keab/data/105/meter_primreturntemp.db: Done\n",
      "db/linckii/~keab/data/105/meter_primsupplytemp.db: Done\n",
      "db/linckii/~keab/data/105/meter_volumeflow.db: Done\n",
      "db/linckii/~keab/data/106/meter_effect.db: Done\n",
      "db/linckii/~keab/data/106/meter_primreturntemp.db: Done\n",
      "db/linckii/~keab/data/106/meter_primsupplytemp.db: Done\n",
      "db/linckii/~keab/data/106/meter_volumeflow.db: Done\n",
      "db/linckii/~keab/data/107/meter_effect.db: Done\n",
      "db/linckii/~keab/data/107/meter_primreturntemp.db: Done\n",
      "db/linckii/~keab/data/107/meter_primsupplytemp.db: Done\n",
      "db/linckii/~keab/data/107/meter_volumeflow.db: Done\n",
      "db/linckii/~keab/data/108/meter_effect.db: Done\n",
      "db/linckii/~keab/data/108/meter_primreturntemp.db: Done\n",
      "db/linckii/~keab/data/108/meter_primsupplytemp.db: Done\n",
      "db/linckii/~keab/data/108/meter_volumeflow.db: Done\n",
      "db/linckii/~keab/data/109/meter_effect.db: ErrorException(\"column datetime not found.\")\n",
      "db/linckii/~keab/data/109/meter_primreturntemp.db: ErrorException(\"column datetime not found.\")\n",
      "db/linckii/~keab/data/109/meter_primsupplytemp.db: ErrorException(\"column datetime not found.\")\n",
      "db/linckii/~keab/data/109/meter_volumeflow.db: ErrorException(\"column datetime not found.\")\n",
      "db/linckii/~keab/data/111/meter_effect.db: ErrorException(\"column datetime not found.\")\n",
      "db/linckii/~keab/data/111/meter_primreturntemp.db: ErrorException(\"column datetime not found.\")\n",
      "db/linckii/~keab/data/111/meter_primsupplytemp.db: ErrorException(\"column datetime not found.\")\n",
      "db/linckii/~keab/data/111/meter_volumeflow.db: ErrorException(\"column datetime not found.\")\n",
      "db/linckii/~keab/data/211/meter_effect.db: ErrorException(\"column datetime not found.\")\n",
      "db/linckii/~keab/data/211/meter_volumeflow.db: Done\n",
      "db/linckii/~keab/data/212/meter_effect.db: ErrorException(\"column datetime not found.\")\n",
      "db/linckii/~keab/data/212/meter_volumeflow.db: ErrorException(\"column datetime not found.\")\n",
      "db/linckii/~keab/data/213/meter_effect.db: ErrorException(\"column datetime not found.\")\n",
      "db/linckii/~keab/data/213/meter_volumeflow.db: ErrorException(\"column datetime not found.\")\n",
      "db/linckii/~keab/data/214/meter_effect.db: ErrorException(\"column datetime not found.\")\n",
      "db/linckii/~keab/data/214/meter_volumeflow.db: ErrorException(\"column datetime not found.\")\n",
      "db/linckii/~keab/data/215/meter_effect.db: ErrorException(\"column datetime not found.\")\n",
      "db/linckii/~keab/data/215/meter_volumeflow.db: ErrorException(\"column datetime not found.\")\n",
      "db/linckii/~keab/data/216/meter_effect.db: ErrorException(\"column datetime not found.\")\n",
      "db/linckii/~keab/data/216/meter_volumeflow.db: ErrorException(\"column datetime not found.\")\n",
      "db/linckii/~keab/data/217/meter_effect.db: ErrorException(\"column datetime not found.\")\n",
      "db/linckii/~keab/data/217/meter_volumeflow.db: ErrorException(\"column datetime not found.\")\n",
      "db/linckii/~keab/data/218/meter_effect.db: ErrorException(\"column datetime not found.\")\n",
      "db/linckii/~keab/data/218/meter_volumeflow.db: ErrorException(\"column datetime not found.\")\n",
      "db/linckii/~keab/data/219/meter_effect.db: ErrorException(\"column datetime not found.\")\n",
      "db/linckii/~keab/data/219/meter_volumeflow.db: ErrorException(\"column datetime not found.\")\n",
      "db/linckii/~keab/data/220/meter_effect.db: ErrorException(\"column datetime not found.\")\n",
      "db/linckii/~keab/data/220/meter_volumeflow.db: ErrorException(\"column datetime not found.\")\n",
      "db/linckii/~keab/data/222/meter_effect.db: ErrorException(\"column datetime not found.\")\n",
      "db/linckii/~keab/data/223/meter_effect.db: ErrorException(\"column datetime not found.\")\n",
      "db/linckii/~keab/data/224/meter_effect.db: ErrorException(\"column datetime not found.\")\n",
      "db/linckii/~keab/data/227/meter_effect.db: ErrorException(\"column datetime not found.\")\n",
      "db/linckii/~keab/data/227/meter_volumeflow.db: ErrorException(\"column datetime not found.\")\n",
      "10699.549557 seconds (1.61 G allocations: 58.219 GiB, 0.19% gc time)\n"
     ]
    }
   ],
   "source": [
    "rs = JuliaDB.rows(signals)\n",
    "if false\n",
    "    rs = [rs[Random.rand(1 : end)]]\n",
    "end\n",
    "@time for r in rs\n",
    "    filepath = \"$(Linckii.datapath(access, r.node_id, r.sensor_name)).db\"\n",
    "    if !isfile(filepath)\n",
    "        try\n",
    "            Linckii.savedata(access, r.node_id, r.sensor_name, dates...)\n",
    "            println(\"$(filepath): Done\")\n",
    "        catch e\n",
    "            println(\"$(filepath): $(e)\")\n",
    "        end\n",
    "    end\n",
    "end"
   ]
  },
  {
   "cell_type": "markdown",
   "metadata": {},
   "source": [
    "Load data,"
   ]
  },
  {
   "cell_type": "code",
   "execution_count": 18,
   "metadata": {},
   "outputs": [
    {
     "data": {
      "text/plain": [
       "(57, :meter_volumeflow)"
      ]
     },
     "execution_count": 18,
     "metadata": {},
     "output_type": "execute_result"
    }
   ],
   "source": [
    "r = JuliaDB.rows(signals)[Random.rand(1 : end)]\n",
    "(r.node_id, r.sensor_name)"
   ]
  },
  {
   "cell_type": "code",
   "execution_count": 19,
   "metadata": {},
   "outputs": [
    {
     "data": {
      "text/plain": [
       "Table with 96524 rows, 5 columns:\n",
       "\u001b[1mdatetime             \u001b[22m\u001b[1mtimezone  \u001b[22m\u001b[1mnode_id  \u001b[22mvariable           value\n",
       "─────────────────────────────────────────────────────────────────\n",
       "2017-12-01T00:02:02  13:00:00  57       :meter_volumeflow  1004.0\n",
       "2017-12-01T00:12:03  13:00:00  57       :meter_volumeflow  1033.0\n",
       "2017-12-01T00:22:03  13:00:00  57       :meter_volumeflow  903.0\n",
       "2017-12-01T00:32:03  13:00:00  57       :meter_volumeflow  903.0\n",
       "2017-12-01T00:42:02  13:00:00  57       :meter_volumeflow  1026.0\n",
       "2017-12-01T00:52:02  13:00:00  57       :meter_volumeflow  997.0\n",
       "2017-12-01T01:02:03  13:00:00  57       :meter_volumeflow  939.0\n",
       "2017-12-01T01:12:03  13:00:00  57       :meter_volumeflow  892.0\n",
       "2017-12-01T01:22:03  13:00:00  57       :meter_volumeflow  950.0\n",
       "2017-12-01T01:32:02  13:00:00  57       :meter_volumeflow  954.0\n",
       "2017-12-01T01:42:02  13:00:00  57       :meter_volumeflow  864.0\n",
       "2017-12-01T01:52:03  13:00:00  57       :meter_volumeflow  907.0\n",
       "⋮\n",
       "2019-11-30T22:12:03  13:00:00  57       :meter_volumeflow  1292.0\n",
       "2019-11-30T22:22:03  13:00:00  57       :meter_volumeflow  1137.0\n",
       "2019-11-30T22:32:03  13:00:00  57       :meter_volumeflow  1198.0\n",
       "2019-11-30T22:42:02  13:00:00  57       :meter_volumeflow  1242.0\n",
       "2019-11-30T22:52:02  13:00:00  57       :meter_volumeflow  1126.0\n",
       "2019-11-30T23:02:03  13:00:00  57       :meter_volumeflow  1159.0\n",
       "2019-11-30T23:12:03  13:00:00  57       :meter_volumeflow  1198.0\n",
       "2019-11-30T23:22:03  13:00:00  57       :meter_volumeflow  1126.0\n",
       "2019-11-30T23:32:02  13:00:00  57       :meter_volumeflow  1123.0\n",
       "2019-11-30T23:42:02  13:00:00  57       :meter_volumeflow  1245.0\n",
       "2019-11-30T23:52:03  13:00:00  57       :meter_volumeflow  1029.0"
      ]
     },
     "execution_count": 19,
     "metadata": {},
     "output_type": "execute_result"
    }
   ],
   "source": [
    "data = Linckii.loaddata(access, r.node_id, r.sensor_name)"
   ]
  },
  {
   "cell_type": "markdown",
   "metadata": {},
   "source": [
    "Simple plot,"
   ]
  },
  {
   "cell_type": "code",
   "execution_count": 39,
   "metadata": {},
   "outputs": [
    {
     "data": {
      "image/png": "[encoded data removed]"
     },
     "execution_count": 39,
     "metadata": {},
     "output_type": "execute_result"
    }
   ],
   "source": [
    "t = JuliaDB.filter(\n",
    "    r -> r.datetime >= Dates.DateTime(2019, 11) && r.datetime <= Dates.DateTime(2019, 12),\n",
    "    data,\n",
    ")\n",
    "@df t plot(:datetime, :value, label = Linckii.datapath(access, r.node_id, r.sensor_name))"
   ]
  },
  {
   "cell_type": "code",
   "execution_count": null,
   "metadata": {},
   "outputs": [],
   "source": []
  }
 ],
 "metadata": {
  "kernelspec": {
   "display_name": "Julia 1.3.0",
   "language": "julia",
   "name": "julia-1.3"
  },
  "language_info": {
   "file_extension": ".jl",
   "mimetype": "application/julia",
   "name": "julia",
   "version": "1.3.0"
  }
 },
 "nbformat": 4,
 "nbformat_minor": 4
}
