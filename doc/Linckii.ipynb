{
 "cells": [
  {
   "cell_type": "markdown",
   "metadata": {},
   "source": [
    "# Example use of the Sonic module Linckii.jl"
   ]
  },
  {
   "cell_type": "markdown",
   "metadata": {},
   "source": [
    "See https://julialang.org, https://juliadb.org and https://juliastats.org for reference."
   ]
  },
  {
   "cell_type": "code",
   "execution_count": 1,
   "metadata": {},
   "outputs": [
    {
     "name": "stdout",
     "output_type": "stream",
     "text": [
      "\u001b[32m\u001b[1mActivating\u001b[22m\u001b[39m environment at `~/Documents/Calendar/Work/Noda/Code/Sonic.jl/Project.toml`\n"
     ]
    }
   ],
   "source": [
    "import Pkg                      # package manager\n",
    "Pkg.activate(\"..\")              # Project.toml\n",
    "Pkg.instantiate()               # https://julialang.github.io/Pkg.jl/v1.0/index.html"
   ]
  },
  {
   "cell_type": "code",
   "execution_count": 2,
   "metadata": {},
   "outputs": [],
   "source": [
    "import Dates, JuliaDB, Random, StatsPlots"
   ]
  },
  {
   "cell_type": "code",
   "execution_count": 3,
   "metadata": {},
   "outputs": [
    {
     "data": {
      "text/plain": [
       "Plots.GRBackend()"
      ]
     },
     "execution_count": 3,
     "metadata": {},
     "output_type": "execute_result"
    }
   ],
   "source": [
    "using StatsPlots\n",
    "ENV[\"GKSwstype\"] = \"100\"\n",
    "gr(fmt = :png)"
   ]
  },
  {
   "cell_type": "markdown",
   "metadata": {},
   "source": [
    "Get secret token,"
   ]
  },
  {
   "cell_type": "code",
   "execution_count": 4,
   "metadata": {},
   "outputs": [
    {
     "data": {
      "text/plain": [
       "(url = \"https://canary.noda.se/~keab\", key = \"e86d93131e6bc12ae701d036e696cf8b\")"
      ]
     },
     "execution_count": 4,
     "metadata": {},
     "output_type": "execute_result"
    }
   ],
   "source": [
    "include(\"../src/LinckiiSecrets.jl\")\n",
    "secret = LinckiiSecrets.keab"
   ]
  },
  {
   "cell_type": "markdown",
   "metadata": {},
   "source": [
    "Get access token,"
   ]
  },
  {
   "cell_type": "code",
   "execution_count": 36,
   "metadata": {},
   "outputs": [
    {
     "name": "stderr",
     "output_type": "stream",
     "text": [
      "WARNING: replacing module Linckii.\n"
     ]
    },
    {
     "data": {
      "text/plain": [
       "(url = \"https://canary.noda.se/~keab\", key = \"e86d93131e6bc12ae701d036e696cf8b\")"
      ]
     },
     "execution_count": 36,
     "metadata": {},
     "output_type": "execute_result"
    }
   ],
   "source": [
    "include(\"../src/Linckii.jl\")\n",
    "access = Linckii.get_access(secret)"
   ]
  },
  {
   "cell_type": "markdown",
   "metadata": {},
   "source": [
    "`GET https://canary.noda.se/~keab/api/v1/nodes`,"
   ]
  },
  {
   "cell_type": "code",
   "execution_count": 6,
   "metadata": {},
   "outputs": [
    {
     "name": "stdout",
     "output_type": "stream",
     "text": [
      " 72.837504 seconds (60.90 M allocations: 3.938 GiB, 1.68% gc time)\n"
     ]
    },
    {
     "data": {
      "text/plain": [
       "Table with 279 rows, 8 columns:\n",
       "Columns:\n",
       "\u001b[1m#  \u001b[22m\u001b[1mcolname           \u001b[22m\u001b[1mtype\u001b[22m\n",
       "───────────────────────────────────\n",
       "1  node_public       Bool\n",
       "2  node_name         Symbol\n",
       "3  device_id         Int64\n",
       "4  node_id           Int64\n",
       "5  node_owner        Bool\n",
       "6  node_enabled      Bool\n",
       "7  sensor_ids        Array{Int64,1}\n",
       "8  node_description  String"
      ]
     },
     "execution_count": 6,
     "metadata": {},
     "output_type": "execute_result"
    }
   ],
   "source": [
    "@time site_nodes = Linckii.get_nodes(access)"
   ]
  },
  {
   "cell_type": "markdown",
   "metadata": {},
   "source": [
    "`GET https://canary.noda.se/~keab/api/v1/devices`,"
   ]
  },
  {
   "cell_type": "code",
   "execution_count": 7,
   "metadata": {},
   "outputs": [
    {
     "name": "stdout",
     "output_type": "stream",
     "text": [
      " 38.458815 seconds (28.98 M allocations: 2.001 GiB, 1.39% gc time)\n"
     ]
    },
    {
     "data": {
      "text/plain": [
       "Table with 11 rows, 3 columns:\n",
       "protocol_id  device_name                     \u001b[1mdevice_id\u001b[22m\n",
       "──────────────────────────────────────────────────────\n",
       "1            Symbol(\"Kelp-IQHeat\")           1\n",
       "2            :Scout                          2\n",
       "1            Symbol(\"Kelp-Basic\")            4\n",
       "5            Symbol(\"Weather-Forecast\")      6\n",
       "6            Symbol(\"Grid-Basic\")            7\n",
       "6            Symbol(\"Grid-Controller\")       8\n",
       "7            Symbol(\"Heat-Load-Forecast\")    9\n",
       "2            :CMa1Xw                         10\n",
       "2            Symbol(\"EcoGuard Sensor\")       11\n",
       "2            :WEPTech                        12\n",
       "8            Symbol(\"Flexibility-Forecast\")  13"
      ]
     },
     "execution_count": 7,
     "metadata": {},
     "output_type": "execute_result"
    }
   ],
   "source": [
    "@time site_devices = Linckii.get_devices(access)"
   ]
  },
  {
   "cell_type": "markdown",
   "metadata": {},
   "source": [
    "`GET https://canary.noda.se/~keab/api/v1/sensors`,"
   ]
  },
  {
   "cell_type": "code",
   "execution_count": 8,
   "metadata": {},
   "outputs": [
    {
     "name": "stdout",
     "output_type": "stream",
     "text": [
      " 46.833608 seconds (37.71 M allocations: 2.596 GiB, 1.51% gc time)\n"
     ]
    },
    {
     "data": {
      "text/plain": [
       "Table with 175 rows, 5 columns:\n",
       "Columns:\n",
       "\u001b[1m#  \u001b[22m\u001b[1mcolname             \u001b[22m\u001b[1mtype\u001b[22m\n",
       "────────────────────────────────\n",
       "1  sensor_unit         FreeUnits\n",
       "2  sensor_name         Symbol\n",
       "3  protocol_id         Int64\n",
       "4  sensor_id           Int64\n",
       "5  sensor_description  String"
      ]
     },
     "execution_count": 8,
     "metadata": {},
     "output_type": "execute_result"
    }
   ],
   "source": [
    "@time site_sensors = Linckii.get_sensors(access)"
   ]
  },
  {
   "cell_type": "code",
   "execution_count": 9,
   "metadata": {},
   "outputs": [
    {
     "data": {
      "text/plain": [
       "(nodes = 279, devices = 11, sensors = 175)"
      ]
     },
     "execution_count": 9,
     "metadata": {},
     "output_type": "execute_result"
    }
   ],
   "source": [
    "site = (nodes = site_nodes, devices = site_devices, sensors = site_sensors)\n",
    "map(length, site)"
   ]
  },
  {
   "cell_type": "markdown",
   "metadata": {},
   "source": [
    "Save site,"
   ]
  },
  {
   "cell_type": "code",
   "execution_count": 22,
   "metadata": {},
   "outputs": [
    {
     "name": "stdout",
     "output_type": "stream",
     "text": [
      "  3.292588 seconds (7.65 M allocations: 388.889 MiB, 4.18% gc time)\n"
     ]
    }
   ],
   "source": [
    "@time Linckii.savesite(secret; site...)"
   ]
  },
  {
   "cell_type": "markdown",
   "metadata": {},
   "source": [
    "Load site,"
   ]
  },
  {
   "cell_type": "code",
   "execution_count": 23,
   "metadata": {},
   "outputs": [
    {
     "name": "stdout",
     "output_type": "stream",
     "text": [
      "  0.135743 seconds (102.20 k allocations: 5.367 MiB)\n"
     ]
    },
    {
     "data": {
      "text/plain": [
       "(nodes = 279, devices = 11, sensors = 175)"
      ]
     },
     "execution_count": 23,
     "metadata": {},
     "output_type": "execute_result"
    }
   ],
   "source": [
    "@time site = Linckii.loadsite(secret, :nodes, :devices, :sensors)\n",
    "map(length, site)"
   ]
  },
  {
   "cell_type": "markdown",
   "metadata": {},
   "source": [
    "Specify patterns,"
   ]
  },
  {
   "cell_type": "code",
   "execution_count": 24,
   "metadata": {},
   "outputs": [
    {
     "data": {
      "text/plain": [
       "Dict{Int64,Dict{Symbol,typeof(identity)}} with 2 entries:\n",
       "  4 => Dict(:meter_primreturntemp=>identity,:meter_effect=>identity,:outdoortem…\n",
       "  6 => Dict(:cloudiness=>identity,:outdoortemp=>identity,:wind_direction=>ident…"
      ]
     },
     "execution_count": 24,
     "metadata": {},
     "output_type": "execute_result"
    }
   ],
   "source": [
    "patterns = Dict(\n",
    "    4 => Dict(\n",
    "        :meter_effect           => identity,\n",
    "        :meter_heatenergy       => identity,\n",
    "        :meter_primreturntemp   => identity,\n",
    "        :meter_primsupplytemp   => identity,\n",
    "        :meter_volume           => identity,\n",
    "        :meter_volumeflow       => identity,\n",
    "        :outdoortemp            => identity,\n",
    "        :outdoortemp_offset     => identity,\n",
    "    ),\n",
    "    6 => Dict(\n",
    "        :cloudiness             => identity,\n",
    "        :outdoortemp            => identity,\n",
    "        :wind_direction         => identity,\n",
    "        :wind_speed             => identity,\n",
    "    ),\n",
    ")"
   ]
  },
  {
   "cell_type": "markdown",
   "metadata": {},
   "source": [
    "Get pattern nodes,"
   ]
  },
  {
   "cell_type": "code",
   "execution_count": 25,
   "metadata": {},
   "outputs": [
    {
     "data": {
      "text/plain": [
       "1"
      ]
     },
     "execution_count": 25,
     "metadata": {},
     "output_type": "execute_result"
    }
   ],
   "source": [
    "rs = JuliaDB.rows(Linckii.get_pattern_nodes(patterns; site...))\n",
    "if true\n",
    "    rs = [(node_id = 62, device_id = 4), (node_id = 93, device_id = 4)] # [rs[Random.rand(1 : end)]]\n",
    "end\n",
    "length(rs)"
   ]
  },
  {
   "cell_type": "markdown",
   "metadata": {},
   "source": [
    "Save data,"
   ]
  },
  {
   "cell_type": "code",
   "execution_count": 26,
   "metadata": {},
   "outputs": [
    {
     "data": {
      "text/plain": [
       "2017-12-01T00:00:00:1 month:2019-12-01T00:00:00"
      ]
     },
     "execution_count": 26,
     "metadata": {},
     "output_type": "execute_result"
    }
   ],
   "source": [
    "dates = Dates.DateTime(2017, 12) : Dates.Month(1) : Dates.DateTime(2019, 12)"
   ]
  },
  {
   "cell_type": "code",
   "execution_count": 30,
   "metadata": {},
   "outputs": [
    {
     "name": "stdout",
     "output_type": "stream",
     "text": [
      "db/linckii/~keab/data/62/meter_primreturntemp.db: Done\n",
      "db/linckii/~keab/data/62/meter_effect.db: Done\n",
      "db/linckii/~keab/data/62/outdoortemp.db: Done\n",
      "db/linckii/~keab/data/62/meter_primsupplytemp.db: Done\n",
      "db/linckii/~keab/data/62/meter_volumeflow.db: Done\n",
      "db/linckii/~keab/data/62/meter_volume.db: Done\n",
      "db/linckii/~keab/data/62/outdoortemp_offset.db: Done\n",
      "db/linckii/~keab/data/62/meter_heatenergy.db: Done\n",
      "209.726679 seconds (37.78 M allocations: 1.991 GiB, 0.46% gc time)\n"
     ]
    }
   ],
   "source": [
    "@time for r in rs\n",
    "    for sensor_name in keys(patterns[r.device_id])\n",
    "        p = Linckii.urlpath(secret)\n",
    "        p = Linckii.db_path(p, \"data\", r.node_id; db = sensor_name)\n",
    "        try\n",
    "            Linckii.savedata(access, r.node_id, sensor_name, dates...)\n",
    "            println(\"$(p): Done\")\n",
    "        catch e\n",
    "            println(\"$(p): $(e)\")\n",
    "        end\n",
    "    end\n",
    "end"
   ]
  },
  {
   "cell_type": "markdown",
   "metadata": {},
   "source": [
    "Random choice,"
   ]
  },
  {
   "cell_type": "code",
   "execution_count": 31,
   "metadata": {},
   "outputs": [
    {
     "data": {
      "text/plain": [
       "(node_id = 62, device_id = 4)"
      ]
     },
     "execution_count": 31,
     "metadata": {},
     "output_type": "execute_result"
    }
   ],
   "source": [
    "r = rs[Random.rand(1 : end)]"
   ]
  },
  {
   "cell_type": "code",
   "execution_count": 32,
   "metadata": {},
   "outputs": [
    {
     "data": {
      "text/plain": [
       "8-element Array{Symbol,1}:\n",
       " :meter_primreturntemp\n",
       " :meter_effect        \n",
       " :outdoortemp         \n",
       " :meter_primsupplytemp\n",
       " :meter_volumeflow    \n",
       " :meter_volume        \n",
       " :outdoortemp_offset  \n",
       " :meter_heatenergy    "
      ]
     },
     "execution_count": 32,
     "metadata": {},
     "output_type": "execute_result"
    }
   ],
   "source": [
    "sensor_names = collect(keys(patterns[r.device_id]))"
   ]
  },
  {
   "cell_type": "code",
   "execution_count": 33,
   "metadata": {},
   "outputs": [
    {
     "data": {
      "text/plain": [
       ":meter_volume"
      ]
     },
     "execution_count": 33,
     "metadata": {},
     "output_type": "execute_result"
    }
   ],
   "source": [
    "sensor_name = sensor_names[Random.rand(1 : end)]"
   ]
  },
  {
   "cell_type": "markdown",
   "metadata": {},
   "source": [
    "Load data,"
   ]
  },
  {
   "cell_type": "code",
   "execution_count": 37,
   "metadata": {},
   "outputs": [
    {
     "data": {
      "text/plain": [
       "Table with 92815 rows, 3 columns:\n",
       "\u001b[1mdatetime             \u001b[22mvariable       value\n",
       "───────────────────────────────────────────\n",
       "2017-12-01T00:12:03  :meter_volume  14117.1\n",
       "2017-12-01T00:22:03  :meter_volume  14117.2\n",
       "2017-12-01T00:32:02  :meter_volume  14117.3\n",
       "2017-12-01T00:42:02  :meter_volume  14117.4\n",
       "2017-12-01T00:52:03  :meter_volume  14117.5\n",
       "2017-12-01T01:02:03  :meter_volume  14117.6\n",
       "2017-12-01T01:12:03  :meter_volume  14117.7\n",
       "2017-12-01T01:22:02  :meter_volume  14117.8\n",
       "2017-12-01T01:32:02  :meter_volume  14117.9\n",
       "2017-12-01T01:42:03  :meter_volume  14118.1\n",
       "2017-12-01T01:52:03  :meter_volume  14118.2\n",
       "2017-12-01T02:02:03  :meter_volume  14118.3\n",
       "⋮\n",
       "2019-11-30T22:12:02  :meter_volume  23193.0\n",
       "2019-11-30T22:22:02  :meter_volume  23193.2\n",
       "2019-11-30T22:32:03  :meter_volume  23193.3\n",
       "2019-11-30T22:42:03  :meter_volume  23193.5\n",
       "2019-11-30T22:52:03  :meter_volume  23193.7\n",
       "2019-11-30T23:02:02  :meter_volume  23193.8\n",
       "2019-11-30T23:12:02  :meter_volume  23194.0\n",
       "2019-11-30T23:22:03  :meter_volume  23194.2\n",
       "2019-11-30T23:32:04  :meter_volume  23194.3\n",
       "2019-11-30T23:42:03  :meter_volume  23194.5\n",
       "2019-11-30T23:52:02  :meter_volume  23194.7"
      ]
     },
     "execution_count": 37,
     "metadata": {},
     "output_type": "execute_result"
    }
   ],
   "source": [
    "data = Linckii.loaddata(secret, r.node_id, sensor_name)"
   ]
  },
  {
   "cell_type": "markdown",
   "metadata": {},
   "source": [
    "Simple graphics,"
   ]
  },
  {
   "cell_type": "code",
   "execution_count": 39,
   "metadata": {},
   "outputs": [
    {
     "data": {
      "image/png": "[encoded data removed]"
     },
     "execution_count": 39,
     "metadata": {},
     "output_type": "execute_result"
    }
   ],
   "source": [
    "@df data plot(:datetime, :value, label = Linckii.db_path(r.node_id; db = sensor_name))"
   ]
  },
  {
   "cell_type": "code",
   "execution_count": null,
   "metadata": {},
   "outputs": [],
   "source": []
  }
 ],
 "metadata": {
  "kernelspec": {
   "display_name": "Julia 1.3.0",
   "language": "julia",
   "name": "julia-1.3"
  },
  "language_info": {
   "file_extension": ".jl",
   "mimetype": "application/julia",
   "name": "julia",
   "version": "1.3.0"
  }
 },
 "nbformat": 4,
 "nbformat_minor": 4
}
