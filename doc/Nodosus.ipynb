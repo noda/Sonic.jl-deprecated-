{
 "cells": [
  {
   "cell_type": "markdown",
   "metadata": {},
   "source": [
    "# Example use of the Sonic module Nodosus.jl"
   ]
  },
  {
   "cell_type": "markdown",
   "metadata": {},
   "source": [
    "See https://julialang.org, https://juliadb.org and https://juliastats.org for reference."
   ]
  },
  {
   "cell_type": "code",
   "execution_count": 1,
   "metadata": {},
   "outputs": [
    {
     "name": "stdout",
     "output_type": "stream",
     "text": [
      "\u001b[32m\u001b[1mActivating\u001b[22m\u001b[39m environment at `~/Documents/Calendar/Work/Noda/Code/Sonic.jl/Project.toml`\n"
     ]
    }
   ],
   "source": [
    "import Pkg                      # package manager\n",
    "Pkg.activate(\"..\")              # Project.toml\n",
    "Pkg.instantiate()               # https://julialang.github.io/Pkg.jl/v1.0/index.html"
   ]
  },
  {
   "cell_type": "code",
   "execution_count": 2,
   "metadata": {},
   "outputs": [],
   "source": [
    "import Dates, JuliaDB, Random, StatsPlots"
   ]
  },
  {
   "cell_type": "code",
   "execution_count": 3,
   "metadata": {},
   "outputs": [
    {
     "data": {
      "text/plain": [
       "Plots.GRBackend()"
      ]
     },
     "execution_count": 3,
     "metadata": {},
     "output_type": "execute_result"
    }
   ],
   "source": [
    "using StatsPlots\n",
    "ENV[\"GKSwstype\"] = \"100\"\n",
    "gr(fmt = :png)"
   ]
  },
  {
   "cell_type": "markdown",
   "metadata": {},
   "source": [
    "Get secret token,"
   ]
  },
  {
   "cell_type": "code",
   "execution_count": 4,
   "metadata": {},
   "outputs": [
    {
     "data": {
      "text/plain": [
       "(url = \"https://canary.noda.se/~keab\", key = \"e86d93131e6bc12ae701d036e696cf8b\")"
      ]
     },
     "execution_count": 4,
     "metadata": {},
     "output_type": "execute_result"
    }
   ],
   "source": [
    "include(\"../src/LinckiiSecrets.jl\")\n",
    "secret = LinckiiSecrets.keab"
   ]
  },
  {
   "cell_type": "code",
   "execution_count": 26,
   "metadata": {},
   "outputs": [
    {
     "name": "stderr",
     "output_type": "stream",
     "text": [
      "WARNING: replacing module Linckii.\n",
      "WARNING: replacing module Nodosus.\n"
     ]
    },
    {
     "data": {
      "text/plain": [
       "Main.Nodosus"
      ]
     },
     "execution_count": 26,
     "metadata": {},
     "output_type": "execute_result"
    }
   ],
   "source": [
    "include(\"../src/Linckii.jl\")\n",
    "include(\"../src/Nodosus.jl\")"
   ]
  },
  {
   "cell_type": "markdown",
   "metadata": {},
   "source": [
    "Load site,"
   ]
  },
  {
   "cell_type": "code",
   "execution_count": 6,
   "metadata": {},
   "outputs": [
    {
     "name": "stdout",
     "output_type": "stream",
     "text": [
      " 26.587703 seconds (24.79 M allocations: 1.665 GiB, 1.71% gc time)\n"
     ]
    },
    {
     "data": {
      "text/plain": [
       "()"
      ]
     },
     "execution_count": 6,
     "metadata": {},
     "output_type": "execute_result"
    }
   ],
   "source": [
    "@time site = Linckii.loadsite(secret, :nodes, :devices, :sensors)\n",
    "()"
   ]
  },
  {
   "cell_type": "markdown",
   "metadata": {},
   "source": [
    "Specify patterns,"
   ]
  },
  {
   "cell_type": "code",
   "execution_count": 7,
   "metadata": {},
   "outputs": [
    {
     "data": {
      "text/plain": [
       "Dict{Int64,Dict{Symbol,V} where V} with 2 entries:\n",
       "  4 => Dict{Symbol,Function}(:meter_primreturntemp=>#9,:meter_effect=>#9,:outdo…\n",
       "  6 => Dict(:cloudiness=>#9,:outdoortemp=>#9,:wind_direction=>#9,:wind_speed=>#…"
      ]
     },
     "execution_count": 7,
     "metadata": {},
     "output_type": "execute_result"
    }
   ],
   "source": [
    "p, q = Dates.Minute(15), Dates.Minute(4 * 4 * 15)\n",
    "pp0 = rows -> Nodosus.preprocess0(rows, p, q)\n",
    "pp1 = rows -> Nodosus.preprocess1(rows, p, q)\n",
    "pp2 = rows -> Nodosus.preprocess2(rows, p, q)\n",
    "patterns = Dict(\n",
    "    4 => Dict(\n",
    "        :meter_effect           => pp1,\n",
    "        :meter_heatenergy       => pp2,\n",
    "        :meter_primreturntemp   => pp1,\n",
    "        :meter_primsupplytemp   => pp1,\n",
    "        :meter_volume           => pp2,\n",
    "        :meter_volumeflow       => pp1,\n",
    "        :outdoortemp            => pp1,\n",
    "        :outdoortemp_offset     => pp0,\n",
    "    ),\n",
    "    6 => Dict(\n",
    "        :cloudiness             => pp1,\n",
    "        :outdoortemp            => pp1,\n",
    "        :wind_direction         => pp1,\n",
    "        :wind_speed             => pp1,\n",
    "    ),\n",
    ")"
   ]
  },
  {
   "cell_type": "markdown",
   "metadata": {},
   "source": [
    "Get pattern nodes,"
   ]
  },
  {
   "cell_type": "code",
   "execution_count": 8,
   "metadata": {},
   "outputs": [
    {
     "data": {
      "text/plain": [
       "2-element Array{NamedTuple{(:node_id, :device_id),Tuple{Int64,Int64}},1}:\n",
       " (node_id = 62, device_id = 4)\n",
       " (node_id = 93, device_id = 4)"
      ]
     },
     "execution_count": 8,
     "metadata": {},
     "output_type": "execute_result"
    }
   ],
   "source": [
    "rs = JuliaDB.rows(Linckii.get_pattern_nodes(patterns; site...))\n",
    "if true\n",
    "    rs = [(node_id = 62, device_id = 4), (node_id = 93, device_id = 4)] # [rs[Random.rand(1 : end)]]\n",
    "end"
   ]
  },
  {
   "cell_type": "markdown",
   "metadata": {},
   "source": [
    "Load data,"
   ]
  },
  {
   "cell_type": "code",
   "execution_count": 9,
   "metadata": {},
   "outputs": [
    {
     "data": {
      "text/plain": [
       "Dict{Any,Any} with 0 entries"
      ]
     },
     "execution_count": 9,
     "metadata": {},
     "output_type": "execute_result"
    }
   ],
   "source": [
    "data = Dict()"
   ]
  },
  {
   "cell_type": "code",
   "execution_count": 30,
   "metadata": {},
   "outputs": [
    {
     "name": "stdout",
     "output_type": "stream",
     "text": [
      "db/linckii/~keab/data/62: MethodError(setindex!, (Table with 48572 rows, 3 columns:\n",
      "datetime             variable               value\n",
      "─────────────────────────────────────────────────\n",
      "2018-02-14T12:58:06  :meter_primreturntemp  41.0\n",
      "2018-02-14T13:08:06  :meter_primreturntemp  40.0\n",
      "2018-02-14T13:18:06  :meter_primreturntemp  44.0\n",
      "2018-02-14T13:28:05  :meter_primreturntemp  43.0\n",
      "2018-02-14T13:38:06  :meter_primreturntemp  43.0\n",
      "2018-02-14T13:48:13  :meter_primreturntemp  36.0\n",
      "2018-02-14T13:58:06  :meter_primreturntemp  44.0\n",
      "2018-02-14T14:08:05  :meter_primreturntemp  42.0\n",
      "2018-02-14T14:18:14  :meter_primreturntemp  43.0\n",
      "2018-02-14T14:28:06  :meter_primreturntemp  36.0\n",
      "2018-02-14T14:38:06  :meter_primreturntemp  43.0\n",
      "2018-02-14T14:48:05  :meter_primreturntemp  43.0\n",
      "⋮\n",
      "2019-03-28T06:28:14  :meter_primreturntemp  40.0\n",
      "2019-03-28T06:38:05  :meter_primreturntemp  36.0\n",
      "2019-03-28T06:48:21  :meter_primreturntemp  40.0\n",
      "2019-03-28T06:58:13  :meter_primreturntemp  34.0\n",
      "2019-03-28T07:08:06  :meter_primreturntemp  40.0\n",
      "2019-03-28T07:18:04  :meter_primreturntemp  30.0\n",
      "2019-03-28T07:28:05  :meter_primreturntemp  38.0\n",
      "2019-03-28T07:38:05  :meter_primreturntemp  32.0\n",
      "2019-03-28T07:48:04  :meter_primreturntemp  33.0\n",
      "2019-03-28T07:58:05  :meter_primreturntemp  21.0\n",
      "2019-03-28T08:08:06  :meter_primreturntemp  20.0, Table with 64914 rows, 9 columns:\n",
      "Columns:\n",
      "#  colname               type\n",
      "────────────────────────────────────────────────\n",
      "1  datetime              DateTime\n",
      "2  meter_effect          Union{Missing, Float64}\n",
      "3  meter_heatenergy      Union{Missing, Float64}\n",
      "4  meter_primreturntemp  Union{Missing, Float64}\n",
      "5  meter_primsupplytemp  Union{Missing, Float64}\n",
      "6  meter_volume          Union{Missing, Float64}\n",
      "7  meter_volumeflow      Union{Missing, Float64}\n",
      "8  outdoortemp           Union{Missing, Float64}\n",
      "9  outdoortemp_offset    Union{Missing, Float64}, 62), 0x00000000000069d1)\n",
      "db/linckii/~keab/data/93: MethodError(setindex!, (Table with 48572 rows, 3 columns:\n",
      "datetime             variable               value\n",
      "─────────────────────────────────────────────────\n",
      "2018-02-14T12:58:06  :meter_primreturntemp  41.0\n",
      "2018-02-14T13:08:06  :meter_primreturntemp  40.0\n",
      "2018-02-14T13:18:06  :meter_primreturntemp  44.0\n",
      "2018-02-14T13:28:05  :meter_primreturntemp  43.0\n",
      "2018-02-14T13:38:06  :meter_primreturntemp  43.0\n",
      "2018-02-14T13:48:13  :meter_primreturntemp  36.0\n",
      "2018-02-14T13:58:06  :meter_primreturntemp  44.0\n",
      "2018-02-14T14:08:05  :meter_primreturntemp  42.0\n",
      "2018-02-14T14:18:14  :meter_primreturntemp  43.0\n",
      "2018-02-14T14:28:06  :meter_primreturntemp  36.0\n",
      "2018-02-14T14:38:06  :meter_primreturntemp  43.0\n",
      "2018-02-14T14:48:05  :meter_primreturntemp  43.0\n",
      "⋮\n",
      "2019-03-28T06:28:14  :meter_primreturntemp  40.0\n",
      "2019-03-28T06:38:05  :meter_primreturntemp  36.0\n",
      "2019-03-28T06:48:21  :meter_primreturntemp  40.0\n",
      "2019-03-28T06:58:13  :meter_primreturntemp  34.0\n",
      "2019-03-28T07:08:06  :meter_primreturntemp  40.0\n",
      "2019-03-28T07:18:04  :meter_primreturntemp  30.0\n",
      "2019-03-28T07:28:05  :meter_primreturntemp  38.0\n",
      "2019-03-28T07:38:05  :meter_primreturntemp  32.0\n",
      "2019-03-28T07:48:04  :meter_primreturntemp  33.0\n",
      "2019-03-28T07:58:05  :meter_primreturntemp  21.0\n",
      "2019-03-28T08:08:06  :meter_primreturntemp  20.0, Table with 56458 rows, 9 columns:\n",
      "Columns:\n",
      "#  colname               type\n",
      "────────────────────────────────────────────────\n",
      "1  datetime              DateTime\n",
      "2  meter_effect          Union{Missing, Float64}\n",
      "3  meter_heatenergy      Union{Missing, Float64}\n",
      "4  meter_primreturntemp  Union{Missing, Float64}\n",
      "5  meter_primsupplytemp  Union{Missing, Float64}\n",
      "6  meter_volume          Union{Missing, Float64}\n",
      "7  meter_volumeflow      Union{Missing, Float64}\n",
      "8  outdoortemp           Union{Missing, Float64}\n",
      "9  outdoortemp_offset    Union{Missing, Float64}, 93), 0x00000000000069d1)\n",
      " 22.011298 seconds (131.29 M allocations: 4.340 GiB, 5.69% gc time)\n"
     ]
    }
   ],
   "source": [
    "@time for r in rs\n",
    "    filepath = \"$(Linckii.datapath(secret, r.node_id))\"\n",
    "    try\n",
    "        r_pattern = patterns[r.device_id]\n",
    "        data[r.node_id] = JuliaDB.unstack(\n",
    "            Nodosus.preprocess(\n",
    "                Linckii.loaddata(secret, r.node_id, keys(r_pattern)),\n",
    "                r_pattern,\n",
    "            ),\n",
    "        )\n",
    "        println(\"$(filepath): Done\")\n",
    "    catch e\n",
    "        println(\"$(filepath): $(e)\")\n",
    "    end\n",
    "end"
   ]
  },
  {
   "cell_type": "markdown",
   "metadata": {},
   "source": [
    "Random choice,"
   ]
  },
  {
   "cell_type": "code",
   "execution_count": 31,
   "metadata": {},
   "outputs": [
    {
     "data": {
      "text/plain": [
       "(node_id = 62, device_id = 4)"
      ]
     },
     "execution_count": 31,
     "metadata": {},
     "output_type": "execute_result"
    }
   ],
   "source": [
    "r = rs[Random.rand(1 : end)]"
   ]
  },
  {
   "cell_type": "code",
   "execution_count": 32,
   "metadata": {},
   "outputs": [
    {
     "data": {
      "text/plain": [
       "(datetime = 2018-02-14T23:08:06, variable = :meter_primreturntemp, value = 45.0)"
      ]
     },
     "execution_count": 32,
     "metadata": {},
     "output_type": "execute_result"
    }
   ],
   "source": [
    "data[r.node_id]"
   ]
  },
  {
   "cell_type": "markdown",
   "metadata": {},
   "source": [
    "Simple graphics,"
   ]
  },
  {
   "cell_type": "code",
   "execution_count": 33,
   "metadata": {},
   "outputs": [
    {
     "ename": "ErrorException",
     "evalue": "Only tables are supported",
     "output_type": "error",
     "traceback": [
      "Only tables are supported",
      "",
      "Stacktrace:",
      " [1] error(::String) at ./error.jl:33",
      " [2] extract_columns_and_names(::NamedTuple{(:datetime, :variable, :value),Tuple{Dates.DateTime,Symbol,Float64}}, ::Symbol, ::Vararg{Symbol,N} where N) at /Users/jens/.julia/packages/StatsPlots/BRnMU/src/df.jl:188",
      " [3] (::var\"#19#20\")(::NamedTuple{(:datetime, :variable, :value),Tuple{Dates.DateTime,Symbol,Float64}}) at ./none:0",
      " [4] top-level scope at In[33]:1"
     ]
    }
   ],
   "source": [
    "@df data[r.node_id] plot(:datetime, [:meter_primreturntemp :meter_primsupplytemp :outdoortemp :outdoortemp_offset])"
   ]
  },
  {
   "cell_type": "code",
   "execution_count": 34,
   "metadata": {},
   "outputs": [
    {
     "ename": "ErrorException",
     "evalue": "Only tables are supported",
     "output_type": "error",
     "traceback": [
      "Only tables are supported",
      "",
      "Stacktrace:",
      " [1] error(::String) at ./error.jl:33",
      " [2] extract_columns_and_names(::NamedTuple{(:datetime, :variable, :value),Tuple{Dates.DateTime,Symbol,Float64}}, ::Symbol, ::Vararg{Symbol,N} where N) at /Users/jens/.julia/packages/StatsPlots/BRnMU/src/df.jl:188",
      " [3] (::var\"#21#22\")(::NamedTuple{(:datetime, :variable, :value),Tuple{Dates.DateTime,Symbol,Float64}}) at ./none:0",
      " [4] top-level scope at In[34]:1"
     ]
    }
   ],
   "source": [
    "@df data[r.node_id] plot(:datetime, [:meter_heatenergy])"
   ]
  },
  {
   "cell_type": "code",
   "execution_count": 35,
   "metadata": {},
   "outputs": [
    {
     "ename": "ErrorException",
     "evalue": "Only tables are supported",
     "output_type": "error",
     "traceback": [
      "Only tables are supported",
      "",
      "Stacktrace:",
      " [1] error(::String) at ./error.jl:33",
      " [2] extract_columns_and_names(::NamedTuple{(:datetime, :variable, :value),Tuple{Dates.DateTime,Symbol,Float64}}, ::Symbol, ::Vararg{Symbol,N} where N) at /Users/jens/.julia/packages/StatsPlots/BRnMU/src/df.jl:188",
      " [3] (::var\"#23#24\")(::NamedTuple{(:datetime, :variable, :value),Tuple{Dates.DateTime,Symbol,Float64}}) at ./none:0",
      " [4] top-level scope at In[35]:1"
     ]
    }
   ],
   "source": [
    "@df data[r.node_id] plot(:datetime, [:meter_volume])"
   ]
  },
  {
   "cell_type": "code",
   "execution_count": null,
   "metadata": {},
   "outputs": [],
   "source": []
  }
 ],
 "metadata": {
  "kernelspec": {
   "display_name": "Julia 1.3.0",
   "language": "julia",
   "name": "julia-1.3"
  },
  "language_info": {
   "file_extension": ".jl",
   "mimetype": "application/julia",
   "name": "julia",
   "version": "1.3.0"
  }
 },
 "nbformat": 4,
 "nbformat_minor": 4
}
