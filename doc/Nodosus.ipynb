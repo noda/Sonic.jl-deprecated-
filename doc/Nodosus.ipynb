{
 "cells": [
  {
   "cell_type": "markdown",
   "metadata": {},
   "source": [
    "# Example use of the Sonic module Nodosus.jl"
   ]
  },
  {
   "cell_type": "markdown",
   "metadata": {},
   "source": [
    "* https://juliadb.org\n",
    "* https://julialang.org\n",
    "* https://juliastats.org"
   ]
  },
  {
   "cell_type": "code",
   "execution_count": 98,
   "metadata": {},
   "outputs": [
    {
     "name": "stdout",
     "output_type": "stream",
     "text": [
      "\u001b[32m\u001b[1mActivating\u001b[22m\u001b[39m environment at `~/Documents/Calendar/Work/Noda/Code/Sonic.jl/Project.toml`\n"
     ]
    }
   ],
   "source": [
    "import Pkg                      # package manager\n",
    "Pkg.activate(\"..\")              # Project.toml\n",
    "Pkg.instantiate()               # https://julialang.github.io/Pkg.jl/v1.0/index.html"
   ]
  },
  {
   "cell_type": "code",
   "execution_count": 99,
   "metadata": {},
   "outputs": [],
   "source": [
    "import Dates, JuliaDB, Random, StatsPlots"
   ]
  },
  {
   "cell_type": "code",
   "execution_count": 100,
   "metadata": {},
   "outputs": [
    {
     "data": {
      "text/plain": [
       "Plots.GRBackend()"
      ]
     },
     "execution_count": 100,
     "metadata": {},
     "output_type": "execute_result"
    }
   ],
   "source": [
    "using StatsPlots\n",
    "ENV[\"GKSwstype\"] = \"100\"\n",
    "gr(fmt = :png)"
   ]
  },
  {
   "cell_type": "code",
   "execution_count": 101,
   "metadata": {},
   "outputs": [
    {
     "name": "stderr",
     "output_type": "stream",
     "text": [
      "WARNING: replacing module Linckii.\n",
      "WARNING: replacing module LinckiiSecrets.\n",
      "WARNING: replacing module Nodosus.\n"
     ]
    },
    {
     "data": {
      "text/plain": [
       "Main.Nodosus"
      ]
     },
     "execution_count": 101,
     "metadata": {},
     "output_type": "execute_result"
    }
   ],
   "source": [
    "include(\"../src/Linckii.jl\")\n",
    "include(\"../src/LinckiiSecrets.jl\")\n",
    "include(\"../src/Nodosus.jl\")"
   ]
  },
  {
   "cell_type": "markdown",
   "metadata": {},
   "source": [
    "Get access token,"
   ]
  },
  {
   "cell_type": "code",
   "execution_count": 102,
   "metadata": {},
   "outputs": [
    {
     "name": "stdout",
     "output_type": "stream",
     "text": [
      "  0.002083 seconds (409 allocations: 27.781 KiB)\n"
     ]
    },
    {
     "data": {
      "text/plain": [
       "(url = \"https://canary.noda.se/~keab\", key = \"e86d93131e6bc12ae701d036e696cf8b\")"
      ]
     },
     "execution_count": 102,
     "metadata": {},
     "output_type": "execute_result"
    }
   ],
   "source": [
    "@time access = Linckii.get_access(LinckiiSecrets.keab)"
   ]
  },
  {
   "cell_type": "markdown",
   "metadata": {},
   "source": [
    "Load site,"
   ]
  },
  {
   "cell_type": "code",
   "execution_count": 103,
   "metadata": {},
   "outputs": [
    {
     "name": "stdout",
     "output_type": "stream",
     "text": [
      " 19.537078 seconds (17.45 M allocations: 1.260 GiB, 4.03% gc time)\n"
     ]
    },
    {
     "data": {
      "text/plain": [
       "()"
      ]
     },
     "execution_count": 103,
     "metadata": {},
     "output_type": "execute_result"
    }
   ],
   "source": [
    "@time site = Linckii.loadsite(access, :nodes, :devices, :sensors)\n",
    "()"
   ]
  },
  {
   "cell_type": "code",
   "execution_count": 104,
   "metadata": {},
   "outputs": [
    {
     "data": {
      "text/plain": [
       "()"
      ]
     },
     "execution_count": 104,
     "metadata": {},
     "output_type": "execute_result"
    }
   ],
   "source": [
    "device_name = Linckii.get_cref(site.devices, :device_id, :device_name)\n",
    "device_id   = Linckii.get_cref(site.devices, :device_name, :device_id)\n",
    "()"
   ]
  },
  {
   "cell_type": "code",
   "execution_count": 105,
   "metadata": {},
   "outputs": [
    {
     "data": {
      "text/plain": [
       "()"
      ]
     },
     "execution_count": 105,
     "metadata": {},
     "output_type": "execute_result"
    }
   ],
   "source": [
    "sensor_name = Linckii.get_cref(site.sensors, :sensor_id, :sensor_name)\n",
    "sensor_id   = Linckii.get_cref(site.sensors, :sensor_name, :sensor_id)\n",
    "()"
   ]
  },
  {
   "cell_type": "markdown",
   "metadata": {},
   "source": [
    "Select data,"
   ]
  },
  {
   "cell_type": "code",
   "execution_count": 122,
   "metadata": {},
   "outputs": [
    {
     "data": {
      "text/plain": [
       "Dict{Int64,Array{Symbol,1}} with 2 entries:\n",
       "  4 => Symbol[:meter_effect, :meter_heatenergy, :meter_primreturntemp, :meter_p…\n",
       "  6 => Symbol[:cloudiness, :outdoortemp, :wind_direction, :wind_speed]"
      ]
     },
     "execution_count": 122,
     "metadata": {},
     "output_type": "execute_result"
    }
   ],
   "source": [
    "selected_sensor_names = Dict(\n",
    "    device_id[\"Kelp-Basic\"] => [\n",
    "        :meter_effect,\n",
    "        :meter_heatenergy,\n",
    "        :meter_primreturntemp,\n",
    "        :meter_primsupplytemp,\n",
    "        :meter_volume,\n",
    "        :meter_volumeflow,\n",
    "        :outdoortemp,\n",
    "        :outdoortemp_offset,\n",
    "    ],\n",
    "    device_id[\"Weather-Forecast\"] => [\n",
    "        :cloudiness,\n",
    "        :outdoortemp,\n",
    "        :wind_direction,\n",
    "        :wind_speed,\n",
    "    ],\n",
    ")"
   ]
  },
  {
   "cell_type": "code",
   "execution_count": 123,
   "metadata": {},
   "outputs": [
    {
     "data": {
      "text/plain": [
       "Table with 85 rows, 8 columns:\n",
       "Columns:\n",
       "\u001b[1m#  \u001b[22m\u001b[1mcolname           \u001b[22m\u001b[1mtype\u001b[22m\n",
       "─────────────────────────────────\n",
       "1  node_public       Bool\n",
       "2  node_name         String\n",
       "3  device_id         Int64\n",
       "4  node_id           Int64\n",
       "5  node_owner        Bool\n",
       "6  node_enabled      Bool\n",
       "7  sensor_ids        Array{Any,1}\n",
       "8  node_description  String"
      ]
     },
     "execution_count": 123,
     "metadata": {},
     "output_type": "execute_result"
    }
   ],
   "source": [
    "selected_nodes = JuliaDB.filter(\n",
    "    r -> (\n",
    "        r.device_id in keys(selected_sensor_names) &&\n",
    "        Set(sensor_name[r_sensor_id] for r_sensor_id in r.sensor_ids) >= Set(selected_sensor_names[r.device_id])\n",
    "    ),\n",
    "    site.nodes,\n",
    ")"
   ]
  },
  {
   "cell_type": "markdown",
   "metadata": {},
   "source": [
    "Save data,"
   ]
  },
  {
   "cell_type": "code",
   "execution_count": 110,
   "metadata": {},
   "outputs": [
    {
     "data": {
      "text/plain": [
       "()"
      ]
     },
     "execution_count": 110,
     "metadata": {},
     "output_type": "execute_result"
    }
   ],
   "source": [
    "p, q = Dates.Minute(10), Dates.Minute(120)\n",
    "pp = Dict(\n",
    "    :meter_effect           => t -> Nodosus.pp1(t, p, q),\n",
    "    :meter_heatenergy       => t -> Nodosus.pp2(t, p, q),\n",
    "    :meter_primreturntemp   => t -> Nodosus.pp1(t, p, q),\n",
    "    :meter_primsupplytemp   => t -> Nodosus.pp1(t, p, q),\n",
    "    :meter_volume           => t -> Nodosus.pp2(t, p, q),\n",
    "    :meter_volumeflow       => t -> Nodosus.pp1(t, p, q),\n",
    "    :outdoortemp            => t -> Nodosus.pp1(t, p, q),\n",
    "    :outdoortemp_offset     => t -> Nodosus.pp0(t, p, q),\n",
    "    :cloudiness             => t -> Nodosus.pp1(t, p, q),\n",
    "    :outdoortemp            => t -> Nodosus.pp1(t, p, q),\n",
    "    :wind_direction         => t -> Nodosus.pp1(t, p, q),\n",
    "    :wind_speed             => t -> Nodosus.pp1(t, p, q),\n",
    ")\n",
    "()"
   ]
  },
  {
   "cell_type": "code",
   "execution_count": 116,
   "metadata": {},
   "outputs": [
    {
     "name": "stdout",
     "output_type": "stream",
     "text": [
      "db/linckii/~keab/data/93.db: Done\n",
      "  7.030931 seconds (61.95 M allocations: 1.764 GiB, 20.67% gc time)\n"
     ]
    }
   ],
   "source": [
    "rs = JuliaDB.rows(selected_nodes)\n",
    "if true\n",
    "    rs = [(node_id = 93, device_id = 4)] # [rs[Random.rand(1 : end)]]\n",
    "end\n",
    "@time for r in rs\n",
    "    filepath = \"$(Linckii.datapath(access, r.node_id)).db\"\n",
    "    try\n",
    "        data = foldl(\n",
    "            (l, r) -> JuliaDB.join(l, r; how = :outer),\n",
    "            [\n",
    "                JuliaDB.unstack(\n",
    "                    pp[r_sensor_name](\n",
    "                        Linckii.loaddata(access, r.node_id, r_sensor_name),\n",
    "                    ),\n",
    "                )\n",
    "                for r_sensor_name in selected_sensor_names[r.device_id]\n",
    "            ],\n",
    "        )\n",
    "        JuliaDB.save(\n",
    "            data,\n",
    "            \"$(Linckii.datapath(access, r.node_id)).db\",\n",
    "        )\n",
    "        println(\"$(filepath): Done\")\n",
    "    catch e\n",
    "        println(\"$(filepath): $(e)\")\n",
    "    end\n",
    "end"
   ]
  },
  {
   "cell_type": "markdown",
   "metadata": {},
   "source": [
    "Load data,"
   ]
  },
  {
   "cell_type": "code",
   "execution_count": 120,
   "metadata": {},
   "outputs": [
    {
     "data": {
      "text/plain": [
       "(93, 4)"
      ]
     },
     "execution_count": 120,
     "metadata": {},
     "output_type": "execute_result"
    }
   ],
   "source": [
    "r = JuliaDB.rows(selected_nodes)[Random.rand(1 : end)]\n",
    "r_node_id, r_device_id = 93, 4 # r.node_id, r.device_id"
   ]
  },
  {
   "cell_type": "code",
   "execution_count": 124,
   "metadata": {},
   "outputs": [
    {
     "data": {
      "text/plain": [
       "8-element Array{Symbol,1}:\n",
       " :meter_effect        \n",
       " :meter_heatenergy    \n",
       " :meter_primreturntemp\n",
       " :meter_primsupplytemp\n",
       " :meter_volume        \n",
       " :meter_volumeflow    \n",
       " :outdoortemp         \n",
       " :outdoortemp_offset  "
      ]
     },
     "execution_count": 124,
     "metadata": {},
     "output_type": "execute_result"
    }
   ],
   "source": [
    "r_sensor_names = selected_sensor_names[r_device_id]"
   ]
  },
  {
   "cell_type": "code",
   "execution_count": 125,
   "metadata": {},
   "outputs": [
    {
     "name": "stdout",
     "output_type": "stream",
     "text": [
      "  0.135897 seconds (1.18 M allocations: 24.391 MiB, 12.07% gc time)\n"
     ]
    },
    {
     "data": {
      "text/plain": [
       "Table with 84612 rows, 9 columns:\n",
       "Columns:\n",
       "\u001b[1m#  \u001b[22m\u001b[1mcolname               \u001b[22m\u001b[1mtype\u001b[22m\n",
       "────────────────────────────────────────────────\n",
       "1  datetime              DateTime\n",
       "2  meter_primreturntemp  Union{Missing, Float64}\n",
       "3  meter_effect          Union{Missing, Float64}\n",
       "4  outdoortemp           Union{Missing, Float64}\n",
       "5  meter_primsupplytemp  Union{Missing, Float64}\n",
       "6  meter_volumeflow      Union{Missing, Float64}\n",
       "7  meter_volume          Union{Missing, Float64}\n",
       "8  outdoortemp_offset    Union{Missing, Float64}\n",
       "9  meter_heatenergy      Union{Missing, Float64}"
      ]
     },
     "execution_count": 125,
     "metadata": {},
     "output_type": "execute_result"
    }
   ],
   "source": [
    "@time data = JuliaDB.load(\n",
    "    \"$(Linckii.datapath(access, r.node_id)).db\",\n",
    ")"
   ]
  },
  {
   "cell_type": "markdown",
   "metadata": {},
   "source": [
    "Complex plot,"
   ]
  },
  {
   "cell_type": "code",
   "execution_count": 141,
   "metadata": {},
   "outputs": [
    {
     "data": {
      "image/png": "[encoded data removed]"
     },
     "execution_count": 141,
     "metadata": {},
     "output_type": "execute_result"
    }
   ],
   "source": [
    "@df data plot(:datetime, [:meter_primreturntemp :meter_primsupplytemp :outdoortemp :outdoortemp_offset])"
   ]
  },
  {
   "cell_type": "code",
   "execution_count": null,
   "metadata": {},
   "outputs": [],
   "source": []
  }
 ],
 "metadata": {
  "kernelspec": {
   "display_name": "Julia 1.3.0",
   "language": "julia",
   "name": "julia-1.3"
  },
  "language_info": {
   "file_extension": ".jl",
   "mimetype": "application/julia",
   "name": "julia",
   "version": "1.3.0"
  }
 },
 "nbformat": 4,
 "nbformat_minor": 4
}
