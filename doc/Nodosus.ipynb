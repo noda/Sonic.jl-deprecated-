{
 "cells": [
  {
   "cell_type": "markdown",
   "metadata": {},
   "source": [
    "# Example use of the Sonic module Nodosus.jl"
   ]
  },
  {
   "cell_type": "code",
   "execution_count": null,
   "metadata": {},
   "outputs": [],
   "source": [
    "import Pkg                      # package manager\n",
    "Pkg.activate(\"..\")              # Project.toml\n",
    "Pkg.instantiate()               # https://julialang.github.io/Pkg.jl/v1.0/index.html"
   ]
  },
  {
   "cell_type": "code",
   "execution_count": null,
   "metadata": {},
   "outputs": [],
   "source": [
    "import Dates, JuliaDB, Plots, Random"
   ]
  },
  {
   "cell_type": "code",
   "execution_count": null,
   "metadata": {},
   "outputs": [],
   "source": [
    "include(\"../src/Linckii.jl\")\n",
    "include(\"../src/LinckiiSecrets.jl\")\n",
    "include(\"../src/Nodosus.jl\")"
   ]
  },
  {
   "cell_type": "markdown",
   "metadata": {},
   "source": [
    "Get access token,"
   ]
  },
  {
   "cell_type": "code",
   "execution_count": null,
   "metadata": {},
   "outputs": [],
   "source": [
    "@time access = Linckii.get_access(LinckiiSecrets.keab)"
   ]
  },
  {
   "cell_type": "markdown",
   "metadata": {},
   "source": [
    "Load site,"
   ]
  },
  {
   "cell_type": "code",
   "execution_count": null,
   "metadata": {},
   "outputs": [],
   "source": [
    "@time nodes, devices, sensors = Linckii.loadsite(access)"
   ]
  },
  {
   "cell_type": "markdown",
   "metadata": {},
   "source": [
    "Get side 1 substation series,"
   ]
  },
  {
   "cell_type": "code",
   "execution_count": null,
   "metadata": {},
   "outputs": [],
   "source": [
    "sensor_names = (\n",
    "    :meter_effect,\n",
    "    :meter_primreturntemp,\n",
    "    :meter_primsupplytemp,\n",
    "    :meter_volumeflow,\n",
    ")"
   ]
  },
  {
   "cell_type": "code",
   "execution_count": null,
   "metadata": {},
   "outputs": [],
   "source": [
    "signals = JuliaDB.reindex(\n",
    "    JuliaDB.join(\n",
    "        Linckii.flatten_nodes(JuliaDB.filter(r -> r.device_id == 4, nodes)),\n",
    "        JuliaDB.filter(r -> r.sensor_name in sensor_names, sensors);\n",
    "        lkey = :sensor_id,\n",
    "        rkey = :sensor_id,\n",
    "    ),\n",
    "    (:node_id, :sensor_id),\n",
    ")"
   ]
  },
  {
   "cell_type": "code",
   "execution_count": null,
   "metadata": {},
   "outputs": [],
   "source": [
    "signal_rows = JuliaDB.rows(signals)\n",
    "length(signal_rows)"
   ]
  },
  {
   "cell_type": "markdown",
   "metadata": {},
   "source": [
    "Load data,"
   ]
  },
  {
   "cell_type": "code",
   "execution_count": null,
   "metadata": {},
   "outputs": [],
   "source": [
    "p, q = Dates.Minutes(10), Dates.Minutes(120)"
   ]
  },
  {
   "cell_type": "code",
   "execution_count": null,
   "metadata": {},
   "outputs": [],
   "source": [
    "pkey = (:node_id, :datetime)"
   ]
  },
  {
   "cell_type": "code",
   "execution_count": null,
   "metadata": {},
   "outputs": [],
   "source": [
    "tables = ()\n",
    "@time for r in signal_rows\n",
    "    filepath = \"$(Linckii.datapath(access, r.node_id, r.sensor_name)).db\"\n",
    "    try\n",
    "        data = Linckii.loaddata(access, r.node_id, r.sensor_name)\n",
    "        pkeys = JuliaDB.pkeys(data)\n",
    "        push!(\n",
    "            JuliaDB.transform(\n",
    "                JuliaDB.table(Nodosus.pp1(JuliaDB.rows(data), p, q), pkey = (:node_id, pkeys...)),\n",
    "                :node_id => r.node_id,\n",
    "                :value => r.sensor_name,\n",
    "            ),\n",
    "            tables,\n",
    "        )\n",
    "        println(\"$(filepath): Done\")\n",
    "    catch e\n",
    "        println(\"$(filepath): $(e)\")\n",
    "    end\n",
    "end\n",
    "data = reduce((l, r) -> JuliaDB.join(l, r; lkey = pkey, rkey = pkey, how = :outer), tables)"
   ]
  },
  {
   "cell_type": "markdown",
   "metadata": {},
   "source": [
    "Save data,"
   ]
  },
  {
   "cell_type": "code",
   "execution_count": null,
   "metadata": {},
   "outputs": [],
   "source": [
    "@time JuliaDB.save(\n",
    "    data,\n",
    "    \"$(Linckii.datapath(access)).db\",\n",
    ")"
   ]
  },
  {
   "cell_type": "markdown",
   "metadata": {},
   "source": [
    "Load data,"
   ]
  },
  {
   "cell_type": "code",
   "execution_count": null,
   "metadata": {},
   "outputs": [],
   "source": [
    "@time data = JuliaDB.load(\n",
    "    \"$(Linckii.datapath(access)).db\",\n",
    ")"
   ]
  },
  {
   "cell_type": "code",
   "execution_count": null,
   "metadata": {},
   "outputs": [],
   "source": [
    "# two plots, one for a random node but both supply and return temp, and one for all nodes but only their difference"
   ]
  },
  {
   "cell_type": "markdown",
   "metadata": {},
   "source": [
    "Complex plot,"
   ]
  },
  {
   "cell_type": "code",
   "execution_count": null,
   "metadata": {},
   "outputs": [],
   "source": [
    "t = JuliaDB.filter(\n",
    "    r -> r.datetime >= Dates.DateTime(2018) && r.datetime <= Dates.DateTime(2019),\n",
    "    data,\n",
    ")\n",
    "x = JuliaDB.select(t, :datetime)\n",
    "y = JuliaDB.select(t, :meter_primreturntemp)\n",
    "Plots.plot(x, y, xlabel = :datetime, label = Linckii.datapath(access, r.node_id, r.sensor_name))"
   ]
  }
 ],
 "metadata": {
  "kernelspec": {
   "display_name": "Julia 1.3.0",
   "language": "julia",
   "name": "julia-1.3"
  },
  "language_info": {
   "file_extension": ".jl",
   "mimetype": "application/julia",
   "name": "julia",
   "version": "1.3.0"
  }
 },
 "nbformat": 4,
 "nbformat_minor": 4
}
