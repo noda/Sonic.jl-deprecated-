{
 "cells": [
  {
   "cell_type": "markdown",
   "metadata": {},
   "source": [
    "# Example use of the Sonic module Nodosus.jl"
   ]
  },
  {
   "cell_type": "code",
   "execution_count": 1,
   "metadata": {},
   "outputs": [
    {
     "name": "stdout",
     "output_type": "stream",
     "text": [
      "\u001b[32m\u001b[1mActivating\u001b[22m\u001b[39m environment at `~/Documents/Calendar/Work/Noda/Code/Sonic.jl/Project.toml`\n"
     ]
    }
   ],
   "source": [
    "import Pkg                      # package manager\n",
    "Pkg.activate(\"..\")              # Project.toml\n",
    "Pkg.instantiate()               # https://julialang.github.io/Pkg.jl/v1.0/index.html"
   ]
  },
  {
   "cell_type": "code",
   "execution_count": 2,
   "metadata": {},
   "outputs": [],
   "source": [
    "import Dates, JuliaDB, Plots, Random"
   ]
  },
  {
   "cell_type": "code",
   "execution_count": 21,
   "metadata": {},
   "outputs": [
    {
     "name": "stderr",
     "output_type": "stream",
     "text": [
      "WARNING: replacing module Linckii.\n",
      "WARNING: replacing module LinckiiSecrets.\n",
      "WARNING: replacing module Nodosus.\n"
     ]
    },
    {
     "data": {
      "text/plain": [
       "Main.Nodosus"
      ]
     },
     "execution_count": 21,
     "metadata": {},
     "output_type": "execute_result"
    }
   ],
   "source": [
    "include(\"../src/Linckii.jl\")\n",
    "include(\"../src/LinckiiSecrets.jl\")\n",
    "include(\"../src/Nodosus.jl\")"
   ]
  },
  {
   "cell_type": "markdown",
   "metadata": {},
   "source": [
    "Get access token,"
   ]
  },
  {
   "cell_type": "code",
   "execution_count": 4,
   "metadata": {},
   "outputs": [
    {
     "name": "stdout",
     "output_type": "stream",
     "text": [
      "  0.001670 seconds (410 allocations: 27.828 KiB)\n"
     ]
    },
    {
     "data": {
      "text/plain": [
       "(url = \"https://canary.noda.se/~keab\", key = \"e86d93131e6bc12ae701d036e696cf8b\")"
      ]
     },
     "execution_count": 4,
     "metadata": {},
     "output_type": "execute_result"
    }
   ],
   "source": [
    "@time access = Linckii.get_access(LinckiiSecrets.keab)"
   ]
  },
  {
   "cell_type": "markdown",
   "metadata": {},
   "source": [
    "Load site,"
   ]
  },
  {
   "cell_type": "code",
   "execution_count": 5,
   "metadata": {},
   "outputs": [
    {
     "name": "stdout",
     "output_type": "stream",
     "text": [
      " 23.117180 seconds (20.99 M allocations: 1.373 GiB, 2.34% gc time)\n"
     ]
    },
    {
     "data": {
      "text/plain": [
       "(nodes = Table with 279 rows, 8 columns:\n",
       "Columns:\n",
       "\u001b[1m#  \u001b[22m\u001b[1mcolname           \u001b[22m\u001b[1mtype\u001b[22m\n",
       "─────────────────────────────────\n",
       "1  node_public       Bool\n",
       "2  node_name         String\n",
       "3  device_id         Int64\n",
       "4  node_id           Int64\n",
       "5  node_owner        Bool\n",
       "6  node_enabled      Bool\n",
       "7  sensor_ids        Array{Any,1}\n",
       "8  node_description  String, devices = Table with 11 rows, 3 columns:\n",
       "protocol_id  device_name             \u001b[1mdevice_id\u001b[22m\n",
       "──────────────────────────────────────────────\n",
       "1            \"Kelp-IQHeat\"           1\n",
       "2            \"Scout\"                 2\n",
       "1            \"Kelp-Basic\"            4\n",
       "5            \"Weather-Forecast\"      6\n",
       "6            \"Grid-Basic\"            7\n",
       "6            \"Grid-Controller\"       8\n",
       "7            \"Heat-Load-Forecast\"    9\n",
       "2            \"CMa1Xw\"                10\n",
       "2            \"EcoGuard Sensor\"       11\n",
       "2            \"WEPTech\"               12\n",
       "8            \"Flexibility-Forecast\"  13, sensors = Table with 175 rows, 5 columns:\n",
       "Columns:\n",
       "\u001b[1m#  \u001b[22m\u001b[1mcolname             \u001b[22m\u001b[1mtype\u001b[22m\n",
       "────────────────────────────────\n",
       "1  sensor_unit         FreeUnits\n",
       "2  sensor_name         Symbol\n",
       "3  protocol_id         Int64\n",
       "4  sensor_id           Int64\n",
       "5  sensor_description  String)"
      ]
     },
     "execution_count": 5,
     "metadata": {},
     "output_type": "execute_result"
    }
   ],
   "source": [
    "@time nodes, devices, sensors = Linckii.loadsite(access, :nodes, :devices, :sensors)"
   ]
  },
  {
   "cell_type": "markdown",
   "metadata": {},
   "source": [
    "Get side 1 substation series,"
   ]
  },
  {
   "cell_type": "code",
   "execution_count": 6,
   "metadata": {},
   "outputs": [
    {
     "data": {
      "text/plain": [
       "(:meter_effect, :meter_primreturntemp, :meter_primsupplytemp, :meter_volumeflow)"
      ]
     },
     "execution_count": 6,
     "metadata": {},
     "output_type": "execute_result"
    }
   ],
   "source": [
    "sensor_names = (\n",
    "    :meter_effect,\n",
    "    :meter_primreturntemp,\n",
    "    :meter_primsupplytemp,\n",
    "    :meter_volumeflow,\n",
    ")"
   ]
  },
  {
   "cell_type": "code",
   "execution_count": 7,
   "metadata": {},
   "outputs": [
    {
     "data": {
      "text/plain": [
       "Table with 361 rows, 12 columns:\n",
       "Columns:\n",
       "\u001b[1m#   \u001b[22m\u001b[1mcolname             \u001b[22m\u001b[1mtype\u001b[22m\n",
       "──────────────────────────────\n",
       "1   node_id             Int64\n",
       "2   sensor_id           Int64\n",
       "3   node_public         Bool\n",
       "4   node_name           String\n",
       "5   device_id           Int64\n",
       "6   node_owner          Bool\n",
       "7   node_enabled        Bool\n",
       "8   node_description    String\n",
       "9   sensor_unit         Any\n",
       "10  sensor_name         Symbol\n",
       "11  protocol_id         Int64\n",
       "12  sensor_description  String"
      ]
     },
     "execution_count": 7,
     "metadata": {},
     "output_type": "execute_result"
    }
   ],
   "source": [
    "signals = JuliaDB.reindex(\n",
    "    JuliaDB.join(\n",
    "        Linckii.flatten_nodes(JuliaDB.filter(r -> r.device_id == 4, nodes)),\n",
    "        JuliaDB.filter(r -> r.sensor_name in sensor_names, sensors);\n",
    "        lkey = :sensor_id,\n",
    "        rkey = :sensor_id,\n",
    "    ),\n",
    "    (:node_id, :sensor_id),\n",
    ")"
   ]
  },
  {
   "cell_type": "code",
   "execution_count": 8,
   "metadata": {},
   "outputs": [
    {
     "data": {
      "text/plain": [
       "361"
      ]
     },
     "execution_count": 8,
     "metadata": {},
     "output_type": "execute_result"
    }
   ],
   "source": [
    "signal_rows = JuliaDB.rows(signals)\n",
    "length(signal_rows)"
   ]
  },
  {
   "cell_type": "markdown",
   "metadata": {},
   "source": [
    "Load data,"
   ]
  },
  {
   "cell_type": "code",
   "execution_count": 9,
   "metadata": {},
   "outputs": [
    {
     "data": {
      "text/plain": [
       "(10 minutes, 120 minutes)"
      ]
     },
     "execution_count": 9,
     "metadata": {},
     "output_type": "execute_result"
    }
   ],
   "source": [
    "p, q = Dates.Minute(10), Dates.Minute(120)"
   ]
  },
  {
   "cell_type": "code",
   "execution_count": 19,
   "metadata": {},
   "outputs": [
    {
     "data": {
      "text/plain": [
       "(56, :meter_primreturntemp)"
      ]
     },
     "execution_count": 19,
     "metadata": {},
     "output_type": "execute_result"
    }
   ],
   "source": [
    "r = signal_rows[Random.rand(1 : end)]\n",
    "(r.node_id, r.sensor_name)"
   ]
  },
  {
   "cell_type": "code",
   "execution_count": 24,
   "metadata": {},
   "outputs": [
    {
     "ename": "ErrorException",
     "evalue": "column 56 not found.",
     "output_type": "error",
     "traceback": [
      "column 56 not found.",
      "",
      "Stacktrace:",
      " [1] error(::String) at ./error.jl:33",
      " [2] _colindex(::Tuple{Symbol,Symbol,Symbol}, ::Int64, ::Nothing) at /Users/jens/.julia/packages/IndexedTables/5U0Ap/src/columns.jl:235",
      " [3] _colindex at /Users/jens/.julia/packages/IndexedTables/5U0Ap/src/columns.jl:219 [inlined]",
      " [4] colindex at /Users/jens/.julia/packages/IndexedTables/5U0Ap/src/columns.jl:211 [inlined]",
      " [5] column at /Users/jens/.julia/packages/IndexedTables/5U0Ap/src/columns.jl:239 [inlined]",
      " [6] columns at /Users/jens/.julia/packages/IndexedTables/5U0Ap/src/columns.jl:269 [inlined]",
      " [7] rows(::IndexedTables.IndexedTable{StructArrays.StructArray{NamedTuple{(:datetime, :timezone, :value),Tuple{Dates.DateTime,Dates.Time,Float64}},1,NamedTuple{(:datetime, :timezone, :value),Tuple{Array{Dates.DateTime,1},Array{Dates.Time,1},Array{Float64,1}}},Int64}}, ::Int64) at /Users/jens/.julia/packages/IndexedTables/5U0Ap/src/columns.jl:316",
      " [8] getindex(::IndexedTables.ColDict{IndexedTables.IndexedTable{StructArrays.StructArray{NamedTuple{(:datetime, :timezone, :value),Tuple{Dates.DateTime,Dates.Time,Float64}},1,NamedTuple{(:datetime, :timezone, :value),Tuple{Array{Dates.DateTime,1},Array{Dates.Time,1},Array{Float64,1}}},Int64}}}, ::Int64) at /Users/jens/.julia/packages/IndexedTables/5U0Ap/src/columns.jl:360",
      " [9] setindex!(::IndexedTables.ColDict{IndexedTables.IndexedTable{StructArrays.StructArray{NamedTuple{(:datetime, :timezone, :value),Tuple{Dates.DateTime,Dates.Time,Float64}},1,NamedTuple{(:datetime, :timezone, :value),Tuple{Array{Dates.DateTime,1},Array{Dates.Time,1},Array{Float64,1}}},Int64}}}, ::Int64, ::Symbol) at /Users/jens/.julia/packages/IndexedTables/5U0Ap/src/columns.jl:365",
      " [10] #51 at /Users/jens/.julia/packages/IndexedTables/5U0Ap/src/columns.jl:387 [inlined]",
      " [11] foreach at ./abstractarray.jl:1920 [inlined]",
      " [12] transform! at /Users/jens/.julia/packages/IndexedTables/5U0Ap/src/columns.jl:386 [inlined]",
      " [13] transform!(::IndexedTables.ColDict{IndexedTables.IndexedTable{StructArrays.StructArray{NamedTuple{(:datetime, :timezone, :value),Tuple{Dates.DateTime,Dates.Time,Float64}},1,NamedTuple{(:datetime, :timezone, :value),Tuple{Array{Dates.DateTime,1},Array{Dates.Time,1},Array{Float64,1}}},Int64}}}, ::Pair{Symbol,Int64}, ::Pair{Symbol,Symbol}) at /Users/jens/.julia/packages/IndexedTables/5U0Ap/src/columns.jl:383",
      " [14] transform(::IndexedTables.IndexedTable{StructArrays.StructArray{NamedTuple{(:datetime, :timezone, :value),Tuple{Dates.DateTime,Dates.Time,Float64}},1,NamedTuple{(:datetime, :timezone, :value),Tuple{Array{Dates.DateTime,1},Array{Dates.Time,1},Array{Float64,1}}},Int64}}, ::Pair{Symbol,Int64}, ::Vararg{Any,N} where N) at /Users/jens/.julia/packages/IndexedTables/5U0Ap/src/columns.jl:458",
      " [15] top-level scope at In[24]:5"
     ]
    }
   ],
   "source": [
    "filepath = \"$(Linckii.datapath(access, r.node_id, r.sensor_name)).db\"\n",
    "data = Linckii.loaddata(access, r.node_id, r.sensor_name)\n",
    "rows = JuliaDB.rows(data)\n",
    "t = JuliaDB.transform(\n",
    "    JuliaDB.table(Nodosus.pp1(rows, p, q); pkey = JuliaDB.pkeynames(data)),\n",
    "    # vore mycket enklare om vi redan hade node_id som kolumn och primärnyckel\n",
    "    :node_id => r.node_id,\n",
    "    :value => r.sensor_name,\n",
    ")"
   ]
  },
  {
   "cell_type": "code",
   "execution_count": 18,
   "metadata": {},
   "outputs": [
    {
     "name": "stdout",
     "output_type": "stream",
     "text": [
      "db/linckii/~keab/data/1/meter_effect.db: MethodError(isless, (600000 milliseconds, Main.Nodosus.var\"#19#23\"(Core.Box(Main.Nodosus.var\"#19#23\"(#= circular reference @-2 =#)))), 0x000000000000693b)\n",
      "db/linckii/~keab/data/1/meter_primreturntemp.db: MethodError(isless, (600000 milliseconds, Main.Nodosus.var\"#19#23\"(Core.Box(Main.Nodosus.var\"#19#23\"(#= circular reference @-2 =#)))), 0x000000000000693b)\n",
      "db/linckii/~keab/data/1/meter_primsupplytemp.db: MethodError(isless, (600000 milliseconds, Main.Nodosus.var\"#19#23\"(Core.Box(Main.Nodosus.var\"#19#23\"(#= circular reference @-2 =#)))), 0x000000000000693b)\n",
      "db/linckii/~keab/data/1/meter_volumeflow.db: ErrorException(\"db/linckii/~keab/data/1/meter_volumeflow.db is not a file or directory\")\n",
      "db/linckii/~keab/data/16/meter_effect.db: ErrorException(\"db/linckii/~keab/data/16/meter_effect.db is not a file or directory\")\n",
      "db/linckii/~keab/data/16/meter_primreturntemp.db: ErrorException(\"db/linckii/~keab/data/16/meter_primreturntemp.db is not a file or directory\")\n",
      "db/linckii/~keab/data/16/meter_primsupplytemp.db: ErrorException(\"db/linckii/~keab/data/16/meter_primsupplytemp.db is not a file or directory\")\n",
      "db/linckii/~keab/data/16/meter_volumeflow.db: ErrorException(\"db/linckii/~keab/data/16/meter_volumeflow.db is not a file or directory\")\n",
      "db/linckii/~keab/data/17/meter_effect.db: ErrorException(\"db/linckii/~keab/data/17/meter_effect.db is not a file or directory\")\n",
      "db/linckii/~keab/data/17/meter_primreturntemp.db: MethodError(isless, (599000 milliseconds, Main.Nodosus.var\"#19#23\"(Core.Box(Main.Nodosus.var\"#19#23\"(#= circular reference @-2 =#)))), 0x000000000000693b)\n",
      "db/linckii/~keab/data/17/meter_primsupplytemp.db: MethodError(isless, (599000 milliseconds, Main.Nodosus.var\"#19#23\"(Core.Box(Main.Nodosus.var\"#19#23\"(#= circular reference @-2 =#)))), 0x000000000000693b)\n",
      "db/linckii/~keab/data/17/meter_volumeflow.db: MethodError(isless, (599000 milliseconds, Main.Nodosus.var\"#19#23\"(Core.Box(Main.Nodosus.var\"#19#23\"(#= circular reference @-2 =#)))), 0x000000000000693b)\n",
      "db/linckii/~keab/data/18/meter_effect.db: MethodError(isless, (600000 milliseconds, Main.Nodosus.var\"#19#23\"(Core.Box(Main.Nodosus.var\"#19#23\"(#= circular reference @-2 =#)))), 0x000000000000693b)\n",
      "db/linckii/~keab/data/18/meter_primreturntemp.db: MethodError(isless, (600000 milliseconds, Main.Nodosus.var\"#19#23\"(Core.Box(Main.Nodosus.var\"#19#23\"(#= circular reference @-2 =#)))), 0x000000000000693b)\n",
      "db/linckii/~keab/data/18/meter_primsupplytemp.db: MethodError(isless, (600000 milliseconds, Main.Nodosus.var\"#19#23\"(Core.Box(Main.Nodosus.var\"#19#23\"(#= circular reference @-2 =#)))), 0x000000000000693b)\n",
      "db/linckii/~keab/data/18/meter_volumeflow.db: MethodError(isless, (600000 milliseconds, Main.Nodosus.var\"#19#23\"(Core.Box(Main.Nodosus.var\"#19#23\"(#= circular reference @-2 =#)))), 0x000000000000693b)\n",
      "db/linckii/~keab/data/19/meter_effect.db: MethodError(isless, (601000 milliseconds, Main.Nodosus.var\"#19#23\"(Core.Box(Main.Nodosus.var\"#19#23\"(#= circular reference @-2 =#)))), 0x000000000000693b)\n",
      "db/linckii/~keab/data/19/meter_primreturntemp.db: MethodError(isless, (601000 milliseconds, Main.Nodosus.var\"#19#23\"(Core.Box(Main.Nodosus.var\"#19#23\"(#= circular reference @-2 =#)))), 0x000000000000693b)\n",
      "db/linckii/~keab/data/19/meter_primsupplytemp.db: MethodError(isless, (601000 milliseconds, Main.Nodosus.var\"#19#23\"(Core.Box(Main.Nodosus.var\"#19#23\"(#= circular reference @-2 =#)))), 0x000000000000693b)\n",
      "db/linckii/~keab/data/19/meter_volumeflow.db: MethodError(isless, (1200000 milliseconds, Main.Nodosus.var\"#19#23\"(Core.Box(Main.Nodosus.var\"#19#23\"(#= circular reference @-2 =#)))), 0x000000000000693b)\n",
      "db/linckii/~keab/data/20/meter_effect.db: MethodError(isless, (602000 milliseconds, Main.Nodosus.var\"#19#23\"(Core.Box(Main.Nodosus.var\"#19#23\"(#= circular reference @-2 =#)))), 0x000000000000693b)\n",
      "db/linckii/~keab/data/20/meter_primreturntemp.db: MethodError(isless, (300000 milliseconds, Main.Nodosus.var\"#19#23\"(Core.Box(Main.Nodosus.var\"#19#23\"(#= circular reference @-2 =#)))), 0x000000000000693b)\n",
      "db/linckii/~keab/data/20/meter_primsupplytemp.db: MethodError(isless, (601000 milliseconds, Main.Nodosus.var\"#19#23\"(Core.Box(Main.Nodosus.var\"#19#23\"(#= circular reference @-2 =#)))), 0x000000000000693b)\n",
      "db/linckii/~keab/data/20/meter_volumeflow.db: MethodError(isless, (602000 milliseconds, Main.Nodosus.var\"#19#23\"(Core.Box(Main.Nodosus.var\"#19#23\"(#= circular reference @-2 =#)))), 0x000000000000693b)\n",
      "db/linckii/~keab/data/21/meter_effect.db: MethodError(isless, (598000 milliseconds, Main.Nodosus.var\"#19#23\"(Core.Box(Main.Nodosus.var\"#19#23\"(#= circular reference @-2 =#)))), 0x000000000000693b)\n",
      "db/linckii/~keab/data/21/meter_primreturntemp.db: MethodError(isless, (598000 milliseconds, Main.Nodosus.var\"#19#23\"(Core.Box(Main.Nodosus.var\"#19#23\"(#= circular reference @-2 =#)))), 0x000000000000693b)\n",
      "db/linckii/~keab/data/21/meter_primsupplytemp.db: MethodError(isless, (598000 milliseconds, Main.Nodosus.var\"#19#23\"(Core.Box(Main.Nodosus.var\"#19#23\"(#= circular reference @-2 =#)))), 0x000000000000693b)\n",
      "db/linckii/~keab/data/21/meter_volumeflow.db: MethodError(isless, (598000 milliseconds, Main.Nodosus.var\"#19#23\"(Core.Box(Main.Nodosus.var\"#19#23\"(#= circular reference @-2 =#)))), 0x000000000000693b)\n",
      "db/linckii/~keab/data/22/meter_effect.db: MethodError(isless, (599000 milliseconds, Main.Nodosus.var\"#19#23\"(Core.Box(Main.Nodosus.var\"#19#23\"(#= circular reference @-2 =#)))), 0x000000000000693b)\n",
      "db/linckii/~keab/data/22/meter_primreturntemp.db: MethodError(isless, (599000 milliseconds, Main.Nodosus.var\"#19#23\"(Core.Box(Main.Nodosus.var\"#19#23\"(#= circular reference @-2 =#)))), 0x000000000000693b)\n",
      "db/linckii/~keab/data/22/meter_primsupplytemp.db: MethodError(isless, (1799000 milliseconds, Main.Nodosus.var\"#19#23\"(Core.Box(Main.Nodosus.var\"#19#23\"(#= circular reference @-2 =#)))), 0x000000000000693b)\n",
      "db/linckii/~keab/data/22/meter_volumeflow.db: MethodError(isless, (599000 milliseconds, Main.Nodosus.var\"#19#23\"(Core.Box(Main.Nodosus.var\"#19#23\"(#= circular reference @-2 =#)))), 0x000000000000693b)\n",
      "db/linckii/~keab/data/23/meter_effect.db: MethodError(isless, (1201000 milliseconds, Main.Nodosus.var\"#19#23\"(Core.Box(Main.Nodosus.var\"#19#23\"(#= circular reference @-2 =#)))), 0x000000000000693b)\n",
      "db/linckii/~keab/data/23/meter_primreturntemp.db: MethodError(isless, (600000 milliseconds, Main.Nodosus.var\"#19#23\"(Core.Box(Main.Nodosus.var\"#19#23\"(#= circular reference @-2 =#)))), 0x000000000000693b)\n",
      "db/linckii/~keab/data/23/meter_primsupplytemp.db: MethodError(isless, (602000 milliseconds, Main.Nodosus.var\"#19#23\"(Core.Box(Main.Nodosus.var\"#19#23\"(#= circular reference @-2 =#)))), 0x000000000000693b)\n",
      "db/linckii/~keab/data/23/meter_volumeflow.db: MethodError(isless, (602000 milliseconds, Main.Nodosus.var\"#19#23\"(Core.Box(Main.Nodosus.var\"#19#23\"(#= circular reference @-2 =#)))), 0x000000000000693b)\n",
      "db/linckii/~keab/data/24/meter_effect.db: MethodError(isless, (1800000 milliseconds, Main.Nodosus.var\"#19#23\"(Core.Box(Main.Nodosus.var\"#19#23\"(#= circular reference @-2 =#)))), 0x000000000000693b)\n",
      "db/linckii/~keab/data/24/meter_primreturntemp.db: MethodError(isless, (1800000 milliseconds, Main.Nodosus.var\"#19#23\"(Core.Box(Main.Nodosus.var\"#19#23\"(#= circular reference @-2 =#)))), 0x000000000000693b)\n",
      "db/linckii/~keab/data/24/meter_primsupplytemp.db: MethodError(isless, (1800000 milliseconds, Main.Nodosus.var\"#19#23\"(Core.Box(Main.Nodosus.var\"#19#23\"(#= circular reference @-2 =#)))), 0x000000000000693b)\n",
      "db/linckii/~keab/data/24/meter_volumeflow.db: MethodError(isless, (1800000 milliseconds, Main.Nodosus.var\"#19#23\"(Core.Box(Main.Nodosus.var\"#19#23\"(#= circular reference @-2 =#)))), 0x000000000000693b)\n",
      "db/linckii/~keab/data/25/meter_effect.db: MethodError(isless, (600000 milliseconds, Main.Nodosus.var\"#19#23\"(Core.Box(Main.Nodosus.var\"#19#23\"(#= circular reference @-2 =#)))), 0x000000000000693b)\n",
      "db/linckii/~keab/data/25/meter_primreturntemp.db: MethodError(isless, (600000 milliseconds, Main.Nodosus.var\"#19#23\"(Core.Box(Main.Nodosus.var\"#19#23\"(#= circular reference @-2 =#)))), 0x000000000000693b)\n",
      "db/linckii/~keab/data/25/meter_primsupplytemp.db: MethodError(isless, (600000 milliseconds, Main.Nodosus.var\"#19#23\"(Core.Box(Main.Nodosus.var\"#19#23\"(#= circular reference @-2 =#)))), 0x000000000000693b)\n",
      "db/linckii/~keab/data/25/meter_volumeflow.db: MethodError(isless, (600000 milliseconds, Main.Nodosus.var\"#19#23\"(Core.Box(Main.Nodosus.var\"#19#23\"(#= circular reference @-2 =#)))), 0x000000000000693b)\n",
      "db/linckii/~keab/data/26/meter_effect.db: MethodError(isless, (601000 milliseconds, Main.Nodosus.var\"#19#23\"(Core.Box(Main.Nodosus.var\"#19#23\"(#= circular reference @-2 =#)))), 0x000000000000693b)\n",
      "db/linckii/~keab/data/26/meter_primreturntemp.db: MethodError(isless, (601000 milliseconds, Main.Nodosus.var\"#19#23\"(Core.Box(Main.Nodosus.var\"#19#23\"(#= circular reference @-2 =#)))), 0x000000000000693b)\n",
      "db/linckii/~keab/data/26/meter_primsupplytemp.db: MethodError(isless, (601000 milliseconds, Main.Nodosus.var\"#19#23\"(Core.Box(Main.Nodosus.var\"#19#23\"(#= circular reference @-2 =#)))), 0x000000000000693b)\n",
      "db/linckii/~keab/data/26/meter_volumeflow.db: MethodError(isless, (600000 milliseconds, Main.Nodosus.var\"#19#23\"(Core.Box(Main.Nodosus.var\"#19#23\"(#= circular reference @-2 =#)))), 0x000000000000693b)\n",
      "db/linckii/~keab/data/27/meter_effect.db: ErrorException(\"db/linckii/~keab/data/27/meter_effect.db is not a file or directory\")\n",
      "db/linckii/~keab/data/27/meter_primreturntemp.db: MethodError(isless, (599000 milliseconds, Main.Nodosus.var\"#19#23\"(Core.Box(Main.Nodosus.var\"#19#23\"(#= circular reference @-2 =#)))), 0x000000000000693b)\n",
      "db/linckii/~keab/data/27/meter_primsupplytemp.db: MethodError(isless, (600000 milliseconds, Main.Nodosus.var\"#19#23\"(Core.Box(Main.Nodosus.var\"#19#23\"(#= circular reference @-2 =#)))), 0x000000000000693b)\n",
      "db/linckii/~keab/data/27/meter_volumeflow.db: MethodError(isless, (300000 milliseconds, Main.Nodosus.var\"#19#23\"(Core.Box(Main.Nodosus.var\"#19#23\"(#= circular reference @-2 =#)))), 0x000000000000693b)\n",
      "db/linckii/~keab/data/28/meter_effect.db: ErrorException(\"db/linckii/~keab/data/28/meter_effect.db is not a file or directory\")\n",
      "db/linckii/~keab/data/28/meter_primreturntemp.db: ErrorException(\"db/linckii/~keab/data/28/meter_primreturntemp.db is not a file or directory\")\n",
      "db/linckii/~keab/data/28/meter_primsupplytemp.db: ErrorException(\"db/linckii/~keab/data/28/meter_primsupplytemp.db is not a file or directory\")\n",
      "db/linckii/~keab/data/28/meter_volumeflow.db: ErrorException(\"db/linckii/~keab/data/28/meter_volumeflow.db is not a file or directory\")\n",
      "db/linckii/~keab/data/29/meter_effect.db: MethodError(isless, (600000 milliseconds, Main.Nodosus.var\"#19#23\"(Core.Box(Main.Nodosus.var\"#19#23\"(#= circular reference @-2 =#)))), 0x000000000000693b)\n",
      "db/linckii/~keab/data/29/meter_primreturntemp.db: MethodError(isless, (600000 milliseconds, Main.Nodosus.var\"#19#23\"(Core.Box(Main.Nodosus.var\"#19#23\"(#= circular reference @-2 =#)))), 0x000000000000693b)\n",
      "db/linckii/~keab/data/29/meter_primsupplytemp.db: MethodError(isless, (600000 milliseconds, Main.Nodosus.var\"#19#23\"(Core.Box(Main.Nodosus.var\"#19#23\"(#= circular reference @-2 =#)))), 0x000000000000693b)\n",
      "db/linckii/~keab/data/29/meter_volumeflow.db: MethodError(isless, (600000 milliseconds, Main.Nodosus.var\"#19#23\"(Core.Box(Main.Nodosus.var\"#19#23\"(#= circular reference @-2 =#)))), 0x000000000000693b)\n",
      "db/linckii/~keab/data/30/meter_effect.db: MethodError(isless, (1175000 milliseconds, Main.Nodosus.var\"#19#23\"(Core.Box(Main.Nodosus.var\"#19#23\"(#= circular reference @-2 =#)))), 0x000000000000693b)\n",
      "db/linckii/~keab/data/30/meter_primreturntemp.db: MethodError(isless, (1175000 milliseconds, Main.Nodosus.var\"#19#23\"(Core.Box(Main.Nodosus.var\"#19#23\"(#= circular reference @-2 =#)))), 0x000000000000693b)\n",
      "db/linckii/~keab/data/30/meter_primsupplytemp.db: MethodError(isless, (1175000 milliseconds, Main.Nodosus.var\"#19#23\"(Core.Box(Main.Nodosus.var\"#19#23\"(#= circular reference @-2 =#)))), 0x000000000000693b)\n",
      "db/linckii/~keab/data/30/meter_volumeflow.db: MethodError(isless, (1175000 milliseconds, Main.Nodosus.var\"#19#23\"(Core.Box(Main.Nodosus.var\"#19#23\"(#= circular reference @-2 =#)))), 0x000000000000693b)\n",
      "db/linckii/~keab/data/31/meter_effect.db: ErrorException(\"db/linckii/~keab/data/31/meter_effect.db is not a file or directory\")\n",
      "db/linckii/~keab/data/31/meter_primreturntemp.db: ErrorException(\"db/linckii/~keab/data/31/meter_primreturntemp.db is not a file or directory\")\n",
      "db/linckii/~keab/data/31/meter_primsupplytemp.db: ErrorException(\"db/linckii/~keab/data/31/meter_primsupplytemp.db is not a file or directory\")\n",
      "db/linckii/~keab/data/31/meter_volumeflow.db: ErrorException(\"db/linckii/~keab/data/31/meter_volumeflow.db is not a file or directory\")\n",
      "db/linckii/~keab/data/32/meter_effect.db: MethodError(isless, (601000 milliseconds, Main.Nodosus.var\"#19#23\"(Core.Box(Main.Nodosus.var\"#19#23\"(#= circular reference @-2 =#)))), 0x000000000000693b)\n",
      "db/linckii/~keab/data/32/meter_primreturntemp.db: MethodError(isless, (600000 milliseconds, Main.Nodosus.var\"#19#23\"(Core.Box(Main.Nodosus.var\"#19#23\"(#= circular reference @-2 =#)))), 0x000000000000693b)\n",
      "db/linckii/~keab/data/32/meter_primsupplytemp.db: MethodError(isless, (1200000 milliseconds, Main.Nodosus.var\"#19#23\"(Core.Box(Main.Nodosus.var\"#19#23\"(#= circular reference @-2 =#)))), 0x000000000000693b)\n",
      "db/linckii/~keab/data/32/meter_volumeflow.db: MethodError(isless, (601000 milliseconds, Main.Nodosus.var\"#19#23\"(Core.Box(Main.Nodosus.var\"#19#23\"(#= circular reference @-2 =#)))), 0x000000000000693b)\n",
      "db/linckii/~keab/data/33/meter_effect.db: ErrorException(\"db/linckii/~keab/data/33/meter_effect.db is not a file or directory\")\n",
      "db/linckii/~keab/data/33/meter_primreturntemp.db: ErrorException(\"db/linckii/~keab/data/33/meter_primreturntemp.db is not a file or directory\")\n",
      "db/linckii/~keab/data/33/meter_primsupplytemp.db: ErrorException(\"db/linckii/~keab/data/33/meter_primsupplytemp.db is not a file or directory\")\n",
      "db/linckii/~keab/data/33/meter_volumeflow.db: ErrorException(\"db/linckii/~keab/data/33/meter_volumeflow.db is not a file or directory\")\n",
      "db/linckii/~keab/data/34/meter_effect.db: MethodError(isless, (600000 milliseconds, Main.Nodosus.var\"#19#23\"(Core.Box(Main.Nodosus.var\"#19#23\"(#= circular reference @-2 =#)))), 0x000000000000693b)\n",
      "db/linckii/~keab/data/34/meter_primreturntemp.db: MethodError(isless, (600000 milliseconds, Main.Nodosus.var\"#19#23\"(Core.Box(Main.Nodosus.var\"#19#23\"(#= circular reference @-2 =#)))), 0x000000000000693b)\n",
      "db/linckii/~keab/data/34/meter_primsupplytemp.db: MethodError(isless, (600000 milliseconds, Main.Nodosus.var\"#19#23\"(Core.Box(Main.Nodosus.var\"#19#23\"(#= circular reference @-2 =#)))), 0x000000000000693b)\n",
      "db/linckii/~keab/data/34/meter_volumeflow.db: ErrorException(\"db/linckii/~keab/data/34/meter_volumeflow.db is not a file or directory\")\n",
      "db/linckii/~keab/data/35/meter_effect.db: MethodError(isless, (600000 milliseconds, Main.Nodosus.var\"#19#23\"(Core.Box(Main.Nodosus.var\"#19#23\"(#= circular reference @-2 =#)))), 0x000000000000693b)\n",
      "db/linckii/~keab/data/35/meter_primreturntemp.db: MethodError(isless, (6599000 milliseconds, Main.Nodosus.var\"#19#23\"(Core.Box(Main.Nodosus.var\"#19#23\"(#= circular reference @-2 =#)))), 0x000000000000693b)\n",
      "db/linckii/~keab/data/35/meter_primsupplytemp.db: MethodError(isless, (600000 milliseconds, Main.Nodosus.var\"#19#23\"(Core.Box(Main.Nodosus.var\"#19#23\"(#= circular reference @-2 =#)))), 0x000000000000693b)\n",
      "db/linckii/~keab/data/35/meter_volumeflow.db: MethodError(isless, (1200000 milliseconds, Main.Nodosus.var\"#19#23\"(Core.Box(Main.Nodosus.var\"#19#23\"(#= circular reference @-2 =#)))), 0x000000000000693b)\n",
      "db/linckii/~keab/data/36/meter_effect.db: MethodError(isless, (1199000 milliseconds, Main.Nodosus.var\"#19#23\"(Core.Box(Main.Nodosus.var\"#19#23\"(#= circular reference @-2 =#)))), 0x000000000000693b)\n",
      "db/linckii/~keab/data/36/meter_primreturntemp.db: MethodError(isless, (1199000 milliseconds, Main.Nodosus.var\"#19#23\"(Core.Box(Main.Nodosus.var\"#19#23\"(#= circular reference @-2 =#)))), 0x000000000000693b)\n",
      "db/linckii/~keab/data/36/meter_primsupplytemp.db: MethodError(isless, (1199000 milliseconds, Main.Nodosus.var\"#19#23\"(Core.Box(Main.Nodosus.var\"#19#23\"(#= circular reference @-2 =#)))), 0x000000000000693b)\n",
      "db/linckii/~keab/data/36/meter_volumeflow.db: MethodError(isless, (1199000 milliseconds, Main.Nodosus.var\"#19#23\"(Core.Box(Main.Nodosus.var\"#19#23\"(#= circular reference @-2 =#)))), 0x000000000000693b)\n",
      "db/linckii/~keab/data/37/meter_effect.db: MethodError(isless, (600000 milliseconds, Main.Nodosus.var\"#19#23\"(Core.Box(Main.Nodosus.var\"#19#23\"(#= circular reference @-2 =#)))), 0x000000000000693b)\n",
      "db/linckii/~keab/data/37/meter_primreturntemp.db: MethodError(isless, (600000 milliseconds, Main.Nodosus.var\"#19#23\"(Core.Box(Main.Nodosus.var\"#19#23\"(#= circular reference @-2 =#)))), 0x000000000000693b)\n",
      "db/linckii/~keab/data/37/meter_primsupplytemp.db: MethodError(isless, (600000 milliseconds, Main.Nodosus.var\"#19#23\"(Core.Box(Main.Nodosus.var\"#19#23\"(#= circular reference @-2 =#)))), 0x000000000000693b)\n",
      "db/linckii/~keab/data/37/meter_volumeflow.db: MethodError(isless, (600000 milliseconds, Main.Nodosus.var\"#19#23\"(Core.Box(Main.Nodosus.var\"#19#23\"(#= circular reference @-2 =#)))), 0x000000000000693b)\n",
      "db/linckii/~keab/data/38/meter_effect.db: ErrorException(\"db/linckii/~keab/data/38/meter_effect.db is not a file or directory\")\n",
      "db/linckii/~keab/data/38/meter_primreturntemp.db: ErrorException(\"db/linckii/~keab/data/38/meter_primreturntemp.db is not a file or directory\")\n",
      "db/linckii/~keab/data/38/meter_primsupplytemp.db: ErrorException(\"db/linckii/~keab/data/38/meter_primsupplytemp.db is not a file or directory\")\n",
      "db/linckii/~keab/data/38/meter_volumeflow.db: ErrorException(\"db/linckii/~keab/data/38/meter_volumeflow.db is not a file or directory\")\n",
      "db/linckii/~keab/data/39/meter_effect.db: MethodError(isless, (600000 milliseconds, Main.Nodosus.var\"#19#23\"(Core.Box(Main.Nodosus.var\"#19#23\"(#= circular reference @-2 =#)))), 0x000000000000693b)\n",
      "db/linckii/~keab/data/39/meter_primreturntemp.db: MethodError(isless, (600000 milliseconds, Main.Nodosus.var\"#19#23\"(Core.Box(Main.Nodosus.var\"#19#23\"(#= circular reference @-2 =#)))), 0x000000000000693b)\n",
      "db/linckii/~keab/data/39/meter_primsupplytemp.db: MethodError(isless, (600000 milliseconds, Main.Nodosus.var\"#19#23\"(Core.Box(Main.Nodosus.var\"#19#23\"(#= circular reference @-2 =#)))), 0x000000000000693b)\n",
      "db/linckii/~keab/data/39/meter_volumeflow.db: MethodError(isless, (600000 milliseconds, Main.Nodosus.var\"#19#23\"(Core.Box(Main.Nodosus.var\"#19#23\"(#= circular reference @-2 =#)))), 0x000000000000693b)\n",
      "db/linckii/~keab/data/40/meter_effect.db: ErrorException(\"db/linckii/~keab/data/40/meter_effect.db is not a file or directory\")\n",
      "db/linckii/~keab/data/40/meter_primreturntemp.db: ErrorException(\"db/linckii/~keab/data/40/meter_primreturntemp.db is not a file or directory\")\n",
      "db/linckii/~keab/data/40/meter_primsupplytemp.db: ErrorException(\"db/linckii/~keab/data/40/meter_primsupplytemp.db is not a file or directory\")\n",
      "db/linckii/~keab/data/40/meter_volumeflow.db: ErrorException(\"db/linckii/~keab/data/40/meter_volumeflow.db is not a file or directory\")\n",
      "db/linckii/~keab/data/52/meter_effect.db: MethodError(isless, (600000 milliseconds, Main.Nodosus.var\"#19#23\"(Core.Box(Main.Nodosus.var\"#19#23\"(#= circular reference @-2 =#)))), 0x000000000000693b)\n",
      "db/linckii/~keab/data/52/meter_primreturntemp.db: MethodError(isless, (3000000 milliseconds, Main.Nodosus.var\"#19#23\"(Core.Box(Main.Nodosus.var\"#19#23\"(#= circular reference @-2 =#)))), 0x000000000000693b)\n",
      "db/linckii/~keab/data/52/meter_primsupplytemp.db: MethodError(isless, (13201000 milliseconds, Main.Nodosus.var\"#19#23\"(Core.Box(Main.Nodosus.var\"#19#23\"(#= circular reference @-2 =#)))), 0x000000000000693b)\n",
      "db/linckii/~keab/data/52/meter_volumeflow.db: MethodError(isless, (3600000 milliseconds, Main.Nodosus.var\"#19#23\"(Core.Box(Main.Nodosus.var\"#19#23\"(#= circular reference @-2 =#)))), 0x000000000000693b)\n",
      "db/linckii/~keab/data/53/meter_effect.db: ErrorException(\"db/linckii/~keab/data/53/meter_effect.db is not a file or directory\")\n",
      "db/linckii/~keab/data/53/meter_primreturntemp.db: MethodError(isless, (601000 milliseconds, Main.Nodosus.var\"#19#23\"(Core.Box(Main.Nodosus.var\"#19#23\"(#= circular reference @-2 =#)))), 0x000000000000693b)\n",
      "db/linckii/~keab/data/53/meter_primsupplytemp.db: MethodError(isless, (601000 milliseconds, Main.Nodosus.var\"#19#23\"(Core.Box(Main.Nodosus.var\"#19#23\"(#= circular reference @-2 =#)))), 0x000000000000693b)\n",
      "db/linckii/~keab/data/53/meter_volumeflow.db: MethodError(isless, (601000 milliseconds, Main.Nodosus.var\"#19#23\"(Core.Box(Main.Nodosus.var\"#19#23\"(#= circular reference @-2 =#)))), 0x000000000000693b)\n",
      "db/linckii/~keab/data/54/meter_effect.db: MethodError(isless, (601000 milliseconds, Main.Nodosus.var\"#19#23\"(Core.Box(Main.Nodosus.var\"#19#23\"(#= circular reference @-2 =#)))), 0x000000000000693b)\n",
      "db/linckii/~keab/data/54/meter_primreturntemp.db: MethodError(isless, (601000 milliseconds, Main.Nodosus.var\"#19#23\"(Core.Box(Main.Nodosus.var\"#19#23\"(#= circular reference @-2 =#)))), 0x000000000000693b)\n",
      "db/linckii/~keab/data/54/meter_primsupplytemp.db: MethodError(isless, (601000 milliseconds, Main.Nodosus.var\"#19#23\"(Core.Box(Main.Nodosus.var\"#19#23\"(#= circular reference @-2 =#)))), 0x000000000000693b)\n",
      "db/linckii/~keab/data/54/meter_volumeflow.db: MethodError(isless, (1199000 milliseconds, Main.Nodosus.var\"#19#23\"(Core.Box(Main.Nodosus.var\"#19#23\"(#= circular reference @-2 =#)))), 0x000000000000693b)\n",
      "db/linckii/~keab/data/55/meter_effect.db: MethodError(isless, (599000 milliseconds, Main.Nodosus.var\"#19#23\"(Core.Box(Main.Nodosus.var\"#19#23\"(#= circular reference @-2 =#)))), 0x000000000000693b)\n",
      "db/linckii/~keab/data/55/meter_primreturntemp.db: MethodError(isless, (1200000 milliseconds, Main.Nodosus.var\"#19#23\"(Core.Box(Main.Nodosus.var\"#19#23\"(#= circular reference @-2 =#)))), 0x000000000000693b)\n",
      "db/linckii/~keab/data/55/meter_primsupplytemp.db: MethodError(isless, (599000 milliseconds, Main.Nodosus.var\"#19#23\"(Core.Box(Main.Nodosus.var\"#19#23\"(#= circular reference @-2 =#)))), 0x000000000000693b)\n",
      "db/linckii/~keab/data/55/meter_volumeflow.db: MethodError(isless, (599000 milliseconds, Main.Nodosus.var\"#19#23\"(Core.Box(Main.Nodosus.var\"#19#23\"(#= circular reference @-2 =#)))), 0x000000000000693b)\n",
      "db/linckii/~keab/data/56/meter_effect.db: MethodError(isless, (600000 milliseconds, Main.Nodosus.var\"#19#23\"(Core.Box(Main.Nodosus.var\"#19#23\"(#= circular reference @-2 =#)))), 0x000000000000693b)\n",
      "db/linckii/~keab/data/56/meter_primreturntemp.db: MethodError(isless, (600000 milliseconds, Main.Nodosus.var\"#19#23\"(Core.Box(Main.Nodosus.var\"#19#23\"(#= circular reference @-2 =#)))), 0x000000000000693b)\n",
      "db/linckii/~keab/data/56/meter_primsupplytemp.db: MethodError(isless, (600000 milliseconds, Main.Nodosus.var\"#19#23\"(Core.Box(Main.Nodosus.var\"#19#23\"(#= circular reference @-2 =#)))), 0x000000000000693b)\n",
      "db/linckii/~keab/data/56/meter_volumeflow.db: MethodError(isless, (600000 milliseconds, Main.Nodosus.var\"#19#23\"(Core.Box(Main.Nodosus.var\"#19#23\"(#= circular reference @-2 =#)))), 0x000000000000693b)\n",
      "db/linckii/~keab/data/57/meter_effect.db: MethodError(isless, (601000 milliseconds, Main.Nodosus.var\"#19#23\"(Core.Box(Main.Nodosus.var\"#19#23\"(#= circular reference @-2 =#)))), 0x000000000000693b)\n",
      "db/linckii/~keab/data/57/meter_primreturntemp.db: MethodError(isless, (601000 milliseconds, Main.Nodosus.var\"#19#23\"(Core.Box(Main.Nodosus.var\"#19#23\"(#= circular reference @-2 =#)))), 0x000000000000693b)\n",
      "db/linckii/~keab/data/57/meter_primsupplytemp.db: MethodError(isless, (601000 milliseconds, Main.Nodosus.var\"#19#23\"(Core.Box(Main.Nodosus.var\"#19#23\"(#= circular reference @-2 =#)))), 0x000000000000693b)\n",
      "db/linckii/~keab/data/57/meter_volumeflow.db: MethodError(isless, (601000 milliseconds, Main.Nodosus.var\"#19#23\"(Core.Box(Main.Nodosus.var\"#19#23\"(#= circular reference @-2 =#)))), 0x000000000000693b)\n",
      "db/linckii/~keab/data/58/meter_effect.db: MethodError(isless, (600000 milliseconds, Main.Nodosus.var\"#19#23\"(Core.Box(Main.Nodosus.var\"#19#23\"(#= circular reference @-2 =#)))), 0x000000000000693b)\n",
      "db/linckii/~keab/data/58/meter_primreturntemp.db: MethodError(isless, (600000 milliseconds, Main.Nodosus.var\"#19#23\"(Core.Box(Main.Nodosus.var\"#19#23\"(#= circular reference @-2 =#)))), 0x000000000000693b)\n",
      "db/linckii/~keab/data/58/meter_primsupplytemp.db: MethodError(isless, (600000 milliseconds, Main.Nodosus.var\"#19#23\"(Core.Box(Main.Nodosus.var\"#19#23\"(#= circular reference @-2 =#)))), 0x000000000000693b)\n",
      "db/linckii/~keab/data/58/meter_volumeflow.db: MethodError(isless, (600000 milliseconds, Main.Nodosus.var\"#19#23\"(Core.Box(Main.Nodosus.var\"#19#23\"(#= circular reference @-2 =#)))), 0x000000000000693b)\n",
      "db/linckii/~keab/data/59/meter_effect.db: ErrorException(\"db/linckii/~keab/data/59/meter_effect.db is not a file or directory\")\n",
      "db/linckii/~keab/data/59/meter_primreturntemp.db: MethodError(isless, (600000 milliseconds, Main.Nodosus.var\"#19#23\"(Core.Box(Main.Nodosus.var\"#19#23\"(#= circular reference @-2 =#)))), 0x000000000000693b)\n",
      "db/linckii/~keab/data/59/meter_primsupplytemp.db: MethodError(isless, (600000 milliseconds, Main.Nodosus.var\"#19#23\"(Core.Box(Main.Nodosus.var\"#19#23\"(#= circular reference @-2 =#)))), 0x000000000000693b)\n",
      "db/linckii/~keab/data/59/meter_volumeflow.db: MethodError(isless, (600000 milliseconds, Main.Nodosus.var\"#19#23\"(Core.Box(Main.Nodosus.var\"#19#23\"(#= circular reference @-2 =#)))), 0x000000000000693b)\n",
      "db/linckii/~keab/data/60/meter_effect.db: MethodError(isless, (1199000 milliseconds, Main.Nodosus.var\"#19#23\"(Core.Box(Main.Nodosus.var\"#19#23\"(#= circular reference @-2 =#)))), 0x000000000000693b)\n",
      "db/linckii/~keab/data/60/meter_primreturntemp.db: MethodError(isless, (600000 milliseconds, Main.Nodosus.var\"#19#23\"(Core.Box(Main.Nodosus.var\"#19#23\"(#= circular reference @-2 =#)))), 0x000000000000693b)\n",
      "db/linckii/~keab/data/60/meter_primsupplytemp.db: MethodError(isless, (600000 milliseconds, Main.Nodosus.var\"#19#23\"(Core.Box(Main.Nodosus.var\"#19#23\"(#= circular reference @-2 =#)))), 0x000000000000693b)\n",
      "db/linckii/~keab/data/60/meter_volumeflow.db: MethodError(isless, (600000 milliseconds, Main.Nodosus.var\"#19#23\"(Core.Box(Main.Nodosus.var\"#19#23\"(#= circular reference @-2 =#)))), 0x000000000000693b)\n",
      "db/linckii/~keab/data/61/meter_effect.db: MethodError(isless, (599000 milliseconds, Main.Nodosus.var\"#19#23\"(Core.Box(Main.Nodosus.var\"#19#23\"(#= circular reference @-2 =#)))), 0x000000000000693b)\n",
      "db/linckii/~keab/data/61/meter_primreturntemp.db: MethodError(isless, (599000 milliseconds, Main.Nodosus.var\"#19#23\"(Core.Box(Main.Nodosus.var\"#19#23\"(#= circular reference @-2 =#)))), 0x000000000000693b)\n",
      "db/linckii/~keab/data/61/meter_primsupplytemp.db: MethodError(isless, (599000 milliseconds, Main.Nodosus.var\"#19#23\"(Core.Box(Main.Nodosus.var\"#19#23\"(#= circular reference @-2 =#)))), 0x000000000000693b)\n",
      "db/linckii/~keab/data/61/meter_volumeflow.db: MethodError(isless, (599000 milliseconds, Main.Nodosus.var\"#19#23\"(Core.Box(Main.Nodosus.var\"#19#23\"(#= circular reference @-2 =#)))), 0x000000000000693b)\n",
      "db/linckii/~keab/data/62/meter_effect.db: MethodError(isless, (600000 milliseconds, Main.Nodosus.var\"#19#23\"(Core.Box(Main.Nodosus.var\"#19#23\"(#= circular reference @-2 =#)))), 0x000000000000693b)\n",
      "db/linckii/~keab/data/62/meter_primreturntemp.db: MethodError(isless, (600000 milliseconds, Main.Nodosus.var\"#19#23\"(Core.Box(Main.Nodosus.var\"#19#23\"(#= circular reference @-2 =#)))), 0x000000000000693b)\n",
      "db/linckii/~keab/data/62/meter_primsupplytemp.db: MethodError(isless, (600000 milliseconds, Main.Nodosus.var\"#19#23\"(Core.Box(Main.Nodosus.var\"#19#23\"(#= circular reference @-2 =#)))), 0x000000000000693b)\n",
      "db/linckii/~keab/data/62/meter_volumeflow.db: MethodError(isless, (600000 milliseconds, Main.Nodosus.var\"#19#23\"(Core.Box(Main.Nodosus.var\"#19#23\"(#= circular reference @-2 =#)))), 0x000000000000693b)\n",
      "db/linckii/~keab/data/63/meter_effect.db: MethodError(isless, (599000 milliseconds, Main.Nodosus.var\"#19#23\"(Core.Box(Main.Nodosus.var\"#19#23\"(#= circular reference @-2 =#)))), 0x000000000000693b)\n",
      "db/linckii/~keab/data/63/meter_primreturntemp.db: MethodError(isless, (599000 milliseconds, Main.Nodosus.var\"#19#23\"(Core.Box(Main.Nodosus.var\"#19#23\"(#= circular reference @-2 =#)))), 0x000000000000693b)\n",
      "db/linckii/~keab/data/63/meter_primsupplytemp.db: MethodError(isless, (599000 milliseconds, Main.Nodosus.var\"#19#23\"(Core.Box(Main.Nodosus.var\"#19#23\"(#= circular reference @-2 =#)))), 0x000000000000693b)\n",
      "db/linckii/~keab/data/63/meter_volumeflow.db: MethodError(isless, (599000 milliseconds, Main.Nodosus.var\"#19#23\"(Core.Box(Main.Nodosus.var\"#19#23\"(#= circular reference @-2 =#)))), 0x000000000000693b)\n",
      "db/linckii/~keab/data/64/meter_effect.db: MethodError(isless, (600000 milliseconds, Main.Nodosus.var\"#19#23\"(Core.Box(Main.Nodosus.var\"#19#23\"(#= circular reference @-2 =#)))), 0x000000000000693b)\n",
      "db/linckii/~keab/data/64/meter_primreturntemp.db: MethodError(isless, (600000 milliseconds, Main.Nodosus.var\"#19#23\"(Core.Box(Main.Nodosus.var\"#19#23\"(#= circular reference @-2 =#)))), 0x000000000000693b)\n",
      "db/linckii/~keab/data/64/meter_primsupplytemp.db: MethodError(isless, (600000 milliseconds, Main.Nodosus.var\"#19#23\"(Core.Box(Main.Nodosus.var\"#19#23\"(#= circular reference @-2 =#)))), 0x000000000000693b)\n",
      "db/linckii/~keab/data/64/meter_volumeflow.db: MethodError(isless, (600000 milliseconds, Main.Nodosus.var\"#19#23\"(Core.Box(Main.Nodosus.var\"#19#23\"(#= circular reference @-2 =#)))), 0x000000000000693b)\n",
      "db/linckii/~keab/data/65/meter_effect.db: MethodError(isless, (600000 milliseconds, Main.Nodosus.var\"#19#23\"(Core.Box(Main.Nodosus.var\"#19#23\"(#= circular reference @-2 =#)))), 0x000000000000693b)\n",
      "db/linckii/~keab/data/65/meter_primreturntemp.db: MethodError(isless, (600000 milliseconds, Main.Nodosus.var\"#19#23\"(Core.Box(Main.Nodosus.var\"#19#23\"(#= circular reference @-2 =#)))), 0x000000000000693b)\n",
      "db/linckii/~keab/data/65/meter_primsupplytemp.db: MethodError(isless, (600000 milliseconds, Main.Nodosus.var\"#19#23\"(Core.Box(Main.Nodosus.var\"#19#23\"(#= circular reference @-2 =#)))), 0x000000000000693b)\n",
      "db/linckii/~keab/data/65/meter_volumeflow.db: MethodError(isless, (600000 milliseconds, Main.Nodosus.var\"#19#23\"(Core.Box(Main.Nodosus.var\"#19#23\"(#= circular reference @-2 =#)))), 0x000000000000693b)\n",
      "db/linckii/~keab/data/66/meter_effect.db: MethodError(isless, (600000 milliseconds, Main.Nodosus.var\"#19#23\"(Core.Box(Main.Nodosus.var\"#19#23\"(#= circular reference @-2 =#)))), 0x000000000000693b)\n",
      "db/linckii/~keab/data/66/meter_primreturntemp.db: MethodError(isless, (600000 milliseconds, Main.Nodosus.var\"#19#23\"(Core.Box(Main.Nodosus.var\"#19#23\"(#= circular reference @-2 =#)))), 0x000000000000693b)\n",
      "db/linckii/~keab/data/66/meter_primsupplytemp.db: MethodError(isless, (600000 milliseconds, Main.Nodosus.var\"#19#23\"(Core.Box(Main.Nodosus.var\"#19#23\"(#= circular reference @-2 =#)))), 0x000000000000693b)\n",
      "db/linckii/~keab/data/66/meter_volumeflow.db: MethodError(isless, (1199000 milliseconds, Main.Nodosus.var\"#19#23\"(Core.Box(Main.Nodosus.var\"#19#23\"(#= circular reference @-2 =#)))), 0x000000000000693b)\n",
      "db/linckii/~keab/data/67/meter_effect.db: MethodError(isless, (601000 milliseconds, Main.Nodosus.var\"#19#23\"(Core.Box(Main.Nodosus.var\"#19#23\"(#= circular reference @-2 =#)))), 0x000000000000693b)\n",
      "db/linckii/~keab/data/67/meter_primreturntemp.db: MethodError(isless, (601000 milliseconds, Main.Nodosus.var\"#19#23\"(Core.Box(Main.Nodosus.var\"#19#23\"(#= circular reference @-2 =#)))), 0x000000000000693b)\n",
      "db/linckii/~keab/data/67/meter_primsupplytemp.db: MethodError(isless, (601000 milliseconds, Main.Nodosus.var\"#19#23\"(Core.Box(Main.Nodosus.var\"#19#23\"(#= circular reference @-2 =#)))), 0x000000000000693b)\n",
      "db/linckii/~keab/data/67/meter_volumeflow.db: MethodError(isless, (601000 milliseconds, Main.Nodosus.var\"#19#23\"(Core.Box(Main.Nodosus.var\"#19#23\"(#= circular reference @-2 =#)))), 0x000000000000693b)\n",
      "db/linckii/~keab/data/68/meter_effect.db: MethodError(isless, (600000 milliseconds, Main.Nodosus.var\"#19#23\"(Core.Box(Main.Nodosus.var\"#19#23\"(#= circular reference @-2 =#)))), 0x000000000000693b)\n",
      "db/linckii/~keab/data/68/meter_primreturntemp.db: MethodError(isless, (600000 milliseconds, Main.Nodosus.var\"#19#23\"(Core.Box(Main.Nodosus.var\"#19#23\"(#= circular reference @-2 =#)))), 0x000000000000693b)\n",
      "db/linckii/~keab/data/68/meter_primsupplytemp.db: MethodError(isless, (600000 milliseconds, Main.Nodosus.var\"#19#23\"(Core.Box(Main.Nodosus.var\"#19#23\"(#= circular reference @-2 =#)))), 0x000000000000693b)\n",
      "db/linckii/~keab/data/68/meter_volumeflow.db: MethodError(isless, (600000 milliseconds, Main.Nodosus.var\"#19#23\"(Core.Box(Main.Nodosus.var\"#19#23\"(#= circular reference @-2 =#)))), 0x000000000000693b)\n",
      "db/linckii/~keab/data/69/meter_effect.db: ErrorException(\"db/linckii/~keab/data/69/meter_effect.db is not a file or directory\")\n",
      "db/linckii/~keab/data/69/meter_primreturntemp.db: ErrorException(\"db/linckii/~keab/data/69/meter_primreturntemp.db is not a file or directory\")\n",
      "db/linckii/~keab/data/69/meter_primsupplytemp.db: ErrorException(\"db/linckii/~keab/data/69/meter_primsupplytemp.db is not a file or directory\")\n",
      "db/linckii/~keab/data/69/meter_volumeflow.db: ErrorException(\"db/linckii/~keab/data/69/meter_volumeflow.db is not a file or directory\")\n",
      "db/linckii/~keab/data/70/meter_effect.db: MethodError(isless, (601000 milliseconds, Main.Nodosus.var\"#19#23\"(Core.Box(Main.Nodosus.var\"#19#23\"(#= circular reference @-2 =#)))), 0x000000000000693b)\n",
      "db/linckii/~keab/data/70/meter_primreturntemp.db: MethodError(isless, (601000 milliseconds, Main.Nodosus.var\"#19#23\"(Core.Box(Main.Nodosus.var\"#19#23\"(#= circular reference @-2 =#)))), 0x000000000000693b)\n",
      "db/linckii/~keab/data/70/meter_primsupplytemp.db: MethodError(isless, (601000 milliseconds, Main.Nodosus.var\"#19#23\"(Core.Box(Main.Nodosus.var\"#19#23\"(#= circular reference @-2 =#)))), 0x000000000000693b)\n",
      "db/linckii/~keab/data/70/meter_volumeflow.db: MethodError(isless, (601000 milliseconds, Main.Nodosus.var\"#19#23\"(Core.Box(Main.Nodosus.var\"#19#23\"(#= circular reference @-2 =#)))), 0x000000000000693b)\n",
      "db/linckii/~keab/data/71/meter_effect.db: MethodError(isless, (601000 milliseconds, Main.Nodosus.var\"#19#23\"(Core.Box(Main.Nodosus.var\"#19#23\"(#= circular reference @-2 =#)))), 0x000000000000693b)\n",
      "db/linckii/~keab/data/71/meter_primreturntemp.db: MethodError(isless, (601000 milliseconds, Main.Nodosus.var\"#19#23\"(Core.Box(Main.Nodosus.var\"#19#23\"(#= circular reference @-2 =#)))), 0x000000000000693b)\n",
      "db/linckii/~keab/data/71/meter_primsupplytemp.db: MethodError(isless, (601000 milliseconds, Main.Nodosus.var\"#19#23\"(Core.Box(Main.Nodosus.var\"#19#23\"(#= circular reference @-2 =#)))), 0x000000000000693b)\n",
      "db/linckii/~keab/data/71/meter_volumeflow.db: MethodError(isless, (601000 milliseconds, Main.Nodosus.var\"#19#23\"(Core.Box(Main.Nodosus.var\"#19#23\"(#= circular reference @-2 =#)))), 0x000000000000693b)\n",
      "db/linckii/~keab/data/72/meter_effect.db: MethodError(isless, (599000 milliseconds, Main.Nodosus.var\"#19#23\"(Core.Box(Main.Nodosus.var\"#19#23\"(#= circular reference @-2 =#)))), 0x000000000000693b)\n",
      "db/linckii/~keab/data/72/meter_primreturntemp.db: MethodError(isless, (599000 milliseconds, Main.Nodosus.var\"#19#23\"(Core.Box(Main.Nodosus.var\"#19#23\"(#= circular reference @-2 =#)))), 0x000000000000693b)\n",
      "db/linckii/~keab/data/72/meter_primsupplytemp.db: MethodError(isless, (599000 milliseconds, Main.Nodosus.var\"#19#23\"(Core.Box(Main.Nodosus.var\"#19#23\"(#= circular reference @-2 =#)))), 0x000000000000693b)\n",
      "db/linckii/~keab/data/72/meter_volumeflow.db: MethodError(isless, (599000 milliseconds, Main.Nodosus.var\"#19#23\"(Core.Box(Main.Nodosus.var\"#19#23\"(#= circular reference @-2 =#)))), 0x000000000000693b)\n",
      "db/linckii/~keab/data/74/meter_effect.db: ErrorException(\"db/linckii/~keab/data/74/meter_effect.db is not a file or directory\")\n",
      "db/linckii/~keab/data/74/meter_primreturntemp.db: MethodError(isless, (599000 milliseconds, Main.Nodosus.var\"#19#23\"(Core.Box(Main.Nodosus.var\"#19#23\"(#= circular reference @-2 =#)))), 0x000000000000693b)\n",
      "db/linckii/~keab/data/74/meter_primsupplytemp.db: MethodError(isless, (599000 milliseconds, Main.Nodosus.var\"#19#23\"(Core.Box(Main.Nodosus.var\"#19#23\"(#= circular reference @-2 =#)))), 0x000000000000693b)\n",
      "db/linckii/~keab/data/74/meter_volumeflow.db: MethodError(isless, (599000 milliseconds, Main.Nodosus.var\"#19#23\"(Core.Box(Main.Nodosus.var\"#19#23\"(#= circular reference @-2 =#)))), 0x000000000000693b)\n",
      "db/linckii/~keab/data/75/meter_effect.db: MethodError(isless, (601000 milliseconds, Main.Nodosus.var\"#19#23\"(Core.Box(Main.Nodosus.var\"#19#23\"(#= circular reference @-2 =#)))), 0x000000000000693b)\n",
      "db/linckii/~keab/data/75/meter_primreturntemp.db: MethodError(isless, (601000 milliseconds, Main.Nodosus.var\"#19#23\"(Core.Box(Main.Nodosus.var\"#19#23\"(#= circular reference @-2 =#)))), 0x000000000000693b)\n",
      "db/linckii/~keab/data/75/meter_primsupplytemp.db: MethodError(isless, (1201000 milliseconds, Main.Nodosus.var\"#19#23\"(Core.Box(Main.Nodosus.var\"#19#23\"(#= circular reference @-2 =#)))), 0x000000000000693b)\n",
      "db/linckii/~keab/data/75/meter_volumeflow.db: MethodError(isless, (601000 milliseconds, Main.Nodosus.var\"#19#23\"(Core.Box(Main.Nodosus.var\"#19#23\"(#= circular reference @-2 =#)))), 0x000000000000693b)\n",
      "db/linckii/~keab/data/76/meter_effect.db: MethodError(isless, (600000 milliseconds, Main.Nodosus.var\"#19#23\"(Core.Box(Main.Nodosus.var\"#19#23\"(#= circular reference @-2 =#)))), 0x000000000000693b)\n",
      "db/linckii/~keab/data/76/meter_primreturntemp.db: MethodError(isless, (600000 milliseconds, Main.Nodosus.var\"#19#23\"(Core.Box(Main.Nodosus.var\"#19#23\"(#= circular reference @-2 =#)))), 0x000000000000693b)\n",
      "db/linckii/~keab/data/76/meter_primsupplytemp.db: MethodError(isless, (600000 milliseconds, Main.Nodosus.var\"#19#23\"(Core.Box(Main.Nodosus.var\"#19#23\"(#= circular reference @-2 =#)))), 0x000000000000693b)\n",
      "db/linckii/~keab/data/76/meter_volumeflow.db: MethodError(isless, (600000 milliseconds, Main.Nodosus.var\"#19#23\"(Core.Box(Main.Nodosus.var\"#19#23\"(#= circular reference @-2 =#)))), 0x000000000000693b)\n",
      "db/linckii/~keab/data/77/meter_effect.db: ErrorException(\"db/linckii/~keab/data/77/meter_effect.db is not a file or directory\")\n",
      "db/linckii/~keab/data/77/meter_primreturntemp.db: ErrorException(\"db/linckii/~keab/data/77/meter_primreturntemp.db is not a file or directory\")\n",
      "db/linckii/~keab/data/77/meter_primsupplytemp.db: ErrorException(\"db/linckii/~keab/data/77/meter_primsupplytemp.db is not a file or directory\")\n",
      "db/linckii/~keab/data/77/meter_volumeflow.db: ErrorException(\"db/linckii/~keab/data/77/meter_volumeflow.db is not a file or directory\")\n",
      "db/linckii/~keab/data/78/meter_effect.db: MethodError(isless, (601000 milliseconds, Main.Nodosus.var\"#19#23\"(Core.Box(Main.Nodosus.var\"#19#23\"(#= circular reference @-2 =#)))), 0x000000000000693b)\n",
      "db/linckii/~keab/data/78/meter_primreturntemp.db: MethodError(isless, (601000 milliseconds, Main.Nodosus.var\"#19#23\"(Core.Box(Main.Nodosus.var\"#19#23\"(#= circular reference @-2 =#)))), 0x000000000000693b)\n",
      "db/linckii/~keab/data/78/meter_primsupplytemp.db: MethodError(isless, (601000 milliseconds, Main.Nodosus.var\"#19#23\"(Core.Box(Main.Nodosus.var\"#19#23\"(#= circular reference @-2 =#)))), 0x000000000000693b)\n",
      "db/linckii/~keab/data/78/meter_volumeflow.db: MethodError(isless, (601000 milliseconds, Main.Nodosus.var\"#19#23\"(Core.Box(Main.Nodosus.var\"#19#23\"(#= circular reference @-2 =#)))), 0x000000000000693b)\n",
      "db/linckii/~keab/data/79/meter_effect.db: MethodError(isless, (601000 milliseconds, Main.Nodosus.var\"#19#23\"(Core.Box(Main.Nodosus.var\"#19#23\"(#= circular reference @-2 =#)))), 0x000000000000693b)\n",
      "db/linckii/~keab/data/79/meter_primreturntemp.db: MethodError(isless, (601000 milliseconds, Main.Nodosus.var\"#19#23\"(Core.Box(Main.Nodosus.var\"#19#23\"(#= circular reference @-2 =#)))), 0x000000000000693b)\n",
      "db/linckii/~keab/data/79/meter_primsupplytemp.db: MethodError(isless, (6001000 milliseconds, Main.Nodosus.var\"#19#23\"(Core.Box(Main.Nodosus.var\"#19#23\"(#= circular reference @-2 =#)))), 0x000000000000693b)\n",
      "db/linckii/~keab/data/79/meter_volumeflow.db: MethodError(isless, (2400000 milliseconds, Main.Nodosus.var\"#19#23\"(Core.Box(Main.Nodosus.var\"#19#23\"(#= circular reference @-2 =#)))), 0x000000000000693b)\n",
      "db/linckii/~keab/data/80/meter_effect.db: MethodError(isless, (600000 milliseconds, Main.Nodosus.var\"#19#23\"(Core.Box(Main.Nodosus.var\"#19#23\"(#= circular reference @-2 =#)))), 0x000000000000693b)\n",
      "db/linckii/~keab/data/80/meter_primreturntemp.db: MethodError(isless, (600000 milliseconds, Main.Nodosus.var\"#19#23\"(Core.Box(Main.Nodosus.var\"#19#23\"(#= circular reference @-2 =#)))), 0x000000000000693b)\n",
      "db/linckii/~keab/data/80/meter_primsupplytemp.db: MethodError(isless, (600000 milliseconds, Main.Nodosus.var\"#19#23\"(Core.Box(Main.Nodosus.var\"#19#23\"(#= circular reference @-2 =#)))), 0x000000000000693b)\n",
      "db/linckii/~keab/data/80/meter_volumeflow.db: MethodError(isless, (600000 milliseconds, Main.Nodosus.var\"#19#23\"(Core.Box(Main.Nodosus.var\"#19#23\"(#= circular reference @-2 =#)))), 0x000000000000693b)\n",
      "db/linckii/~keab/data/81/meter_effect.db: MethodError(isless, (601000 milliseconds, Main.Nodosus.var\"#19#23\"(Core.Box(Main.Nodosus.var\"#19#23\"(#= circular reference @-2 =#)))), 0x000000000000693b)\n",
      "db/linckii/~keab/data/81/meter_primreturntemp.db: MethodError(isless, (601000 milliseconds, Main.Nodosus.var\"#19#23\"(Core.Box(Main.Nodosus.var\"#19#23\"(#= circular reference @-2 =#)))), 0x000000000000693b)\n",
      "db/linckii/~keab/data/81/meter_primsupplytemp.db: MethodError(isless, (601000 milliseconds, Main.Nodosus.var\"#19#23\"(Core.Box(Main.Nodosus.var\"#19#23\"(#= circular reference @-2 =#)))), 0x000000000000693b)\n",
      "db/linckii/~keab/data/81/meter_volumeflow.db: MethodError(isless, (1201000 milliseconds, Main.Nodosus.var\"#19#23\"(Core.Box(Main.Nodosus.var\"#19#23\"(#= circular reference @-2 =#)))), 0x000000000000693b)\n",
      "db/linckii/~keab/data/82/meter_effect.db: MethodError(isless, (601000 milliseconds, Main.Nodosus.var\"#19#23\"(Core.Box(Main.Nodosus.var\"#19#23\"(#= circular reference @-2 =#)))), 0x000000000000693b)\n",
      "db/linckii/~keab/data/82/meter_primreturntemp.db: MethodError(isless, (601000 milliseconds, Main.Nodosus.var\"#19#23\"(Core.Box(Main.Nodosus.var\"#19#23\"(#= circular reference @-2 =#)))), 0x000000000000693b)\n",
      "db/linckii/~keab/data/82/meter_primsupplytemp.db: MethodError(isless, (601000 milliseconds, Main.Nodosus.var\"#19#23\"(Core.Box(Main.Nodosus.var\"#19#23\"(#= circular reference @-2 =#)))), 0x000000000000693b)\n",
      "db/linckii/~keab/data/82/meter_volumeflow.db: MethodError(isless, (601000 milliseconds, Main.Nodosus.var\"#19#23\"(Core.Box(Main.Nodosus.var\"#19#23\"(#= circular reference @-2 =#)))), 0x000000000000693b)\n",
      "db/linckii/~keab/data/83/meter_effect.db: MethodError(isless, (601000 milliseconds, Main.Nodosus.var\"#19#23\"(Core.Box(Main.Nodosus.var\"#19#23\"(#= circular reference @-2 =#)))), 0x000000000000693b)\n",
      "db/linckii/~keab/data/83/meter_primreturntemp.db: MethodError(isless, (601000 milliseconds, Main.Nodosus.var\"#19#23\"(Core.Box(Main.Nodosus.var\"#19#23\"(#= circular reference @-2 =#)))), 0x000000000000693b)\n",
      "db/linckii/~keab/data/83/meter_primsupplytemp.db: MethodError(isless, (601000 milliseconds, Main.Nodosus.var\"#19#23\"(Core.Box(Main.Nodosus.var\"#19#23\"(#= circular reference @-2 =#)))), 0x000000000000693b)\n",
      "db/linckii/~keab/data/83/meter_volumeflow.db: MethodError(isless, (601000 milliseconds, Main.Nodosus.var\"#19#23\"(Core.Box(Main.Nodosus.var\"#19#23\"(#= circular reference @-2 =#)))), 0x000000000000693b)\n",
      "db/linckii/~keab/data/84/meter_effect.db: MethodError(isless, (608000 milliseconds, Main.Nodosus.var\"#19#23\"(Core.Box(Main.Nodosus.var\"#19#23\"(#= circular reference @-2 =#)))), 0x000000000000693b)\n",
      "db/linckii/~keab/data/84/meter_primreturntemp.db: MethodError(isless, (6000000 milliseconds, Main.Nodosus.var\"#19#23\"(Core.Box(Main.Nodosus.var\"#19#23\"(#= circular reference @-2 =#)))), 0x000000000000693b)\n",
      "db/linckii/~keab/data/84/meter_primsupplytemp.db: MethodError(isless, (608000 milliseconds, Main.Nodosus.var\"#19#23\"(Core.Box(Main.Nodosus.var\"#19#23\"(#= circular reference @-2 =#)))), 0x000000000000693b)\n",
      "db/linckii/~keab/data/84/meter_volumeflow.db: MethodError(isless, (32999000 milliseconds, Main.Nodosus.var\"#19#23\"(Core.Box(Main.Nodosus.var\"#19#23\"(#= circular reference @-2 =#)))), 0x000000000000693b)\n",
      "db/linckii/~keab/data/85/meter_effect.db: MethodError(isless, (601000 milliseconds, Main.Nodosus.var\"#19#23\"(Core.Box(Main.Nodosus.var\"#19#23\"(#= circular reference @-2 =#)))), 0x000000000000693b)\n",
      "db/linckii/~keab/data/85/meter_primreturntemp.db: MethodError(isless, (601000 milliseconds, Main.Nodosus.var\"#19#23\"(Core.Box(Main.Nodosus.var\"#19#23\"(#= circular reference @-2 =#)))), 0x000000000000693b)\n",
      "db/linckii/~keab/data/85/meter_primsupplytemp.db: MethodError(isless, (601000 milliseconds, Main.Nodosus.var\"#19#23\"(Core.Box(Main.Nodosus.var\"#19#23\"(#= circular reference @-2 =#)))), 0x000000000000693b)\n",
      "db/linckii/~keab/data/85/meter_volumeflow.db: MethodError(isless, (601000 milliseconds, Main.Nodosus.var\"#19#23\"(Core.Box(Main.Nodosus.var\"#19#23\"(#= circular reference @-2 =#)))), 0x000000000000693b)\n",
      "db/linckii/~keab/data/86/meter_effect.db: MethodError(isless, (600000 milliseconds, Main.Nodosus.var\"#19#23\"(Core.Box(Main.Nodosus.var\"#19#23\"(#= circular reference @-2 =#)))), 0x000000000000693b)\n",
      "db/linckii/~keab/data/86/meter_primreturntemp.db: MethodError(isless, (600000 milliseconds, Main.Nodosus.var\"#19#23\"(Core.Box(Main.Nodosus.var\"#19#23\"(#= circular reference @-2 =#)))), 0x000000000000693b)\n",
      "db/linckii/~keab/data/86/meter_primsupplytemp.db: MethodError(isless, (600000 milliseconds, Main.Nodosus.var\"#19#23\"(Core.Box(Main.Nodosus.var\"#19#23\"(#= circular reference @-2 =#)))), 0x000000000000693b)\n",
      "db/linckii/~keab/data/86/meter_volumeflow.db: MethodError(isless, (600000 milliseconds, Main.Nodosus.var\"#19#23\"(Core.Box(Main.Nodosus.var\"#19#23\"(#= circular reference @-2 =#)))), 0x000000000000693b)\n",
      "db/linckii/~keab/data/87/meter_effect.db: ErrorException(\"db/linckii/~keab/data/87/meter_effect.db is not a file or directory\")\n",
      "db/linckii/~keab/data/87/meter_primreturntemp.db: MethodError(isless, (600000 milliseconds, Main.Nodosus.var\"#19#23\"(Core.Box(Main.Nodosus.var\"#19#23\"(#= circular reference @-2 =#)))), 0x000000000000693b)\n",
      "db/linckii/~keab/data/87/meter_primsupplytemp.db: MethodError(isless, (600000 milliseconds, Main.Nodosus.var\"#19#23\"(Core.Box(Main.Nodosus.var\"#19#23\"(#= circular reference @-2 =#)))), 0x000000000000693b)\n",
      "db/linckii/~keab/data/87/meter_volumeflow.db: MethodError(isless, (600000 milliseconds, Main.Nodosus.var\"#19#23\"(Core.Box(Main.Nodosus.var\"#19#23\"(#= circular reference @-2 =#)))), 0x000000000000693b)\n",
      "db/linckii/~keab/data/88/meter_effect.db: MethodError(isless, (600000 milliseconds, Main.Nodosus.var\"#19#23\"(Core.Box(Main.Nodosus.var\"#19#23\"(#= circular reference @-2 =#)))), 0x000000000000693b)\n",
      "db/linckii/~keab/data/88/meter_primreturntemp.db: MethodError(isless, (6600000 milliseconds, Main.Nodosus.var\"#19#23\"(Core.Box(Main.Nodosus.var\"#19#23\"(#= circular reference @-2 =#)))), 0x000000000000693b)\n",
      "db/linckii/~keab/data/88/meter_primsupplytemp.db: MethodError(isless, (600000 milliseconds, Main.Nodosus.var\"#19#23\"(Core.Box(Main.Nodosus.var\"#19#23\"(#= circular reference @-2 =#)))), 0x000000000000693b)\n",
      "db/linckii/~keab/data/88/meter_volumeflow.db: ErrorException(\"db/linckii/~keab/data/88/meter_volumeflow.db is not a file or directory\")\n",
      "db/linckii/~keab/data/89/meter_effect.db: MethodError(isless, (600000 milliseconds, Main.Nodosus.var\"#19#23\"(Core.Box(Main.Nodosus.var\"#19#23\"(#= circular reference @-2 =#)))), 0x000000000000693b)\n",
      "db/linckii/~keab/data/89/meter_primreturntemp.db: MethodError(isless, (600000 milliseconds, Main.Nodosus.var\"#19#23\"(Core.Box(Main.Nodosus.var\"#19#23\"(#= circular reference @-2 =#)))), 0x000000000000693b)\n",
      "db/linckii/~keab/data/89/meter_primsupplytemp.db: MethodError(isless, (600000 milliseconds, Main.Nodosus.var\"#19#23\"(Core.Box(Main.Nodosus.var\"#19#23\"(#= circular reference @-2 =#)))), 0x000000000000693b)\n",
      "db/linckii/~keab/data/89/meter_volumeflow.db: MethodError(isless, (600000 milliseconds, Main.Nodosus.var\"#19#23\"(Core.Box(Main.Nodosus.var\"#19#23\"(#= circular reference @-2 =#)))), 0x000000000000693b)\n",
      "db/linckii/~keab/data/90/meter_effect.db: ErrorException(\"db/linckii/~keab/data/90/meter_effect.db is not a file or directory\")\n",
      "db/linckii/~keab/data/90/meter_primreturntemp.db: ErrorException(\"db/linckii/~keab/data/90/meter_primreturntemp.db is not a file or directory\")\n",
      "db/linckii/~keab/data/90/meter_primsupplytemp.db: ErrorException(\"db/linckii/~keab/data/90/meter_primsupplytemp.db is not a file or directory\")\n",
      "db/linckii/~keab/data/90/meter_volumeflow.db: ErrorException(\"db/linckii/~keab/data/90/meter_volumeflow.db is not a file or directory\")\n",
      "db/linckii/~keab/data/91/meter_effect.db: MethodError(isless, (601000 milliseconds, Main.Nodosus.var\"#19#23\"(Core.Box(Main.Nodosus.var\"#19#23\"(#= circular reference @-2 =#)))), 0x000000000000693b)\n",
      "db/linckii/~keab/data/91/meter_primreturntemp.db: MethodError(isless, (601000 milliseconds, Main.Nodosus.var\"#19#23\"(Core.Box(Main.Nodosus.var\"#19#23\"(#= circular reference @-2 =#)))), 0x000000000000693b)\n",
      "db/linckii/~keab/data/91/meter_primsupplytemp.db: MethodError(isless, (601000 milliseconds, Main.Nodosus.var\"#19#23\"(Core.Box(Main.Nodosus.var\"#19#23\"(#= circular reference @-2 =#)))), 0x000000000000693b)\n",
      "db/linckii/~keab/data/91/meter_volumeflow.db: MethodError(isless, (601000 milliseconds, Main.Nodosus.var\"#19#23\"(Core.Box(Main.Nodosus.var\"#19#23\"(#= circular reference @-2 =#)))), 0x000000000000693b)\n",
      "db/linckii/~keab/data/92/meter_effect.db: MethodError(isless, (600000 milliseconds, Main.Nodosus.var\"#19#23\"(Core.Box(Main.Nodosus.var\"#19#23\"(#= circular reference @-2 =#)))), 0x000000000000693b)\n",
      "db/linckii/~keab/data/92/meter_primreturntemp.db: MethodError(isless, (600000 milliseconds, Main.Nodosus.var\"#19#23\"(Core.Box(Main.Nodosus.var\"#19#23\"(#= circular reference @-2 =#)))), 0x000000000000693b)\n",
      "db/linckii/~keab/data/92/meter_primsupplytemp.db: MethodError(isless, (600000 milliseconds, Main.Nodosus.var\"#19#23\"(Core.Box(Main.Nodosus.var\"#19#23\"(#= circular reference @-2 =#)))), 0x000000000000693b)\n",
      "db/linckii/~keab/data/92/meter_volumeflow.db: MethodError(isless, (600000 milliseconds, Main.Nodosus.var\"#19#23\"(Core.Box(Main.Nodosus.var\"#19#23\"(#= circular reference @-2 =#)))), 0x000000000000693b)\n",
      "db/linckii/~keab/data/93/meter_effect.db: MethodError(isless, (600000 milliseconds, Main.Nodosus.var\"#19#23\"(Core.Box(Main.Nodosus.var\"#19#23\"(#= circular reference @-2 =#)))), 0x000000000000693b)\n",
      "db/linckii/~keab/data/93/meter_primreturntemp.db: MethodError(isless, (600000 milliseconds, Main.Nodosus.var\"#19#23\"(Core.Box(Main.Nodosus.var\"#19#23\"(#= circular reference @-2 =#)))), 0x000000000000693b)\n",
      "db/linckii/~keab/data/93/meter_primsupplytemp.db: MethodError(isless, (3007000 milliseconds, Main.Nodosus.var\"#19#23\"(Core.Box(Main.Nodosus.var\"#19#23\"(#= circular reference @-2 =#)))), 0x000000000000693b)\n",
      "db/linckii/~keab/data/93/meter_volumeflow.db: MethodError(isless, (1200000 milliseconds, Main.Nodosus.var\"#19#23\"(Core.Box(Main.Nodosus.var\"#19#23\"(#= circular reference @-2 =#)))), 0x000000000000693b)\n",
      "db/linckii/~keab/data/94/meter_effect.db: MethodError(isless, (599000 milliseconds, Main.Nodosus.var\"#19#23\"(Core.Box(Main.Nodosus.var\"#19#23\"(#= circular reference @-2 =#)))), 0x000000000000693b)\n",
      "db/linckii/~keab/data/94/meter_primreturntemp.db: MethodError(isless, (599000 milliseconds, Main.Nodosus.var\"#19#23\"(Core.Box(Main.Nodosus.var\"#19#23\"(#= circular reference @-2 =#)))), 0x000000000000693b)\n",
      "db/linckii/~keab/data/94/meter_primsupplytemp.db: MethodError(isless, (599000 milliseconds, Main.Nodosus.var\"#19#23\"(Core.Box(Main.Nodosus.var\"#19#23\"(#= circular reference @-2 =#)))), 0x000000000000693b)\n",
      "db/linckii/~keab/data/94/meter_volumeflow.db: MethodError(isless, (599000 milliseconds, Main.Nodosus.var\"#19#23\"(Core.Box(Main.Nodosus.var\"#19#23\"(#= circular reference @-2 =#)))), 0x000000000000693b)\n",
      "db/linckii/~keab/data/95/meter_effect.db: MethodError(isless, (601000 milliseconds, Main.Nodosus.var\"#19#23\"(Core.Box(Main.Nodosus.var\"#19#23\"(#= circular reference @-2 =#)))), 0x000000000000693b)\n",
      "db/linckii/~keab/data/95/meter_primreturntemp.db: MethodError(isless, (601000 milliseconds, Main.Nodosus.var\"#19#23\"(Core.Box(Main.Nodosus.var\"#19#23\"(#= circular reference @-2 =#)))), 0x000000000000693b)\n",
      "db/linckii/~keab/data/95/meter_primsupplytemp.db: MethodError(isless, (601000 milliseconds, Main.Nodosus.var\"#19#23\"(Core.Box(Main.Nodosus.var\"#19#23\"(#= circular reference @-2 =#)))), 0x000000000000693b)\n",
      "db/linckii/~keab/data/95/meter_volumeflow.db: MethodError(isless, (601000 milliseconds, Main.Nodosus.var\"#19#23\"(Core.Box(Main.Nodosus.var\"#19#23\"(#= circular reference @-2 =#)))), 0x000000000000693b)\n",
      "db/linckii/~keab/data/96/meter_effect.db: MethodError(isless, (601000 milliseconds, Main.Nodosus.var\"#19#23\"(Core.Box(Main.Nodosus.var\"#19#23\"(#= circular reference @-2 =#)))), 0x000000000000693b)\n",
      "db/linckii/~keab/data/96/meter_primreturntemp.db: MethodError(isless, (601000 milliseconds, Main.Nodosus.var\"#19#23\"(Core.Box(Main.Nodosus.var\"#19#23\"(#= circular reference @-2 =#)))), 0x000000000000693b)\n",
      "db/linckii/~keab/data/96/meter_primsupplytemp.db: MethodError(isless, (601000 milliseconds, Main.Nodosus.var\"#19#23\"(Core.Box(Main.Nodosus.var\"#19#23\"(#= circular reference @-2 =#)))), 0x000000000000693b)\n",
      "db/linckii/~keab/data/96/meter_volumeflow.db: MethodError(isless, (601000 milliseconds, Main.Nodosus.var\"#19#23\"(Core.Box(Main.Nodosus.var\"#19#23\"(#= circular reference @-2 =#)))), 0x000000000000693b)\n",
      "db/linckii/~keab/data/97/meter_effect.db: MethodError(isless, (600000 milliseconds, Main.Nodosus.var\"#19#23\"(Core.Box(Main.Nodosus.var\"#19#23\"(#= circular reference @-2 =#)))), 0x000000000000693b)\n",
      "db/linckii/~keab/data/97/meter_primreturntemp.db: MethodError(isless, (1200000 milliseconds, Main.Nodosus.var\"#19#23\"(Core.Box(Main.Nodosus.var\"#19#23\"(#= circular reference @-2 =#)))), 0x000000000000693b)\n",
      "db/linckii/~keab/data/97/meter_primsupplytemp.db: MethodError(isless, (600000 milliseconds, Main.Nodosus.var\"#19#23\"(Core.Box(Main.Nodosus.var\"#19#23\"(#= circular reference @-2 =#)))), 0x000000000000693b)\n",
      "db/linckii/~keab/data/97/meter_volumeflow.db: MethodError(isless, (600000 milliseconds, Main.Nodosus.var\"#19#23\"(Core.Box(Main.Nodosus.var\"#19#23\"(#= circular reference @-2 =#)))), 0x000000000000693b)\n",
      "db/linckii/~keab/data/98/meter_effect.db: MethodError(isless, (600000 milliseconds, Main.Nodosus.var\"#19#23\"(Core.Box(Main.Nodosus.var\"#19#23\"(#= circular reference @-2 =#)))), 0x000000000000693b)\n",
      "db/linckii/~keab/data/98/meter_primreturntemp.db: MethodError(isless, (600000 milliseconds, Main.Nodosus.var\"#19#23\"(Core.Box(Main.Nodosus.var\"#19#23\"(#= circular reference @-2 =#)))), 0x000000000000693b)\n",
      "db/linckii/~keab/data/98/meter_primsupplytemp.db: MethodError(isless, (600000 milliseconds, Main.Nodosus.var\"#19#23\"(Core.Box(Main.Nodosus.var\"#19#23\"(#= circular reference @-2 =#)))), 0x000000000000693b)\n",
      "db/linckii/~keab/data/98/meter_volumeflow.db: MethodError(isless, (600000 milliseconds, Main.Nodosus.var\"#19#23\"(Core.Box(Main.Nodosus.var\"#19#23\"(#= circular reference @-2 =#)))), 0x000000000000693b)\n",
      "db/linckii/~keab/data/99/meter_effect.db: MethodError(isless, (600000 milliseconds, Main.Nodosus.var\"#19#23\"(Core.Box(Main.Nodosus.var\"#19#23\"(#= circular reference @-2 =#)))), 0x000000000000693b)\n",
      "db/linckii/~keab/data/99/meter_primreturntemp.db: MethodError(isless, (600000 milliseconds, Main.Nodosus.var\"#19#23\"(Core.Box(Main.Nodosus.var\"#19#23\"(#= circular reference @-2 =#)))), 0x000000000000693b)\n",
      "db/linckii/~keab/data/99/meter_primsupplytemp.db: MethodError(isless, (600000 milliseconds, Main.Nodosus.var\"#19#23\"(Core.Box(Main.Nodosus.var\"#19#23\"(#= circular reference @-2 =#)))), 0x000000000000693b)\n",
      "db/linckii/~keab/data/99/meter_volumeflow.db: MethodError(isless, (600000 milliseconds, Main.Nodosus.var\"#19#23\"(Core.Box(Main.Nodosus.var\"#19#23\"(#= circular reference @-2 =#)))), 0x000000000000693b)\n",
      "db/linckii/~keab/data/100/meter_effect.db: MethodError(isless, (601000 milliseconds, Main.Nodosus.var\"#19#23\"(Core.Box(Main.Nodosus.var\"#19#23\"(#= circular reference @-2 =#)))), 0x000000000000693b)\n",
      "db/linckii/~keab/data/100/meter_primreturntemp.db: MethodError(isless, (601000 milliseconds, Main.Nodosus.var\"#19#23\"(Core.Box(Main.Nodosus.var\"#19#23\"(#= circular reference @-2 =#)))), 0x000000000000693b)\n",
      "db/linckii/~keab/data/100/meter_primsupplytemp.db: MethodError(isless, (3600000 milliseconds, Main.Nodosus.var\"#19#23\"(Core.Box(Main.Nodosus.var\"#19#23\"(#= circular reference @-2 =#)))), 0x000000000000693b)\n",
      "db/linckii/~keab/data/100/meter_volumeflow.db: MethodError(isless, (6600000 milliseconds, Main.Nodosus.var\"#19#23\"(Core.Box(Main.Nodosus.var\"#19#23\"(#= circular reference @-2 =#)))), 0x000000000000693b)\n",
      "db/linckii/~keab/data/101/meter_effect.db: MethodError(isless, (601000 milliseconds, Main.Nodosus.var\"#19#23\"(Core.Box(Main.Nodosus.var\"#19#23\"(#= circular reference @-2 =#)))), 0x000000000000693b)\n",
      "db/linckii/~keab/data/101/meter_primreturntemp.db: MethodError(isless, (601000 milliseconds, Main.Nodosus.var\"#19#23\"(Core.Box(Main.Nodosus.var\"#19#23\"(#= circular reference @-2 =#)))), 0x000000000000693b)\n",
      "db/linckii/~keab/data/101/meter_primsupplytemp.db: MethodError(isless, (601000 milliseconds, Main.Nodosus.var\"#19#23\"(Core.Box(Main.Nodosus.var\"#19#23\"(#= circular reference @-2 =#)))), 0x000000000000693b)\n",
      "db/linckii/~keab/data/101/meter_volumeflow.db: MethodError(isless, (601000 milliseconds, Main.Nodosus.var\"#19#23\"(Core.Box(Main.Nodosus.var\"#19#23\"(#= circular reference @-2 =#)))), 0x000000000000693b)\n",
      "db/linckii/~keab/data/102/meter_effect.db: MethodError(isless, (1199000 milliseconds, Main.Nodosus.var\"#19#23\"(Core.Box(Main.Nodosus.var\"#19#23\"(#= circular reference @-2 =#)))), 0x000000000000693b)\n",
      "db/linckii/~keab/data/102/meter_primreturntemp.db: MethodError(isless, (600000 milliseconds, Main.Nodosus.var\"#19#23\"(Core.Box(Main.Nodosus.var\"#19#23\"(#= circular reference @-2 =#)))), 0x000000000000693b)\n",
      "db/linckii/~keab/data/102/meter_primsupplytemp.db: MethodError(isless, (600000 milliseconds, Main.Nodosus.var\"#19#23\"(Core.Box(Main.Nodosus.var\"#19#23\"(#= circular reference @-2 =#)))), 0x000000000000693b)\n",
      "db/linckii/~keab/data/102/meter_volumeflow.db: MethodError(isless, (600000 milliseconds, Main.Nodosus.var\"#19#23\"(Core.Box(Main.Nodosus.var\"#19#23\"(#= circular reference @-2 =#)))), 0x000000000000693b)\n",
      "db/linckii/~keab/data/103/meter_effect.db: ErrorException(\"db/linckii/~keab/data/103/meter_effect.db is not a file or directory\")\n",
      "db/linckii/~keab/data/103/meter_primreturntemp.db: MethodError(isless, (600000 milliseconds, Main.Nodosus.var\"#19#23\"(Core.Box(Main.Nodosus.var\"#19#23\"(#= circular reference @-2 =#)))), 0x000000000000693b)\n",
      "db/linckii/~keab/data/103/meter_primsupplytemp.db: MethodError(isless, (600000 milliseconds, Main.Nodosus.var\"#19#23\"(Core.Box(Main.Nodosus.var\"#19#23\"(#= circular reference @-2 =#)))), 0x000000000000693b)\n",
      "db/linckii/~keab/data/103/meter_volumeflow.db: MethodError(isless, (600000 milliseconds, Main.Nodosus.var\"#19#23\"(Core.Box(Main.Nodosus.var\"#19#23\"(#= circular reference @-2 =#)))), 0x000000000000693b)\n",
      "db/linckii/~keab/data/104/meter_effect.db: MethodError(isless, (601000 milliseconds, Main.Nodosus.var\"#19#23\"(Core.Box(Main.Nodosus.var\"#19#23\"(#= circular reference @-2 =#)))), 0x000000000000693b)\n",
      "db/linckii/~keab/data/104/meter_primreturntemp.db: MethodError(isless, (601000 milliseconds, Main.Nodosus.var\"#19#23\"(Core.Box(Main.Nodosus.var\"#19#23\"(#= circular reference @-2 =#)))), 0x000000000000693b)\n",
      "db/linckii/~keab/data/104/meter_primsupplytemp.db: MethodError(isless, (601000 milliseconds, Main.Nodosus.var\"#19#23\"(Core.Box(Main.Nodosus.var\"#19#23\"(#= circular reference @-2 =#)))), 0x000000000000693b)\n",
      "db/linckii/~keab/data/104/meter_volumeflow.db: MethodError(isless, (601000 milliseconds, Main.Nodosus.var\"#19#23\"(Core.Box(Main.Nodosus.var\"#19#23\"(#= circular reference @-2 =#)))), 0x000000000000693b)\n",
      "db/linckii/~keab/data/105/meter_effect.db: MethodError(isless, (600000 milliseconds, Main.Nodosus.var\"#19#23\"(Core.Box(Main.Nodosus.var\"#19#23\"(#= circular reference @-2 =#)))), 0x000000000000693b)\n",
      "db/linckii/~keab/data/105/meter_primreturntemp.db: MethodError(isless, (1799000 milliseconds, Main.Nodosus.var\"#19#23\"(Core.Box(Main.Nodosus.var\"#19#23\"(#= circular reference @-2 =#)))), 0x000000000000693b)\n",
      "db/linckii/~keab/data/105/meter_primsupplytemp.db: MethodError(isless, (600000 milliseconds, Main.Nodosus.var\"#19#23\"(Core.Box(Main.Nodosus.var\"#19#23\"(#= circular reference @-2 =#)))), 0x000000000000693b)\n",
      "db/linckii/~keab/data/105/meter_volumeflow.db: MethodError(isless, (600000 milliseconds, Main.Nodosus.var\"#19#23\"(Core.Box(Main.Nodosus.var\"#19#23\"(#= circular reference @-2 =#)))), 0x000000000000693b)\n",
      "db/linckii/~keab/data/106/meter_effect.db: MethodError(isless, (1201000 milliseconds, Main.Nodosus.var\"#19#23\"(Core.Box(Main.Nodosus.var\"#19#23\"(#= circular reference @-2 =#)))), 0x000000000000693b)\n",
      "db/linckii/~keab/data/106/meter_primreturntemp.db: MethodError(isless, (1201000 milliseconds, Main.Nodosus.var\"#19#23\"(Core.Box(Main.Nodosus.var\"#19#23\"(#= circular reference @-2 =#)))), 0x000000000000693b)\n",
      "db/linckii/~keab/data/106/meter_primsupplytemp.db: MethodError(isless, (1201000 milliseconds, Main.Nodosus.var\"#19#23\"(Core.Box(Main.Nodosus.var\"#19#23\"(#= circular reference @-2 =#)))), 0x000000000000693b)\n",
      "db/linckii/~keab/data/106/meter_volumeflow.db: MethodError(isless, (1201000 milliseconds, Main.Nodosus.var\"#19#23\"(Core.Box(Main.Nodosus.var\"#19#23\"(#= circular reference @-2 =#)))), 0x000000000000693b)\n",
      "db/linckii/~keab/data/107/meter_effect.db: MethodError(isless, (601000 milliseconds, Main.Nodosus.var\"#19#23\"(Core.Box(Main.Nodosus.var\"#19#23\"(#= circular reference @-2 =#)))), 0x000000000000693b)\n",
      "db/linckii/~keab/data/107/meter_primreturntemp.db: MethodError(isless, (601000 milliseconds, Main.Nodosus.var\"#19#23\"(Core.Box(Main.Nodosus.var\"#19#23\"(#= circular reference @-2 =#)))), 0x000000000000693b)\n",
      "db/linckii/~keab/data/107/meter_primsupplytemp.db: MethodError(isless, (1200000 milliseconds, Main.Nodosus.var\"#19#23\"(Core.Box(Main.Nodosus.var\"#19#23\"(#= circular reference @-2 =#)))), 0x000000000000693b)\n",
      "db/linckii/~keab/data/107/meter_volumeflow.db: MethodError(isless, (601000 milliseconds, Main.Nodosus.var\"#19#23\"(Core.Box(Main.Nodosus.var\"#19#23\"(#= circular reference @-2 =#)))), 0x000000000000693b)\n",
      "db/linckii/~keab/data/108/meter_effect.db: MethodError(isless, (600000 milliseconds, Main.Nodosus.var\"#19#23\"(Core.Box(Main.Nodosus.var\"#19#23\"(#= circular reference @-2 =#)))), 0x000000000000693b)\n",
      "db/linckii/~keab/data/108/meter_primreturntemp.db: MethodError(isless, (600000 milliseconds, Main.Nodosus.var\"#19#23\"(Core.Box(Main.Nodosus.var\"#19#23\"(#= circular reference @-2 =#)))), 0x000000000000693b)\n",
      "db/linckii/~keab/data/108/meter_primsupplytemp.db: MethodError(isless, (600000 milliseconds, Main.Nodosus.var\"#19#23\"(Core.Box(Main.Nodosus.var\"#19#23\"(#= circular reference @-2 =#)))), 0x000000000000693b)\n",
      "db/linckii/~keab/data/108/meter_volumeflow.db: MethodError(isless, (601000 milliseconds, Main.Nodosus.var\"#19#23\"(Core.Box(Main.Nodosus.var\"#19#23\"(#= circular reference @-2 =#)))), 0x000000000000693b)\n",
      "db/linckii/~keab/data/109/meter_effect.db: ErrorException(\"db/linckii/~keab/data/109/meter_effect.db is not a file or directory\")\n",
      "db/linckii/~keab/data/109/meter_primreturntemp.db: ErrorException(\"db/linckii/~keab/data/109/meter_primreturntemp.db is not a file or directory\")\n",
      "db/linckii/~keab/data/109/meter_primsupplytemp.db: ErrorException(\"db/linckii/~keab/data/109/meter_primsupplytemp.db is not a file or directory\")\n",
      "db/linckii/~keab/data/109/meter_volumeflow.db: ErrorException(\"db/linckii/~keab/data/109/meter_volumeflow.db is not a file or directory\")\n",
      "db/linckii/~keab/data/111/meter_effect.db: ErrorException(\"db/linckii/~keab/data/111/meter_effect.db is not a file or directory\")\n",
      "db/linckii/~keab/data/111/meter_primreturntemp.db: ErrorException(\"db/linckii/~keab/data/111/meter_primreturntemp.db is not a file or directory\")\n",
      "db/linckii/~keab/data/111/meter_primsupplytemp.db: ErrorException(\"db/linckii/~keab/data/111/meter_primsupplytemp.db is not a file or directory\")\n",
      "db/linckii/~keab/data/111/meter_volumeflow.db: ErrorException(\"db/linckii/~keab/data/111/meter_volumeflow.db is not a file or directory\")\n",
      "db/linckii/~keab/data/211/meter_effect.db: ErrorException(\"db/linckii/~keab/data/211/meter_effect.db is not a file or directory\")\n",
      "db/linckii/~keab/data/211/meter_volumeflow.db: ErrorException(\"column node_id not found.\")\n",
      "db/linckii/~keab/data/212/meter_effect.db: ErrorException(\"db/linckii/~keab/data/212/meter_effect.db is not a file or directory\")\n",
      "db/linckii/~keab/data/212/meter_volumeflow.db: ErrorException(\"db/linckii/~keab/data/212/meter_volumeflow.db is not a file or directory\")\n",
      "db/linckii/~keab/data/213/meter_effect.db: ErrorException(\"db/linckii/~keab/data/213/meter_effect.db is not a file or directory\")\n",
      "db/linckii/~keab/data/213/meter_volumeflow.db: ErrorException(\"db/linckii/~keab/data/213/meter_volumeflow.db is not a file or directory\")\n",
      "db/linckii/~keab/data/214/meter_effect.db: ErrorException(\"db/linckii/~keab/data/214/meter_effect.db is not a file or directory\")\n",
      "db/linckii/~keab/data/214/meter_volumeflow.db: ErrorException(\"db/linckii/~keab/data/214/meter_volumeflow.db is not a file or directory\")\n",
      "db/linckii/~keab/data/215/meter_effect.db: ErrorException(\"db/linckii/~keab/data/215/meter_effect.db is not a file or directory\")\n",
      "db/linckii/~keab/data/215/meter_volumeflow.db: ErrorException(\"db/linckii/~keab/data/215/meter_volumeflow.db is not a file or directory\")\n",
      "db/linckii/~keab/data/216/meter_effect.db: ErrorException(\"db/linckii/~keab/data/216/meter_effect.db is not a file or directory\")\n",
      "db/linckii/~keab/data/216/meter_volumeflow.db: ErrorException(\"db/linckii/~keab/data/216/meter_volumeflow.db is not a file or directory\")\n",
      "db/linckii/~keab/data/217/meter_effect.db: ErrorException(\"db/linckii/~keab/data/217/meter_effect.db is not a file or directory\")\n",
      "db/linckii/~keab/data/217/meter_volumeflow.db: ErrorException(\"db/linckii/~keab/data/217/meter_volumeflow.db is not a file or directory\")\n",
      "db/linckii/~keab/data/218/meter_effect.db: ErrorException(\"db/linckii/~keab/data/218/meter_effect.db is not a file or directory\")\n",
      "db/linckii/~keab/data/218/meter_volumeflow.db: ErrorException(\"db/linckii/~keab/data/218/meter_volumeflow.db is not a file or directory\")\n",
      "db/linckii/~keab/data/219/meter_effect.db: ErrorException(\"db/linckii/~keab/data/219/meter_effect.db is not a file or directory\")\n",
      "db/linckii/~keab/data/219/meter_volumeflow.db: ErrorException(\"db/linckii/~keab/data/219/meter_volumeflow.db is not a file or directory\")\n",
      "db/linckii/~keab/data/220/meter_effect.db: ErrorException(\"db/linckii/~keab/data/220/meter_effect.db is not a file or directory\")\n",
      "db/linckii/~keab/data/220/meter_volumeflow.db: ErrorException(\"db/linckii/~keab/data/220/meter_volumeflow.db is not a file or directory\")\n",
      "db/linckii/~keab/data/222/meter_effect.db: ErrorException(\"db/linckii/~keab/data/222/meter_effect.db is not a file or directory\")\n",
      "db/linckii/~keab/data/223/meter_effect.db: ErrorException(\"db/linckii/~keab/data/223/meter_effect.db is not a file or directory\")\n",
      "db/linckii/~keab/data/224/meter_effect.db: ErrorException(\"db/linckii/~keab/data/224/meter_effect.db is not a file or directory\")\n",
      "db/linckii/~keab/data/227/meter_effect.db: ErrorException(\"db/linckii/~keab/data/227/meter_effect.db is not a file or directory\")\n",
      "db/linckii/~keab/data/227/meter_volumeflow.db: ErrorException(\"db/linckii/~keab/data/227/meter_volumeflow.db is not a file or directory\")\n",
      " 48.002394 seconds (778.42 M allocations: 20.409 GiB, 3.51% gc time)\n"
     ]
    },
    {
     "ename": "ArgumentError",
     "evalue": "ArgumentError: reducing over an empty collection is not allowed",
     "output_type": "error",
     "traceback": [
      "ArgumentError: reducing over an empty collection is not allowed",
      "",
      "Stacktrace:",
      " [1] _empty_reduce_error() at ./reduce.jl:212",
      " [2] reduce_empty(::Function, ::Type) at ./reduce.jl:222",
      " [3] mapreduce_empty(::typeof(identity), ::Function, ::Type) at ./reduce.jl:247",
      " [4] _mapreduce(::typeof(identity), ::var\"#21#22\", ::IndexLinear, ::Array{Any,1}) at ./reduce.jl:301",
      " [5] _mapreduce_dim(::Function, ::Function, ::NamedTuple{(),Tuple{}}, ::Array{Any,1}, ::Colon) at ./reducedim.jl:312",
      " [6] #mapreduce#584 at ./reducedim.jl:307 [inlined]",
      " [7] mapreduce at ./reducedim.jl:307 [inlined]",
      " [8] #reduce#586 at ./reducedim.jl:352 [inlined]",
      " [9] reduce(::Function, ::Array{Any,1}) at ./reducedim.jl:352",
      " [10] top-level scope at In[18]:20"
     ]
    }
   ],
   "source": [
    "ppts = []\n",
    "@time for r in signal_rows\n",
    "    filepath = \"$(Linckii.datapath(access, r.node_id, r.sensor_name)).db\"\n",
    "    try\n",
    "        data = Linckii.loaddata(access, r.node_id, r.sensor_name)\n",
    "        rows = JuliaDB.rows(data)\n",
    "        push!(\n",
    "            ppts,\n",
    "            JuliaDB.transform(\n",
    "                JuliaDB.table(Nodosus.pp1(rows, p, q); pkey = (:node_id, :datetime)),\n",
    "                :node_id => r.node_id,\n",
    "                :value => r.sensor_name,\n",
    "            ),\n",
    "        )\n",
    "        println(\"$(filepath): Done\")\n",
    "    catch e\n",
    "        println(\"$(filepath): $(e)\")\n",
    "    end\n",
    "end\n",
    "data = reduce((l, r) -> JuliaDB.join(l, r; how = :outer), ppts)"
   ]
  },
  {
   "cell_type": "markdown",
   "metadata": {},
   "source": [
    "Save data,"
   ]
  },
  {
   "cell_type": "code",
   "execution_count": 11,
   "metadata": {},
   "outputs": [
    {
     "ename": "UndefVarError",
     "evalue": "UndefVarError: data not defined",
     "output_type": "error",
     "traceback": [
      "UndefVarError: data not defined",
      "",
      "Stacktrace:",
      " [1] top-level scope at util.jl:155",
      " [2] top-level scope at In[11]:1"
     ]
    }
   ],
   "source": [
    "@time JuliaDB.save(\n",
    "    data,\n",
    "    \"$(Linckii.datapath(access)).db\",\n",
    ")"
   ]
  },
  {
   "cell_type": "markdown",
   "metadata": {},
   "source": [
    "Load data,"
   ]
  },
  {
   "cell_type": "code",
   "execution_count": 12,
   "metadata": {},
   "outputs": [
    {
     "ename": "ErrorException",
     "evalue": "db/linckii/~keab/data.db is not a file or directory",
     "output_type": "error",
     "traceback": [
      "db/linckii/~keab/data.db is not a file or directory",
      "",
      "Stacktrace:",
      " [1] error(::String) at ./error.jl:33",
      " [2] #load#197(::Array{Int64,1}, ::typeof(Dagger.load), ::String) at /Users/jens/.julia/packages/JuliaDB/7cG1k/src/io.jl:184",
      " [3] load(::String) at /Users/jens/.julia/packages/JuliaDB/7cG1k/src/io.jl:174",
      " [4] top-level scope at util.jl:155",
      " [5] top-level scope at In[12]:1"
     ]
    }
   ],
   "source": [
    "@time data = JuliaDB.load(\n",
    "    \"$(Linckii.datapath(access)).db\",\n",
    ")"
   ]
  },
  {
   "cell_type": "code",
   "execution_count": 13,
   "metadata": {},
   "outputs": [],
   "source": [
    "# two plots, one for a random node but both supply and return temp, and one for all nodes but only their difference"
   ]
  },
  {
   "cell_type": "markdown",
   "metadata": {},
   "source": [
    "Complex plot,"
   ]
  },
  {
   "cell_type": "code",
   "execution_count": 14,
   "metadata": {},
   "outputs": [
    {
     "ename": "UndefVarError",
     "evalue": "UndefVarError: data not defined",
     "output_type": "error",
     "traceback": [
      "UndefVarError: data not defined",
      "",
      "Stacktrace:",
      " [1] top-level scope at In[14]:1"
     ]
    }
   ],
   "source": [
    "t = JuliaDB.filter(\n",
    "    r -> r.datetime >= Dates.DateTime(2018) && r.datetime <= Dates.DateTime(2019),\n",
    "    data,\n",
    ")\n",
    "x = JuliaDB.select(t, :datetime)\n",
    "y = JuliaDB.select(t, :meter_primreturntemp)\n",
    "Plots.plot(x, y, xlabel = :datetime, label = Linckii.datapath(access, r.node_id, r.sensor_name))"
   ]
  }
 ],
 "metadata": {
  "kernelspec": {
   "display_name": "Julia 1.3.0",
   "language": "julia",
   "name": "julia-1.3"
  },
  "language_info": {
   "file_extension": ".jl",
   "mimetype": "application/julia",
   "name": "julia",
   "version": "1.3.0"
  }
 },
 "nbformat": 4,
 "nbformat_minor": 4
}
