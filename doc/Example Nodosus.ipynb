{
 "cells": [
  {
   "cell_type": "markdown",
   "metadata": {},
   "source": [
    "# Example use of the Sonic module Nodosus.jl"
   ]
  },
  {
   "cell_type": "code",
   "execution_count": null,
   "metadata": {},
   "outputs": [],
   "source": [
    "import Pkg                      # package manager\n",
    "Pkg.activate(\"..\")              # Project.toml\n",
    "Pkg.instantiate()               # https://julialang.github.io/Pkg.jl/v1.0/index.html"
   ]
  },
  {
   "cell_type": "code",
   "execution_count": null,
   "metadata": {},
   "outputs": [],
   "source": [
    "import Dates, JuliaDB, Plots, Random"
   ]
  },
  {
   "cell_type": "code",
   "execution_count": null,
   "metadata": {},
   "outputs": [],
   "source": [
    "include(\"../src/Linckii.jl\")\n",
    "include(\"../src/LinckiiSecrets.jl\")\n",
    "include(\"../src/Nodosus.jl\")"
   ]
  },
  {
   "cell_type": "markdown",
   "metadata": {},
   "source": [
    "Get access token,"
   ]
  },
  {
   "cell_type": "code",
   "execution_count": null,
   "metadata": {},
   "outputs": [],
   "source": [
    "access = Linckii.get_access(LinckiiSecrets.keab)"
   ]
  },
  {
   "cell_type": "markdown",
   "metadata": {},
   "source": [
    "Load site,"
   ]
  },
  {
   "cell_type": "code",
   "execution_count": null,
   "metadata": {},
   "outputs": [],
   "source": [
    "nodes, devices, sensors = Linckii.loadsite(access, :nodes, :devices, :sensors)"
   ]
  },
  {
   "cell_type": "markdown",
   "metadata": {},
   "source": [
    "Get side 1 substation series,"
   ]
  },
  {
   "cell_type": "code",
   "execution_count": null,
   "metadata": {},
   "outputs": [],
   "source": [
    "signals = JuliaDB.reindex(\n",
    "    JuliaDB.join(\n",
    "        Linckii.flatten_nodes(JuliaDB.filter(r -> r.device_id == 4, nodes)),\n",
    "        JuliaDB.filter(\n",
    "            r -> r.sensor_name in (\n",
    "                :meter_effect,\n",
    "                :meter_primreturntemp,\n",
    "                :meter_primsupplytemp,\n",
    "                :meter_volumeflow,\n",
    "            ),\n",
    "            sensors\n",
    "        );\n",
    "        lkey = :sensor_id,\n",
    "        rkey = :sensor_id,\n",
    "    ),\n",
    "    (:node_id, :sensor_id),\n",
    ")"
   ]
  },
  {
   "cell_type": "code",
   "execution_count": null,
   "metadata": {},
   "outputs": [],
   "source": [
    "signal_rows = JuliaDB.rows(signals)\n",
    "length(signal_rows)"
   ]
  },
  {
   "cell_type": "markdown",
   "metadata": {},
   "source": [
    "Load data,"
   ]
  },
  {
   "cell_type": "code",
   "execution_count": null,
   "metadata": {},
   "outputs": [],
   "source": [
    "if true\n",
    "    signal_rows = [signal_rows[Random.rand(1 : end)]]\n",
    "end\n",
    "for r in signal_rows\n",
    "    try\n",
    "        data = Linckii.loaddata(access, r.node_id, r.sensor_name) # resample and merge\n",
    "        println(\"$(Linckii.datapath(access, r.node_id, r.sensor_name)): Done\")\n",
    "    catch e\n",
    "        println(\"$(Linckii.datapath(access, r.node_id, r.sensor_name)): $(e)\")\n",
    "    end\n",
    "end"
   ]
  },
  {
   "cell_type": "code",
   "execution_count": null,
   "metadata": {},
   "outputs": [],
   "source": [
    "# load and agregate resampled data per node"
   ]
  },
  {
   "cell_type": "code",
   "execution_count": null,
   "metadata": {},
   "outputs": [],
   "source": [
    "# save"
   ]
  },
  {
   "cell_type": "code",
   "execution_count": null,
   "metadata": {},
   "outputs": [],
   "source": [
    "# load and agregate resampled data per site"
   ]
  },
  {
   "cell_type": "code",
   "execution_count": null,
   "metadata": {},
   "outputs": [],
   "source": [
    "# save"
   ]
  },
  {
   "cell_type": "code",
   "execution_count": null,
   "metadata": {},
   "outputs": [],
   "source": [
    "# load"
   ]
  },
  {
   "cell_type": "markdown",
   "metadata": {},
   "source": [
    "Complex plot,"
   ]
  },
  {
   "cell_type": "code",
   "execution_count": null,
   "metadata": {},
   "outputs": [],
   "source": []
  }
 ],
 "metadata": {
  "kernelspec": {
   "display_name": "Julia 1.3.0",
   "language": "julia",
   "name": "julia-1.3"
  },
  "language_info": {
   "file_extension": ".jl",
   "mimetype": "application/julia",
   "name": "julia",
   "version": "1.3.0"
  }
 },
 "nbformat": 4,
 "nbformat_minor": 4
}
