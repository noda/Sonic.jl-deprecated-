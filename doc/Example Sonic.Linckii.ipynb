{
 "cells": [
  {
   "cell_type": "markdown",
   "metadata": {},
   "source": [
    "# Example use of the Julia module Sonic.Linckii\n",
    "\n",
    "Note that the module depends on another module ```LinckiiSecrets``` for authentication, which is not part of the Git repository, and has to be added by hand."
   ]
  },
  {
   "cell_type": "code",
   "execution_count": null,
   "metadata": {},
   "outputs": [],
   "source": [
    "import Pkg                      # package manager\n",
    "Pkg.activate(\"..\")              # my Project.toml\n",
    "Pkg.instantiate()               # https://julialang.github.io/Pkg.jl/v1.0/index.html\n",
    "include(\"../src/Sonic.jl\")      # my project"
   ]
  },
  {
   "cell_type": "code",
   "execution_count": null,
   "metadata": {},
   "outputs": [],
   "source": [
    "import JuliaDB, Plots, Random"
   ]
  },
  {
   "cell_type": "code",
   "execution_count": null,
   "metadata": {},
   "outputs": [],
   "source": [
    "site_name = \"keab\""
   ]
  },
  {
   "cell_type": "markdown",
   "metadata": {},
   "source": [
    "GET \"https://canary.noda.se/$site_name/api/v1/node\""
   ]
  },
  {
   "cell_type": "code",
   "execution_count": null,
   "metadata": {},
   "outputs": [],
   "source": [
    "@time nodes = Sonic.Linckii.get_nodes(site_name)"
   ]
  },
  {
   "cell_type": "markdown",
   "metadata": {},
   "source": [
    "Flatten ```nodes```, i.e.,\n",
    "```\n",
    "flat_nodes = JuliaDB.rename(\n",
    "    JuliaDB.flatten(nodes, :sensor_ids),\n",
    "    :sensor_ids => :sensor_id,\n",
    ")\n",
    "```"
   ]
  },
  {
   "cell_type": "code",
   "execution_count": null,
   "metadata": {},
   "outputs": [],
   "source": [
    "flat_nodes = Sonic.Linckii.flatten_nodes(nodes)"
   ]
  },
  {
   "cell_type": "markdown",
   "metadata": {},
   "source": [
    "GET \"https://canary.noda.se/$site_name/api/v1/device\""
   ]
  },
  {
   "cell_type": "code",
   "execution_count": null,
   "metadata": {},
   "outputs": [],
   "source": [
    "@time devices = Sonic.Linckii.get_devices(site_name)"
   ]
  },
  {
   "cell_type": "markdown",
   "metadata": {},
   "source": [
    "GET \"https://canary.noda.se/$site_name/api/v1/sensor\""
   ]
  },
  {
   "cell_type": "code",
   "execution_count": null,
   "metadata": {},
   "outputs": [],
   "source": [
    "@time sensors = Sonic.Linckii.get_sensors(site_name)"
   ]
  },
  {
   "cell_type": "markdown",
   "metadata": {},
   "source": [
    "Get device sensors,"
   ]
  },
  {
   "cell_type": "code",
   "execution_count": null,
   "metadata": {},
   "outputs": [],
   "source": [
    "device_sensors = JuliaDB.reindex(\n",
    "    JuliaDB.join(\n",
    "        devices,\n",
    "        sensors;\n",
    "        lkey = :protocol_id,\n",
    "        rkey = :protocol_id,\n",
    "    ),\n",
    "    (:device_id, :sensor_id),\n",
    ")"
   ]
  },
  {
   "cell_type": "markdown",
   "metadata": {},
   "source": [
    "Get node device sensors,"
   ]
  },
  {
   "cell_type": "code",
   "execution_count": null,
   "metadata": {},
   "outputs": [],
   "source": [
    "node_device_sensors = JuliaDB.reindex(\n",
    "    JuliaDB.join(\n",
    "        flat_nodes,\n",
    "        device_sensors;\n",
    "        lkey = (:device_id, :sensor_id),\n",
    "        rkey = (:device_id, :sensor_id),\n",
    "    ),\n",
    "    (:node_id, :sensor_id),\n",
    ")"
   ]
  },
  {
   "cell_type": "markdown",
   "metadata": {},
   "source": [
    "Get side 1 substation data for 2019-09-01/2019-10-01 and 2019-10-01/2019-11-01,"
   ]
  },
  {
   "cell_type": "code",
   "execution_count": null,
   "metadata": {},
   "outputs": [],
   "source": [
    "pkeys = JuliaDB.select(\n",
    "    JuliaDB.join(\n",
    "        Sonic.Linckii.flatten_nodes(\n",
    "            JuliaDB.filter(\n",
    "                r -> (\n",
    "                    # r.node_id <= 20 && # uncomment to speed things up\n",
    "                    r.device_id == 4\n",
    "                ),\n",
    "                nodes,\n",
    "            ),\n",
    "        ),\n",
    "        JuliaDB.filter(\n",
    "            r -> r.sensor_name in [\n",
    "                :meter_effect,\n",
    "                :meter_primreturntemp,\n",
    "                :meter_primsupplytemp,\n",
    "                :meter_volumeflow,\n",
    "            ],\n",
    "            device_sensors,\n",
    "        );\n",
    "        lkey = (:device_id, :sensor_id),\n",
    "        rkey = (:device_id, :sensor_id),\n",
    "    ),\n",
    "    (:node_id, :sensor_name),\n",
    ")"
   ]
  },
  {
   "cell_type": "code",
   "execution_count": null,
   "metadata": {},
   "outputs": [],
   "source": [
    "dates = [\"2019-09-01\", \"2019-10-01\", \"2019-11-01\"]"
   ]
  },
  {
   "cell_type": "markdown",
   "metadata": {},
   "source": [
    "Save data,"
   ]
  },
  {
   "cell_type": "code",
   "execution_count": null,
   "metadata": {},
   "outputs": [],
   "source": [
    "# @time JuliaDB.save(Sonic.Linckii.get_data(site_name, pkeys, dates...), \"Example Sonic.Linckii.db\")"
   ]
  },
  {
   "cell_type": "markdown",
   "metadata": {},
   "source": [
    "Load data,"
   ]
  },
  {
   "cell_type": "code",
   "execution_count": null,
   "metadata": {},
   "outputs": [],
   "source": [
    "@time data = JuliaDB.load(\"Example Sonic.Linckii.db\")"
   ]
  },
  {
   "cell_type": "markdown",
   "metadata": {},
   "source": [
    "Simple plot,"
   ]
  },
  {
   "cell_type": "code",
   "execution_count": null,
   "metadata": {},
   "outputs": [],
   "source": [
    "node_id = JuliaDB.select(data, :node_id)[Random.rand(1 : end)]"
   ]
  },
  {
   "cell_type": "code",
   "execution_count": null,
   "metadata": {},
   "outputs": [],
   "source": [
    "sensor_name = JuliaDB.select(data, :sensor_name)[Random.rand(1 : end)]"
   ]
  },
  {
   "cell_type": "code",
   "execution_count": null,
   "metadata": {},
   "outputs": [],
   "source": [
    "t = Sonic.Linckii.filter(r -> r.node_id == node_id && r.sensor_name == sensor_name, data)\n",
    "x = JuliaDB.select(t, :datetime)\n",
    "y = JuliaDB.select(t, :value)\n",
    "Plots.plot(x, y, xlabel = :datetime, label = sensor_name)"
   ]
  },
  {
   "cell_type": "code",
   "execution_count": null,
   "metadata": {},
   "outputs": [],
   "source": []
  }
 ],
 "metadata": {
  "kernelspec": {
   "display_name": "Julia 1.2.0",
   "language": "julia",
   "name": "julia-1.2"
  },
  "language_info": {
   "file_extension": ".jl",
   "mimetype": "application/julia",
   "name": "julia",
   "version": "1.2.0"
  }
 },
 "nbformat": 4,
 "nbformat_minor": 4
}
