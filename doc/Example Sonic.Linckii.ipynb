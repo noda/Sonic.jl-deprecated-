{
 "cells": [
  {
   "cell_type": "markdown",
   "metadata": {},
   "source": [
    "# Example use of the Julia module Sonic.Linckii\n",
    "\n",
    "Note that the module depends on another module ```LinckiiSecrets``` for authentication, which is not part of the Git repository, and has to be added by hand."
   ]
  },
  {
   "cell_type": "code",
   "execution_count": 1,
   "metadata": {},
   "outputs": [],
   "source": [
    "import JuliaDB, Plots, Unitful"
   ]
  },
  {
   "cell_type": "code",
   "execution_count": 2,
   "metadata": {},
   "outputs": [
    {
     "name": "stderr",
     "output_type": "stream",
     "text": [
      "┌ Info: Recompiling stale cache file /Users/jens/.julia/compiled/v1.2/Sonic/R3ynV.ji for Sonic [40c42df8-6f87-4e82-b148-77c95cb09b7a]\n",
      "└ @ Base loading.jl:1240\n"
     ]
    }
   ],
   "source": [
    "import Sonic"
   ]
  },
  {
   "cell_type": "code",
   "execution_count": 3,
   "metadata": {},
   "outputs": [
    {
     "data": {
      "text/plain": [
       "\"keab\""
      ]
     },
     "execution_count": 3,
     "metadata": {},
     "output_type": "execute_result"
    }
   ],
   "source": [
    "site_name = \"keab\""
   ]
  },
  {
   "cell_type": "markdown",
   "metadata": {},
   "source": [
    "GET \"https://canary.noda.se/$site_name/api/v1/node\""
   ]
  },
  {
   "cell_type": "code",
   "execution_count": 4,
   "metadata": {},
   "outputs": [
    {
     "name": "stdout",
     "output_type": "stream",
     "text": [
      " 12.053115 seconds (15.68 M allocations: 821.680 MiB, 3.25% gc time)\n"
     ]
    },
    {
     "data": {
      "text/plain": [
       "Table with 279 rows, 8 columns:\n",
       "Columns:\n",
       "\u001b[1m#  \u001b[22m\u001b[1mcolname           \u001b[22m\u001b[1mtype\u001b[22m\n",
       "─────────────────────────────────\n",
       "1  node_public       Bool\n",
       "2  node_name         String\n",
       "3  device_id         Int64\n",
       "4  node_id           Int64\n",
       "5  node_owner        Bool\n",
       "6  node_enabled      Bool\n",
       "7  sensor_ids        Array{Any,1}\n",
       "8  node_description  String"
      ]
     },
     "execution_count": 4,
     "metadata": {},
     "output_type": "execute_result"
    }
   ],
   "source": [
    "@time nodes = Sonic.Linckii.get_nodes(site_name)"
   ]
  },
  {
   "cell_type": "code",
   "execution_count": 5,
   "metadata": {},
   "outputs": [
    {
     "data": {
      "text/plain": [
       "(:node_id,)"
      ]
     },
     "execution_count": 5,
     "metadata": {},
     "output_type": "execute_result"
    }
   ],
   "source": [
    "JuliaDB.pkeynames(nodes)"
   ]
  },
  {
   "cell_type": "markdown",
   "metadata": {},
   "source": [
    "Flatten ```nodes```, i.e.,\n",
    "```\n",
    "flat_nodes = JuliaDB.rename(\n",
    "    JuliaDB.flatten(nodes, :sensor_ids),\n",
    "    :sensor_ids => :sensor_id,\n",
    ")\n",
    "```"
   ]
  },
  {
   "cell_type": "code",
   "execution_count": 6,
   "metadata": {},
   "outputs": [
    {
     "data": {
      "text/plain": [
       "Table with 4721 rows, 8 columns:\n",
       "Columns:\n",
       "\u001b[1m#  \u001b[22m\u001b[1mcolname           \u001b[22m\u001b[1mtype\u001b[22m\n",
       "───────────────────────────\n",
       "1  node_id           Int64\n",
       "2  sensor_id         Int64\n",
       "3  node_public       Bool\n",
       "4  node_name         String\n",
       "5  device_id         Int64\n",
       "6  node_owner        Bool\n",
       "7  node_enabled      Bool\n",
       "8  node_description  String"
      ]
     },
     "execution_count": 6,
     "metadata": {},
     "output_type": "execute_result"
    }
   ],
   "source": [
    "flat_nodes = Sonic.Linckii.flatten_nodes(nodes)"
   ]
  },
  {
   "cell_type": "code",
   "execution_count": 7,
   "metadata": {},
   "outputs": [
    {
     "data": {
      "text/plain": [
       "(:node_id, :sensor_id)"
      ]
     },
     "execution_count": 7,
     "metadata": {},
     "output_type": "execute_result"
    }
   ],
   "source": [
    "JuliaDB.pkeynames(flat_nodes)"
   ]
  },
  {
   "cell_type": "markdown",
   "metadata": {},
   "source": [
    "GET \"https://canary.noda.se/$site_name/api/v1/device\""
   ]
  },
  {
   "cell_type": "code",
   "execution_count": 8,
   "metadata": {},
   "outputs": [
    {
     "name": "stdout",
     "output_type": "stream",
     "text": [
      "  1.388178 seconds (2.09 M allocations: 108.262 MiB, 2.78% gc time)\n"
     ]
    },
    {
     "data": {
      "text/plain": [
       "Table with 11 rows, 3 columns:\n",
       "protocol_id  device_name             \u001b[1mdevice_id\u001b[22m\n",
       "──────────────────────────────────────────────\n",
       "1            \"Kelp-IQHeat\"           1\n",
       "2            \"Scout\"                 2\n",
       "1            \"Kelp-Basic\"            4\n",
       "5            \"Weather-Forecast\"      6\n",
       "6            \"Grid-Basic\"            7\n",
       "6            \"Grid-Controller\"       8\n",
       "7            \"Heat-Load-Forecast\"    9\n",
       "2            \"CMa1Xw\"                10\n",
       "2            \"EcoGuard Sensor\"       11\n",
       "2            \"WEPTech\"               12\n",
       "8            \"Flexibility-Forecast\"  13"
      ]
     },
     "execution_count": 8,
     "metadata": {},
     "output_type": "execute_result"
    }
   ],
   "source": [
    "@time devices = Sonic.Linckii.get_devices(site_name)"
   ]
  },
  {
   "cell_type": "code",
   "execution_count": 9,
   "metadata": {},
   "outputs": [
    {
     "data": {
      "text/plain": [
       "(:device_id,)"
      ]
     },
     "execution_count": 9,
     "metadata": {},
     "output_type": "execute_result"
    }
   ],
   "source": [
    "JuliaDB.pkeynames(devices)"
   ]
  },
  {
   "cell_type": "markdown",
   "metadata": {},
   "source": [
    "GET \"https://canary.noda.se/$site_name/api/v1/sensor\""
   ]
  },
  {
   "cell_type": "code",
   "execution_count": 10,
   "metadata": {},
   "outputs": [
    {
     "name": "stdout",
     "output_type": "stream",
     "text": [
      "  3.743678 seconds (5.11 M allocations: 288.088 MiB, 2.87% gc time)\n"
     ]
    },
    {
     "data": {
      "text/plain": [
       "Table with 175 rows, 5 columns:\n",
       "Columns:\n",
       "\u001b[1m#  \u001b[22m\u001b[1mcolname             \u001b[22m\u001b[1mtype\u001b[22m\n",
       "────────────────────────────────\n",
       "1  sensor_unit         FreeUnits\n",
       "2  sensor_name         Symbol\n",
       "3  protocol_id         Int64\n",
       "4  sensor_id           Int64\n",
       "5  sensor_description  String"
      ]
     },
     "execution_count": 10,
     "metadata": {},
     "output_type": "execute_result"
    }
   ],
   "source": [
    "@time sensors = Sonic.Linckii.get_sensors(site_name)"
   ]
  },
  {
   "cell_type": "code",
   "execution_count": 11,
   "metadata": {},
   "outputs": [
    {
     "data": {
      "text/plain": [
       "(:sensor_id,)"
      ]
     },
     "execution_count": 11,
     "metadata": {},
     "output_type": "execute_result"
    }
   ],
   "source": [
    "JuliaDB.pkeynames(sensors)"
   ]
  },
  {
   "cell_type": "markdown",
   "metadata": {},
   "source": [
    "Get device sensors,"
   ]
  },
  {
   "cell_type": "code",
   "execution_count": 12,
   "metadata": {},
   "outputs": [
    {
     "data": {
      "text/plain": [
       "Table with 341 rows, 7 columns:\n",
       "Columns:\n",
       "\u001b[1m#  \u001b[22m\u001b[1mcolname             \u001b[22m\u001b[1mtype\u001b[22m\n",
       "─────────────────────────────\n",
       "1  device_id           Int64\n",
       "2  sensor_id           Int64\n",
       "3  protocol_id         Int64\n",
       "4  device_name         String\n",
       "5  sensor_unit         Any\n",
       "6  sensor_name         Symbol\n",
       "7  sensor_description  String"
      ]
     },
     "execution_count": 12,
     "metadata": {},
     "output_type": "execute_result"
    }
   ],
   "source": [
    "device_sensors = JuliaDB.reindex(\n",
    "    JuliaDB.join(\n",
    "        devices,\n",
    "        sensors;\n",
    "        lkey = :protocol_id,\n",
    "        rkey = :protocol_id,\n",
    "    ),\n",
    "    (:device_id, :sensor_id),\n",
    ")"
   ]
  },
  {
   "cell_type": "code",
   "execution_count": 13,
   "metadata": {},
   "outputs": [
    {
     "data": {
      "text/plain": [
       "(:device_id, :sensor_id)"
      ]
     },
     "execution_count": 13,
     "metadata": {},
     "output_type": "execute_result"
    }
   ],
   "source": [
    "JuliaDB.pkeynames(device_sensors)"
   ]
  },
  {
   "cell_type": "markdown",
   "metadata": {},
   "source": [
    "Get node device sensors,"
   ]
  },
  {
   "cell_type": "code",
   "execution_count": 14,
   "metadata": {},
   "outputs": [
    {
     "data": {
      "text/plain": [
       "Table with 4478 rows, 13 columns:\n",
       "Columns:\n",
       "\u001b[1m#   \u001b[22m\u001b[1mcolname             \u001b[22m\u001b[1mtype\u001b[22m\n",
       "──────────────────────────────\n",
       "1   node_id             Int64\n",
       "2   sensor_id           Int64\n",
       "3   device_id           Int64\n",
       "4   node_public         Bool\n",
       "5   node_name           String\n",
       "6   node_owner          Bool\n",
       "7   node_enabled        Bool\n",
       "8   node_description    String\n",
       "9   protocol_id         Int64\n",
       "10  device_name         String\n",
       "11  sensor_unit         Any\n",
       "12  sensor_name         Symbol\n",
       "13  sensor_description  String"
      ]
     },
     "execution_count": 14,
     "metadata": {},
     "output_type": "execute_result"
    }
   ],
   "source": [
    "node_device_sensors = JuliaDB.reindex(\n",
    "    JuliaDB.join(\n",
    "        flat_nodes,\n",
    "        device_sensors;\n",
    "        lkey = (:device_id, :sensor_id),\n",
    "        rkey = (:device_id, :sensor_id),\n",
    "    ),\n",
    "    (:node_id, :sensor_id),\n",
    ")"
   ]
  },
  {
   "cell_type": "code",
   "execution_count": 15,
   "metadata": {},
   "outputs": [
    {
     "data": {
      "text/plain": [
       "(:node_id, :sensor_id)"
      ]
     },
     "execution_count": 15,
     "metadata": {},
     "output_type": "execute_result"
    }
   ],
   "source": [
    "JuliaDB.pkeynames(node_device_sensors)"
   ]
  },
  {
   "cell_type": "markdown",
   "metadata": {},
   "source": [
    "Get side 1 substation data for 2019-09-01/2019-10-01 and 2019-10-01/2019-11-01,"
   ]
  },
  {
   "cell_type": "code",
   "execution_count": 16,
   "metadata": {},
   "outputs": [
    {
     "data": {
      "text/plain": [
       "Table with 24 rows, 2 columns:\n",
       "node_id  sensor_name\n",
       "──────────────────────────────\n",
       "1        :meter_effect\n",
       "16       :meter_effect\n",
       "17       :meter_effect\n",
       "18       :meter_effect\n",
       "19       :meter_effect\n",
       "20       :meter_effect\n",
       "1        :meter_primreturntemp\n",
       "16       :meter_primreturntemp\n",
       "17       :meter_primreturntemp\n",
       "18       :meter_primreturntemp\n",
       "19       :meter_primreturntemp\n",
       "20       :meter_primreturntemp\n",
       "1        :meter_primsupplytemp\n",
       "16       :meter_primsupplytemp\n",
       "17       :meter_primsupplytemp\n",
       "18       :meter_primsupplytemp\n",
       "19       :meter_primsupplytemp\n",
       "20       :meter_primsupplytemp\n",
       "1        :meter_volumeflow\n",
       "16       :meter_volumeflow\n",
       "17       :meter_volumeflow\n",
       "18       :meter_volumeflow\n",
       "19       :meter_volumeflow\n",
       "20       :meter_volumeflow"
      ]
     },
     "execution_count": 16,
     "metadata": {},
     "output_type": "execute_result"
    }
   ],
   "source": [
    "pkeys = JuliaDB.select(\n",
    "    JuliaDB.join(\n",
    "        Sonic.Linckii.flatten_nodes(\n",
    "            JuliaDB.filter(\n",
    "                r -> r.node_id <= 20 && r.device_id == 4,\n",
    "                nodes,\n",
    "            ),\n",
    "        ),\n",
    "        JuliaDB.filter(\n",
    "            r -> r.sensor_name in [\n",
    "                :meter_effect,\n",
    "                :meter_primreturntemp,\n",
    "                :meter_primsupplytemp,\n",
    "                :meter_volumeflow,\n",
    "            ],\n",
    "            device_sensors,\n",
    "        );\n",
    "        lkey = (:device_id, :sensor_id),\n",
    "        rkey = (:device_id, :sensor_id),\n",
    "    ),\n",
    "    (:node_id, :sensor_name),\n",
    ")"
   ]
  },
  {
   "cell_type": "code",
   "execution_count": 17,
   "metadata": {},
   "outputs": [
    {
     "data": {
      "text/plain": [
       "3-element Array{String,1}:\n",
       " \"2019-11-17\"\n",
       " \"2019-11-18\"\n",
       " \"2019-11-19\""
      ]
     },
     "execution_count": 17,
     "metadata": {},
     "output_type": "execute_result"
    }
   ],
   "source": [
    "dates = [\"2019-11-17\", \"2019-11-18\", \"2019-11-19\"]"
   ]
  },
  {
   "cell_type": "markdown",
   "metadata": {},
   "source": [
    "Save data,"
   ]
  },
  {
   "cell_type": "code",
   "execution_count": 27,
   "metadata": {},
   "outputs": [
    {
     "name": "stdout",
     "output_type": "stream",
     "text": [
      " 38.451101 seconds (6.10 M allocations: 304.928 MiB, 0.81% gc time)\n"
     ]
    },
    {
     "data": {
      "text/plain": [
       "Table with 3452 rows, 5 columns:\n",
       "\u001b[1mnode_id  \u001b[22m\u001b[1msensor_name        \u001b[22m\u001b[1mdatetime             \u001b[22mtimezone  value\n",
       "────────────────────────────────────────────────────────────────\n",
       "17       :meter_effect      2019-11-17T00:10:03  1 hour    12.9\n",
       "17       :meter_effect      2019-11-17T00:20:03  1 hour    7.4\n",
       "17       :meter_effect      2019-11-17T00:30:02  1 hour    7.4\n",
       "17       :meter_effect      2019-11-17T00:40:02  1 hour    10.1\n",
       "17       :meter_effect      2019-11-17T00:50:02  1 hour    12\n",
       "17       :meter_effect      2019-11-17T00:55:02  1 hour    7.8\n",
       "17       :meter_effect      2019-11-17T01:10:03  1 hour    7.1\n",
       "17       :meter_effect      2019-11-17T01:20:03  1 hour    7.7\n",
       "17       :meter_effect      2019-11-17T01:30:03  1 hour    8.2\n",
       "17       :meter_effect      2019-11-17T01:40:03  1 hour    7\n",
       "17       :meter_effect      2019-11-17T01:50:02  1 hour    7.3\n",
       "17       :meter_effect      2019-11-17T01:55:02  1 hour    7.8\n",
       "⋮\n",
       "20       :meter_volumeflow  2019-11-18T22:20:02  1 hour    744\n",
       "20       :meter_volumeflow  2019-11-18T22:30:02  1 hour    672\n",
       "20       :meter_volumeflow  2019-11-18T22:40:02  1 hour    702\n",
       "20       :meter_volumeflow  2019-11-18T22:50:03  1 hour    726\n",
       "20       :meter_volumeflow  2019-11-18T22:55:03  1 hour    708\n",
       "20       :meter_volumeflow  2019-11-18T23:10:03  1 hour    732\n",
       "20       :meter_volumeflow  2019-11-18T23:20:03  1 hour    708\n",
       "20       :meter_volumeflow  2019-11-18T23:30:03  1 hour    732\n",
       "20       :meter_volumeflow  2019-11-18T23:40:02  1 hour    708\n",
       "20       :meter_volumeflow  2019-11-18T23:50:02  1 hour    702\n",
       "20       :meter_volumeflow  2019-11-18T23:55:02  1 hour    708"
      ]
     },
     "execution_count": 27,
     "metadata": {},
     "output_type": "execute_result"
    }
   ],
   "source": [
    "@time JuliaDB.save(Sonic.Linckii.get_data(site_name, pkeys, dates ...), \"Example Sonic.Linckii.ipynb.db\")"
   ]
  },
  {
   "cell_type": "markdown",
   "metadata": {},
   "source": [
    "Load data,"
   ]
  },
  {
   "cell_type": "code",
   "execution_count": 28,
   "metadata": {},
   "outputs": [
    {
     "name": "stdout",
     "output_type": "stream",
     "text": [
      "  0.012186 seconds (41.59 k allocations: 1.319 MiB)\n"
     ]
    },
    {
     "data": {
      "text/plain": [
       "Table with 3452 rows, 5 columns:\n",
       "\u001b[1mnode_id  \u001b[22m\u001b[1msensor_name        \u001b[22m\u001b[1mdatetime             \u001b[22mtimezone  value\n",
       "────────────────────────────────────────────────────────────────\n",
       "17       :meter_effect      2019-11-17T00:10:03  1 hour    12.9\n",
       "17       :meter_effect      2019-11-17T00:20:03  1 hour    7.4\n",
       "17       :meter_effect      2019-11-17T00:30:02  1 hour    7.4\n",
       "17       :meter_effect      2019-11-17T00:40:02  1 hour    10.1\n",
       "17       :meter_effect      2019-11-17T00:50:02  1 hour    12\n",
       "17       :meter_effect      2019-11-17T00:55:02  1 hour    7.8\n",
       "17       :meter_effect      2019-11-17T01:10:03  1 hour    7.1\n",
       "17       :meter_effect      2019-11-17T01:20:03  1 hour    7.7\n",
       "17       :meter_effect      2019-11-17T01:30:03  1 hour    8.2\n",
       "17       :meter_effect      2019-11-17T01:40:03  1 hour    7\n",
       "17       :meter_effect      2019-11-17T01:50:02  1 hour    7.3\n",
       "17       :meter_effect      2019-11-17T01:55:02  1 hour    7.8\n",
       "⋮\n",
       "20       :meter_volumeflow  2019-11-18T22:20:02  1 hour    744\n",
       "20       :meter_volumeflow  2019-11-18T22:30:02  1 hour    672\n",
       "20       :meter_volumeflow  2019-11-18T22:40:02  1 hour    702\n",
       "20       :meter_volumeflow  2019-11-18T22:50:03  1 hour    726\n",
       "20       :meter_volumeflow  2019-11-18T22:55:03  1 hour    708\n",
       "20       :meter_volumeflow  2019-11-18T23:10:03  1 hour    732\n",
       "20       :meter_volumeflow  2019-11-18T23:20:03  1 hour    708\n",
       "20       :meter_volumeflow  2019-11-18T23:30:03  1 hour    732\n",
       "20       :meter_volumeflow  2019-11-18T23:40:02  1 hour    708\n",
       "20       :meter_volumeflow  2019-11-18T23:50:02  1 hour    702\n",
       "20       :meter_volumeflow  2019-11-18T23:55:02  1 hour    708"
      ]
     },
     "execution_count": 28,
     "metadata": {},
     "output_type": "execute_result"
    }
   ],
   "source": [
    "@time data = JuliaDB.load(\"Example Sonic.Linckii.ipynb.db\")"
   ]
  },
  {
   "cell_type": "markdown",
   "metadata": {},
   "source": [
    "Regroup data,"
   ]
  },
  {
   "cell_type": "code",
   "execution_count": 46,
   "metadata": {},
   "outputs": [
    {
     "data": {
      "text/plain": [
       "Table with 12 rows, 3 columns:\n",
       "Columns:\n",
       "\u001b[1m#  \u001b[22m\u001b[1mcolname      \u001b[22m\u001b[1mtype\u001b[22m\n",
       "──────────────────────────────────────────────────────────────────────────────────────────────────────────────────────────────────────────────────────────────────────────────\n",
       "1  node_id      Int64\n",
       "2  sensor_name  Symbol\n",
       "3  table        IndexedTable{StructArray{NamedTuple{(:datetime, :value),Tuple{DateTime,Real}},1,NamedTuple{(:datetime, :value),Tuple{Array{DateTime,1},Array{Real,1}}},Int64}}"
      ]
     },
     "execution_count": 46,
     "metadata": {},
     "output_type": "execute_result"
    }
   ],
   "source": [
    "grouped_data = JuliaDB.groupby(JuliaDB.table, data, (:node_id, :sensor_name); select=(:datetime, :value))"
   ]
  },
  {
   "cell_type": "markdown",
   "metadata": {},
   "source": [
    "Plot return temperatures,"
   ]
  },
  {
   "cell_type": "code",
   "execution_count": 52,
   "metadata": {},
   "outputs": [],
   "source": [
    "sensor_name = :meter_primreturntemp\n",
    "for r in JuliaDB.rows(grouped_data)\n",
    "    if r.sensor_name == :meter_primreturntemp\n",
    "        x = JuliaDB.select(r.table, :datetime)\n",
    "        y = JuliaDB.select(r.table, :value)\n",
    "        Plots.plot(x, y, xlabel = :datetime, label = sensor_name)\n",
    "    end\n",
    "end"
   ]
  },
  {
   "cell_type": "code",
   "execution_count": 54,
   "metadata": {},
   "outputs": [
    {
     "data": {
      "image/svg+xml": [
       "<?xml version=\"1.0\" encoding=\"utf-8\"?>\n",
       "<svg xmlns=\"http://www.w3.org/2000/svg\" xmlns:xlink=\"http://www.w3.org/1999/xlink\" width=\"600\" height=\"400\" viewBox=\"0 0 2400 1600\">\n",
       "<defs>\n",
       "  <clipPath id=\"clip2700\">\n",
       "    <rect x=\"0\" y=\"0\" width=\"2400\" height=\"1600\"/>\n",
       "  </clipPath>\n",
       "</defs>\n",
       "<path clip-path=\"url(#clip2700)\" d=\"\n",
       "M0 1600 L2400 1600 L2400 0 L0 0  Z\n",
       "  \" fill=\"#ffffff\" fill-rule=\"evenodd\" fill-opacity=\"1\"/>\n",
       "<defs>\n",
       "  <clipPath id=\"clip2701\">\n",
       "    <rect x=\"480\" y=\"0\" width=\"1681\" height=\"1600\"/>\n",
       "  </clipPath>\n",
       "</defs>\n",
       "<path clip-path=\"url(#clip2700)\" d=\"\n",
       "M153.898 1425.62 L2352.76 1425.62 L2352.76 47.2441 L153.898 47.2441  Z\n",
       "  \" fill=\"#ffffff\" fill-rule=\"evenodd\" fill-opacity=\"1\"/>\n",
       "<defs>\n",
       "  <clipPath id=\"clip2702\">\n",
       "    <rect x=\"153\" y=\"47\" width=\"2200\" height=\"1379\"/>\n",
       "  </clipPath>\n",
       "</defs>\n",
       "<polyline clip-path=\"url(#clip2702)\" style=\"stroke:#000000; stroke-width:2; stroke-opacity:0.1; fill:none\" points=\"\n",
       "  216.13,1425.62 216.13,47.2441 \n",
       "  \"/>\n",
       "<polyline clip-path=\"url(#clip2702)\" style=\"stroke:#000000; stroke-width:2; stroke-opacity:0.1; fill:none\" points=\"\n",
       "  907.595,1425.62 907.595,47.2441 \n",
       "  \"/>\n",
       "<polyline clip-path=\"url(#clip2702)\" style=\"stroke:#000000; stroke-width:2; stroke-opacity:0.1; fill:none\" points=\"\n",
       "  1599.06,1425.62 1599.06,47.2441 \n",
       "  \"/>\n",
       "<polyline clip-path=\"url(#clip2702)\" style=\"stroke:#000000; stroke-width:2; stroke-opacity:0.1; fill:none\" points=\"\n",
       "  2290.52,1425.62 2290.52,47.2441 \n",
       "  \"/>\n",
       "<polyline clip-path=\"url(#clip2702)\" style=\"stroke:#000000; stroke-width:2; stroke-opacity:0.1; fill:none\" points=\"\n",
       "  153.898,1386.61 2352.76,1386.61 \n",
       "  \"/>\n",
       "<polyline clip-path=\"url(#clip2702)\" style=\"stroke:#000000; stroke-width:2; stroke-opacity:0.1; fill:none\" points=\"\n",
       "  153.898,1061.52 2352.76,1061.52 \n",
       "  \"/>\n",
       "<polyline clip-path=\"url(#clip2702)\" style=\"stroke:#000000; stroke-width:2; stroke-opacity:0.1; fill:none\" points=\"\n",
       "  153.898,736.431 2352.76,736.431 \n",
       "  \"/>\n",
       "<polyline clip-path=\"url(#clip2702)\" style=\"stroke:#000000; stroke-width:2; stroke-opacity:0.1; fill:none\" points=\"\n",
       "  153.898,411.343 2352.76,411.343 \n",
       "  \"/>\n",
       "<polyline clip-path=\"url(#clip2702)\" style=\"stroke:#000000; stroke-width:2; stroke-opacity:0.1; fill:none\" points=\"\n",
       "  153.898,86.2547 2352.76,86.2547 \n",
       "  \"/>\n",
       "<polyline clip-path=\"url(#clip2700)\" style=\"stroke:#000000; stroke-width:4; stroke-opacity:1; fill:none\" points=\"\n",
       "  153.898,1425.62 2352.76,1425.62 \n",
       "  \"/>\n",
       "<polyline clip-path=\"url(#clip2700)\" style=\"stroke:#000000; stroke-width:4; stroke-opacity:1; fill:none\" points=\"\n",
       "  153.898,1425.62 153.898,47.2441 \n",
       "  \"/>\n",
       "<polyline clip-path=\"url(#clip2700)\" style=\"stroke:#000000; stroke-width:4; stroke-opacity:1; fill:none\" points=\"\n",
       "  216.13,1425.62 216.13,1404.94 \n",
       "  \"/>\n",
       "<polyline clip-path=\"url(#clip2700)\" style=\"stroke:#000000; stroke-width:4; stroke-opacity:1; fill:none\" points=\"\n",
       "  907.595,1425.62 907.595,1404.94 \n",
       "  \"/>\n",
       "<polyline clip-path=\"url(#clip2700)\" style=\"stroke:#000000; stroke-width:4; stroke-opacity:1; fill:none\" points=\"\n",
       "  1599.06,1425.62 1599.06,1404.94 \n",
       "  \"/>\n",
       "<polyline clip-path=\"url(#clip2700)\" style=\"stroke:#000000; stroke-width:4; stroke-opacity:1; fill:none\" points=\"\n",
       "  2290.52,1425.62 2290.52,1404.94 \n",
       "  \"/>\n",
       "<polyline clip-path=\"url(#clip2700)\" style=\"stroke:#000000; stroke-width:4; stroke-opacity:1; fill:none\" points=\"\n",
       "  153.898,1386.61 186.881,1386.61 \n",
       "  \"/>\n",
       "<polyline clip-path=\"url(#clip2700)\" style=\"stroke:#000000; stroke-width:4; stroke-opacity:1; fill:none\" points=\"\n",
       "  153.898,1061.52 186.881,1061.52 \n",
       "  \"/>\n",
       "<polyline clip-path=\"url(#clip2700)\" style=\"stroke:#000000; stroke-width:4; stroke-opacity:1; fill:none\" points=\"\n",
       "  153.898,736.431 186.881,736.431 \n",
       "  \"/>\n",
       "<polyline clip-path=\"url(#clip2700)\" style=\"stroke:#000000; stroke-width:4; stroke-opacity:1; fill:none\" points=\"\n",
       "  153.898,411.343 186.881,411.343 \n",
       "  \"/>\n",
       "<polyline clip-path=\"url(#clip2700)\" style=\"stroke:#000000; stroke-width:4; stroke-opacity:1; fill:none\" points=\"\n",
       "  153.898,86.2547 186.881,86.2547 \n",
       "  \"/>\n",
       "<g clip-path=\"url(#clip2700)\">\n",
       "<text style=\"fill:#000000; fill-opacity:1; font-family:Arial,Helvetica Neue,Helvetica,sans-serif; font-size:48px; text-anchor:middle;\" transform=\"rotate(0, 216.13, 1479.62)\" x=\"216.13\" y=\"1479.62\">1</text>\n",
       "</g>\n",
       "<g clip-path=\"url(#clip2700)\">\n",
       "<text style=\"fill:#000000; fill-opacity:1; font-family:Arial,Helvetica Neue,Helvetica,sans-serif; font-size:48px; text-anchor:middle;\" transform=\"rotate(0, 907.595, 1479.62)\" x=\"907.595\" y=\"1479.62\">2</text>\n",
       "</g>\n",
       "<g clip-path=\"url(#clip2700)\">\n",
       "<text style=\"fill:#000000; fill-opacity:1; font-family:Arial,Helvetica Neue,Helvetica,sans-serif; font-size:48px; text-anchor:middle;\" transform=\"rotate(0, 1599.06, 1479.62)\" x=\"1599.06\" y=\"1479.62\">3</text>\n",
       "</g>\n",
       "<g clip-path=\"url(#clip2700)\">\n",
       "<text style=\"fill:#000000; fill-opacity:1; font-family:Arial,Helvetica Neue,Helvetica,sans-serif; font-size:48px; text-anchor:middle;\" transform=\"rotate(0, 2290.52, 1479.62)\" x=\"2290.52\" y=\"1479.62\">4</text>\n",
       "</g>\n",
       "<g clip-path=\"url(#clip2700)\">\n",
       "<text style=\"fill:#000000; fill-opacity:1; font-family:Arial,Helvetica Neue,Helvetica,sans-serif; font-size:48px; text-anchor:end;\" transform=\"rotate(0, 129.898, 1404.11)\" x=\"129.898\" y=\"1404.11\">1.0</text>\n",
       "</g>\n",
       "<g clip-path=\"url(#clip2700)\">\n",
       "<text style=\"fill:#000000; fill-opacity:1; font-family:Arial,Helvetica Neue,Helvetica,sans-serif; font-size:48px; text-anchor:end;\" transform=\"rotate(0, 129.898, 1079.02)\" x=\"129.898\" y=\"1079.02\">1.5</text>\n",
       "</g>\n",
       "<g clip-path=\"url(#clip2700)\">\n",
       "<text style=\"fill:#000000; fill-opacity:1; font-family:Arial,Helvetica Neue,Helvetica,sans-serif; font-size:48px; text-anchor:end;\" transform=\"rotate(0, 129.898, 753.931)\" x=\"129.898\" y=\"753.931\">2.0</text>\n",
       "</g>\n",
       "<g clip-path=\"url(#clip2700)\">\n",
       "<text style=\"fill:#000000; fill-opacity:1; font-family:Arial,Helvetica Neue,Helvetica,sans-serif; font-size:48px; text-anchor:end;\" transform=\"rotate(0, 129.898, 428.843)\" x=\"129.898\" y=\"428.843\">2.5</text>\n",
       "</g>\n",
       "<g clip-path=\"url(#clip2700)\">\n",
       "<text style=\"fill:#000000; fill-opacity:1; font-family:Arial,Helvetica Neue,Helvetica,sans-serif; font-size:48px; text-anchor:end;\" transform=\"rotate(0, 129.898, 103.755)\" x=\"129.898\" y=\"103.755\">3.0</text>\n",
       "</g>\n",
       "<g clip-path=\"url(#clip2700)\">\n",
       "<text style=\"fill:#000000; fill-opacity:1; font-family:Arial,Helvetica Neue,Helvetica,sans-serif; font-size:66px; text-anchor:middle;\" transform=\"rotate(0, 1253.33, 1559.48)\" x=\"1253.33\" y=\"1559.48\">datetime</text>\n",
       "</g>\n",
       "<polyline clip-path=\"url(#clip2702)\" style=\"stroke:#009af9; stroke-width:4; stroke-opacity:1; fill:none\" points=\"\n",
       "  216.13,1386.61 907.595,736.431 1599.06,1386.61 2290.52,86.2547 \n",
       "  \"/>\n",
       "<path clip-path=\"url(#clip2700)\" d=\"\n",
       "M1564.67 251.724 L2280.76 251.724 L2280.76 130.764 L1564.67 130.764  Z\n",
       "  \" fill=\"#ffffff\" fill-rule=\"evenodd\" fill-opacity=\"1\"/>\n",
       "<polyline clip-path=\"url(#clip2700)\" style=\"stroke:#000000; stroke-width:4; stroke-opacity:1; fill:none\" points=\"\n",
       "  1564.67,251.724 2280.76,251.724 2280.76,130.764 1564.67,130.764 1564.67,251.724 \n",
       "  \"/>\n",
       "<polyline clip-path=\"url(#clip2700)\" style=\"stroke:#009af9; stroke-width:4; stroke-opacity:1; fill:none\" points=\"\n",
       "  1588.67,191.244 1732.67,191.244 \n",
       "  \"/>\n",
       "<g clip-path=\"url(#clip2700)\">\n",
       "<text style=\"fill:#000000; fill-opacity:1; font-family:Arial,Helvetica Neue,Helvetica,sans-serif; font-size:48px; text-anchor:start;\" transform=\"rotate(0, 1756.67, 208.744)\" x=\"1756.67\" y=\"208.744\">meter_primreturntemp</text>\n",
       "</g>\n",
       "</svg>\n"
      ]
     },
     "execution_count": 54,
     "metadata": {},
     "output_type": "execute_result"
    }
   ],
   "source": [
    "Plots.plot([1, 2, 3, 4], [1, 2, 1, 3], xlabel = :datetime, label = sensor_name)"
   ]
  },
  {
   "cell_type": "code",
   "execution_count": null,
   "metadata": {},
   "outputs": [],
   "source": []
  }
 ],
 "metadata": {
  "kernelspec": {
   "display_name": "Julia 1.2.0",
   "language": "julia",
   "name": "julia-1.2"
  },
  "language_info": {
   "file_extension": ".jl",
   "mimetype": "application/julia",
   "name": "julia",
   "version": "1.2.0"
  }
 },
 "nbformat": 4,
 "nbformat_minor": 4
}
