{
 "cells": [
  {
   "cell_type": "code",
   "execution_count": 2,
   "metadata": {},
   "outputs": [],
   "source": [
    "# Example use of the Sonic module Sputnik.jl"
   ]
  },
  {
   "cell_type": "markdown",
   "metadata": {},
   "source": [
    "See https://julialang.org, https://juliadb.org and https://juliastats.org for reference."
   ]
  },
  {
   "cell_type": "code",
   "execution_count": null,
   "metadata": {},
   "outputs": [],
   "source": [
    "import Pkg                      # package manager\n",
    "Pkg.activate(\"..\")              # Project.toml\n",
    "Pkg.instantiate()               # https://julialang.github.io/Pkg.jl/v1.0/index.html"
   ]
  },
  {
   "cell_type": "code",
   "execution_count": null,
   "metadata": {},
   "outputs": [],
   "source": [
    "import Dates, JuliaDB, Random, StatsPlots"
   ]
  },
  {
   "cell_type": "code",
   "execution_count": null,
   "metadata": {},
   "outputs": [],
   "source": [
    "using StatsPlots\n",
    "ENV[\"GKSwstype\"] = \"100\"\n",
    "gr(fmt = :png)"
   ]
  },
  {
   "cell_type": "code",
   "execution_count": null,
   "metadata": {},
   "outputs": [],
   "source": [
    "include(\"../src/Linckii.jl\")\n",
    "include(\"../src/LinckiiSecrets.jl\")\n",
    "include(\"../src/Sputnik.jl\")"
   ]
  },
  {
   "cell_type": "code",
   "execution_count": null,
   "metadata": {},
   "outputs": [],
   "source": [
    "access = Linckii.get_access(LinckiiSecrets.keab)"
   ]
  },
  {
   "cell_type": "markdown",
   "metadata": {},
   "source": [
    "Load site,"
   ]
  },
  {
   "cell_type": "code",
   "execution_count": null,
   "metadata": {},
   "outputs": [],
   "source": [
    "@time site = Linckii.loadsite(access, :nodes, :devices, :sensors)\n",
    "()"
   ]
  },
  {
   "cell_type": "code",
   "execution_count": null,
   "metadata": {},
   "outputs": [],
   "source": [
    "device_name = Linckii.get_cref(site.devices, :device_id, :device_name)\n",
    "device_id   = Linckii.get_cref(site.devices, :device_name, :device_id)\n",
    "()"
   ]
  },
  {
   "cell_type": "code",
   "execution_count": null,
   "metadata": {},
   "outputs": [],
   "source": [
    "sensor_name = Linckii.get_cref(site.sensors, :sensor_id, :sensor_name)\n",
    "sensor_id   = Linckii.get_cref(site.sensors, :sensor_name, :sensor_id)\n",
    "()"
   ]
  },
  {
   "cell_type": "markdown",
   "metadata": {},
   "source": [
    "Select data,"
   ]
  },
  {
   "cell_type": "code",
   "execution_count": null,
   "metadata": {},
   "outputs": [],
   "source": [
    "selected_sensor_names = Dict(\n",
    "    device_id[\"Kelp-Basic\"] => [\n",
    "        :meter_effect,\n",
    "        :meter_heatenergy,\n",
    "        :meter_primreturntemp,\n",
    "        :meter_primsupplytemp,\n",
    "        :meter_volume,\n",
    "        :meter_volumeflow,\n",
    "        :outdoortemp,\n",
    "        :outdoortemp_offset,\n",
    "    ],\n",
    ")"
   ]
  },
  {
   "cell_type": "code",
   "execution_count": null,
   "metadata": {},
   "outputs": [],
   "source": [
    "selected_nodes = JuliaDB.filter(\n",
    "    r -> (\n",
    "        r.device_id in keys(selected_sensor_names) &&\n",
    "        Set(sensor_name[r_sensor_id] for r_sensor_id in r.sensor_ids) >=\n",
    "        Set(selected_sensor_names[r.device_id])\n",
    "    ),\n",
    "    site.nodes,\n",
    ")"
   ]
  },
  {
   "cell_type": "markdown",
   "metadata": {},
   "source": [
    "Load data,"
   ]
  },
  {
   "cell_type": "code",
   "execution_count": null,
   "metadata": {},
   "outputs": [],
   "source": [
    "rs = JuliaDB.rows(selected_nodes)\n",
    "if true\n",
    "    rs = [(node_id = 93, device_id = 4)] # [rs[Random.rand(1 : end)]]\n",
    "end\n",
    "data = Dict()\n",
    "@time for r in rs\n",
    "    filepath = \"$(Linckii.datapath(access, r.node_id)).db\"\n",
    "    try\n",
    "        data[r.node_id] = JuliaDB.load(filepath)\n",
    "        println(\"$(filepath): Done\")\n",
    "    catch e\n",
    "        println(\"$(filepath): $(e)\")\n",
    "    end\n",
    "end"
   ]
  },
  {
   "cell_type": "code",
   "execution_count": null,
   "metadata": {},
   "outputs": [],
   "source": [
    "# list different things to compute and plot across the selected substations"
   ]
  },
  {
   "cell_type": "code",
   "execution_count": null,
   "metadata": {},
   "outputs": [],
   "source": []
  },
  {
   "cell_type": "code",
   "execution_count": null,
   "metadata": {},
   "outputs": [],
   "source": []
  }
 ],
 "metadata": {
  "kernelspec": {
   "display_name": "Julia 1.3.0",
   "language": "julia",
   "name": "julia-1.3"
  },
  "language_info": {
   "file_extension": ".jl",
   "mimetype": "application/julia",
   "name": "julia",
   "version": "1.3.0"
  }
 },
 "nbformat": 4,
 "nbformat_minor": 4
}
