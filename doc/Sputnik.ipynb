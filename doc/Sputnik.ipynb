{
 "cells": [
  {
   "cell_type": "code",
   "execution_count": 1,
   "metadata": {},
   "outputs": [],
   "source": [
    "# Example use of the Sonic module Sputnik.jl"
   ]
  },
  {
   "cell_type": "markdown",
   "metadata": {},
   "source": [
    "See https://julialang.org, https://juliadb.org and https://juliastats.org for reference."
   ]
  },
  {
   "cell_type": "code",
   "execution_count": 2,
   "metadata": {},
   "outputs": [
    {
     "name": "stdout",
     "output_type": "stream",
     "text": [
      "\u001b[32m\u001b[1mActivating\u001b[22m\u001b[39m environment at `~/Documents/Calendar/Work/Noda/Code/Sonic.jl/Project.toml`\n"
     ]
    }
   ],
   "source": [
    "import Pkg                      # package manager\n",
    "Pkg.activate(\"..\")              # Project.toml\n",
    "Pkg.instantiate()               # https://julialang.github.io/Pkg.jl/v1.0/index.html"
   ]
  },
  {
   "cell_type": "code",
   "execution_count": 3,
   "metadata": {},
   "outputs": [],
   "source": [
    "import Dates, JuliaDB, Random, StatsPlots"
   ]
  },
  {
   "cell_type": "code",
   "execution_count": 4,
   "metadata": {},
   "outputs": [
    {
     "data": {
      "text/plain": [
       "Plots.GRBackend()"
      ]
     },
     "execution_count": 4,
     "metadata": {},
     "output_type": "execute_result"
    }
   ],
   "source": [
    "using StatsPlots\n",
    "ENV[\"GKSwstype\"] = \"100\"\n",
    "gr(fmt = :png)"
   ]
  },
  {
   "cell_type": "markdown",
   "metadata": {},
   "source": [
    "Get secret token,"
   ]
  },
  {
   "cell_type": "code",
   "execution_count": 5,
   "metadata": {},
   "outputs": [
    {
     "data": {
      "text/plain": [
       "(url = \"https://canary.noda.se/~keab\", key = \"e86d93131e6bc12ae701d036e696cf8b\")"
      ]
     },
     "execution_count": 5,
     "metadata": {},
     "output_type": "execute_result"
    }
   ],
   "source": [
    "include(\"../src/LinckiiSecrets.jl\")\n",
    "secret = LinckiiSecrets.keab"
   ]
  },
  {
   "cell_type": "code",
   "execution_count": 6,
   "metadata": {},
   "outputs": [
    {
     "data": {
      "text/plain": [
       "Main.Sputnik"
      ]
     },
     "execution_count": 6,
     "metadata": {},
     "output_type": "execute_result"
    }
   ],
   "source": [
    "include(\"../src/Linckii.jl\")\n",
    "include(\"../src/Sputnik.jl\")"
   ]
  },
  {
   "cell_type": "markdown",
   "metadata": {},
   "source": [
    "Load site,"
   ]
  },
  {
   "cell_type": "code",
   "execution_count": 7,
   "metadata": {},
   "outputs": [
    {
     "name": "stdout",
     "output_type": "stream",
     "text": [
      " 28.736444 seconds (25.10 M allocations: 1.683 GiB, 1.62% gc time)\n"
     ]
    },
    {
     "data": {
      "text/plain": [
       "(nodes = 279, devices = 11, sensors = 175)"
      ]
     },
     "execution_count": 7,
     "metadata": {},
     "output_type": "execute_result"
    }
   ],
   "source": [
    "@time site = Linckii.loadsite(secret, :nodes, :devices, :sensors)\n",
    "map(length, site)"
   ]
  },
  {
   "cell_type": "markdown",
   "metadata": {},
   "source": [
    "Specify patterns,"
   ]
  },
  {
   "cell_type": "code",
   "execution_count": 8,
   "metadata": {},
   "outputs": [
    {
     "data": {
      "text/plain": [
       "Dict{Int64,Dict{Symbol,V} where V} with 2 entries:\n",
       "  4 => Dict{Symbol,Function}(:meter_primreturntemp=>#9,:meter_effect=>#9,:outdo…\n",
       "  6 => Dict(:cloudiness=>#9,:outdoortemp=>#9,:wind_direction=>#9,:wind_speed=>#…"
      ]
     },
     "execution_count": 8,
     "metadata": {},
     "output_type": "execute_result"
    }
   ],
   "source": [
    "p, q = Dates.Minute(15), Dates.Minute(4 * 4 * 15)\n",
    "pp0 = rows -> Nodosus.preprocess0(rows, p, q)\n",
    "pp1 = rows -> Nodosus.preprocess1(rows, p, q)\n",
    "pp2 = rows -> Nodosus.preprocess2(rows, p, q)\n",
    "patterns = Dict(\n",
    "    4 => Dict(\n",
    "        :meter_effect           => pp1,\n",
    "        :meter_heatenergy       => pp2,\n",
    "        :meter_primreturntemp   => pp1,\n",
    "        :meter_primsupplytemp   => pp1,\n",
    "        :meter_volume           => pp2,\n",
    "        :meter_volumeflow       => pp1,\n",
    "        :outdoortemp            => pp1,\n",
    "        :outdoortemp_offset     => pp0,\n",
    "    ),\n",
    "    6 => Dict(\n",
    "        :cloudiness             => pp1,\n",
    "        :outdoortemp            => pp1,\n",
    "        :wind_direction         => pp1,\n",
    "        :wind_speed             => pp1,\n",
    "    ),\n",
    ")"
   ]
  },
  {
   "cell_type": "markdown",
   "metadata": {},
   "source": [
    "Get pattern nodes,"
   ]
  },
  {
   "cell_type": "code",
   "execution_count": 13,
   "metadata": {},
   "outputs": [
    {
     "data": {
      "text/plain": [
       "2-element Array{NamedTuple{(:node_id, :device_id),Tuple{Int64,Int64}},1}:\n",
       " (node_id = 62, device_id = 4)\n",
       " (node_id = 93, device_id = 4)"
      ]
     },
     "execution_count": 13,
     "metadata": {},
     "output_type": "execute_result"
    }
   ],
   "source": [
    "rs = JuliaDB.rows(Linckii.get_pattern_nodes(patterns; site...))\n",
    "if true\n",
    "    rs = [(node_id = 62, device_id = 4), (node_id = 93, device_id = 4)] # [rs[Random.rand(1 : end)]]\n",
    "end"
   ]
  },
  {
   "cell_type": "markdown",
   "metadata": {},
   "source": [
    "Load data,"
   ]
  },
  {
   "cell_type": "code",
   "execution_count": 14,
   "metadata": {},
   "outputs": [
    {
     "data": {
      "text/plain": [
       "Dict{Any,Any} with 0 entries"
      ]
     },
     "execution_count": 14,
     "metadata": {},
     "output_type": "execute_result"
    }
   ],
   "source": [
    "data = Dict()"
   ]
  },
  {
   "cell_type": "code",
   "execution_count": 16,
   "metadata": {},
   "outputs": [
    {
     "name": "stdout",
     "output_type": "stream",
     "text": [
      "db/linckii/~keab/data/62.db: Done\n",
      "db/linckii/~keab/data/93.db: Done\n",
      "  9.050311 seconds (9.02 M allocations: 550.692 MiB, 1.43% gc time)\n"
     ]
    }
   ],
   "source": [
    "@time for r in rs\n",
    "    p = Linckii.urlpath(secret)\n",
    "    p = Linckii.db_path(p, \"data\"; db = r.node_id)\n",
    "    try\n",
    "        data[r.node_id] = JuliaDB.load(p)\n",
    "        println(\"$(p): Done\")\n",
    "    catch e\n",
    "        println(\"$(p): $(e)\")\n",
    "    end\n",
    "end"
   ]
  },
  {
   "cell_type": "markdown",
   "metadata": {},
   "source": [
    "## HEKA\n",
    "* Primary differential temperature \n",
    "* Volume weighted primary differential temperature\n",
    "* Primary return temperature\n",
    "* Volume weighted primary return temperature\n",
    "* Volume per energy\n",
    "* Overflow\n",
    "* Balance temperature \n",
    "* Domestic hot water quota\n",
    "* Energy signature"
   ]
  },
  {
   "cell_type": "code",
   "execution_count": null,
   "metadata": {},
   "outputs": [],
   "source": []
  }
 ],
 "metadata": {
  "kernelspec": {
   "display_name": "Julia 1.3.0",
   "language": "julia",
   "name": "julia-1.3"
  },
  "language_info": {
   "file_extension": ".jl",
   "mimetype": "application/julia",
   "name": "julia",
   "version": "1.3.0"
  }
 },
 "nbformat": 4,
 "nbformat_minor": 4
}
